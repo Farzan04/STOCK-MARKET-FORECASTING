{
 "cells": [
  {
   "cell_type": "markdown",
   "id": "489044b3",
   "metadata": {},
   "source": [
    "+ In This File we have used Scaled dataset for our models\n",
    "+ Models in this file are listed below\n",
    "    + 1). Exponential Smoothing Model\n",
    "    + 2). Prophet Model\n",
    "    + 3). Auto Ensemble Model(in it we have used Exponential Smoothing Model and Prophet Model)"
   ]
  },
  {
   "cell_type": "code",
   "execution_count": 1,
   "id": "9e0843a5",
   "metadata": {},
   "outputs": [],
   "source": [
    "import shutup\n",
    "shutup.please()"
   ]
  },
  {
   "cell_type": "code",
   "execution_count": 2,
   "id": "bc4370f4",
   "metadata": {},
   "outputs": [],
   "source": [
    "import pandas as pd\n",
    "import numpy as np\n",
    "import matplotlib.pyplot as plt\n",
    "import seaborn as sns\n",
    "import plotly\n",
    "import plotly.offline as py\n",
    "import plotly.graph_objects as go\n",
    "\n",
    "%matplotlib inline"
   ]
  },
  {
   "cell_type": "code",
   "execution_count": 3,
   "id": "f2fc927e",
   "metadata": {},
   "outputs": [],
   "source": [
    "import plotly.io as pio\n",
    "# For interactive graph Uncomment \" pio.renderers.default = 'notebook' \" and and comment \" pio.renderers.default = 'png' \"\n",
    "# And then rerun the file on Jupyter Notebook\n",
    "\n",
    "\n",
    "# pio.renderers.default = 'notebook'\n",
    "pio.renderers.default = 'png'"
   ]
  },
  {
   "cell_type": "code",
   "execution_count": 4,
   "id": "4b0e9b77",
   "metadata": {},
   "outputs": [
    {
     "data": {
      "text/html": [
       "<div>\n",
       "<style scoped>\n",
       "    .dataframe tbody tr th:only-of-type {\n",
       "        vertical-align: middle;\n",
       "    }\n",
       "\n",
       "    .dataframe tbody tr th {\n",
       "        vertical-align: top;\n",
       "    }\n",
       "\n",
       "    .dataframe thead th {\n",
       "        text-align: right;\n",
       "    }\n",
       "</style>\n",
       "<table border=\"1\" class=\"dataframe\">\n",
       "  <thead>\n",
       "    <tr style=\"text-align: right;\">\n",
       "      <th></th>\n",
       "      <th>Open</th>\n",
       "      <th>High</th>\n",
       "      <th>Low</th>\n",
       "      <th>Close</th>\n",
       "      <th>Volume</th>\n",
       "      <th>Dividends</th>\n",
       "      <th>Stock Splits</th>\n",
       "    </tr>\n",
       "    <tr>\n",
       "      <th>Date</th>\n",
       "      <th></th>\n",
       "      <th></th>\n",
       "      <th></th>\n",
       "      <th></th>\n",
       "      <th></th>\n",
       "      <th></th>\n",
       "      <th></th>\n",
       "    </tr>\n",
       "  </thead>\n",
       "  <tbody>\n",
       "    <tr>\n",
       "      <th>2011-01-03</th>\n",
       "      <td>3315.502203</td>\n",
       "      <td>3334.762854</td>\n",
       "      <td>3282.076883</td>\n",
       "      <td>3313.040771</td>\n",
       "      <td>5256</td>\n",
       "      <td>0.0</td>\n",
       "      <td>0</td>\n",
       "    </tr>\n",
       "    <tr>\n",
       "      <th>2011-01-04</th>\n",
       "      <td>3312.306145</td>\n",
       "      <td>3368.360472</td>\n",
       "      <td>3282.076493</td>\n",
       "      <td>3361.191895</td>\n",
       "      <td>21916</td>\n",
       "      <td>0.0</td>\n",
       "      <td>0</td>\n",
       "    </tr>\n",
       "    <tr>\n",
       "      <th>2011-01-05</th>\n",
       "      <td>3345.990545</td>\n",
       "      <td>3398.633281</td>\n",
       "      <td>3330.875719</td>\n",
       "      <td>3369.267334</td>\n",
       "      <td>32381</td>\n",
       "      <td>0.0</td>\n",
       "      <td>0</td>\n",
       "    </tr>\n",
       "    <tr>\n",
       "      <th>2011-01-06</th>\n",
       "      <td>3368.447209</td>\n",
       "      <td>3410.768726</td>\n",
       "      <td>3286.395290</td>\n",
       "      <td>3311.270020</td>\n",
       "      <td>16829</td>\n",
       "      <td>0.0</td>\n",
       "      <td>0</td>\n",
       "    </tr>\n",
       "    <tr>\n",
       "      <th>2011-01-07</th>\n",
       "      <td>3290.713555</td>\n",
       "      <td>3342.535815</td>\n",
       "      <td>3257.892789</td>\n",
       "      <td>3273.396240</td>\n",
       "      <td>30854</td>\n",
       "      <td>0.0</td>\n",
       "      <td>0</td>\n",
       "    </tr>\n",
       "  </tbody>\n",
       "</table>\n",
       "</div>"
      ],
      "text/plain": [
       "                   Open         High          Low        Close  Volume  \\\n",
       "Date                                                                     \n",
       "2011-01-03  3315.502203  3334.762854  3282.076883  3313.040771    5256   \n",
       "2011-01-04  3312.306145  3368.360472  3282.076493  3361.191895   21916   \n",
       "2011-01-05  3345.990545  3398.633281  3330.875719  3369.267334   32381   \n",
       "2011-01-06  3368.447209  3410.768726  3286.395290  3311.270020   16829   \n",
       "2011-01-07  3290.713555  3342.535815  3257.892789  3273.396240   30854   \n",
       "\n",
       "            Dividends  Stock Splits  \n",
       "Date                                 \n",
       "2011-01-03        0.0             0  \n",
       "2011-01-04        0.0             0  \n",
       "2011-01-05        0.0             0  \n",
       "2011-01-06        0.0             0  \n",
       "2011-01-07        0.0             0  "
      ]
     },
     "execution_count": 4,
     "metadata": {},
     "output_type": "execute_result"
    }
   ],
   "source": [
    "# Extract Data from yfinance\n",
    "import yfinance as yf\n",
    "import datetime as dttm\n",
    "\n",
    "startDate = dttm.datetime(2011, 1, 1)\n",
    "endDate = dttm.datetime(2022, 7, 1)\n",
    "\n",
    "GetData = yf.Ticker(\"NESTLEIND.NS\")\n",
    "# print(GetData.history(start=startDate, end=endDate))\n",
    "\n",
    "yf_data = pd.DataFrame(GetData.history(start=startDate, end=endDate))\n",
    "yf_data.head()"
   ]
  },
  {
   "cell_type": "code",
   "execution_count": 5,
   "id": "2ba6d565",
   "metadata": {},
   "outputs": [
    {
     "data": {
      "text/html": [
       "<div>\n",
       "<style scoped>\n",
       "    .dataframe tbody tr th:only-of-type {\n",
       "        vertical-align: middle;\n",
       "    }\n",
       "\n",
       "    .dataframe tbody tr th {\n",
       "        vertical-align: top;\n",
       "    }\n",
       "\n",
       "    .dataframe thead th {\n",
       "        text-align: right;\n",
       "    }\n",
       "</style>\n",
       "<table border=\"1\" class=\"dataframe\">\n",
       "  <thead>\n",
       "    <tr style=\"text-align: right;\">\n",
       "      <th></th>\n",
       "      <th>Open</th>\n",
       "      <th>High</th>\n",
       "      <th>Low</th>\n",
       "      <th>Close</th>\n",
       "      <th>Volume</th>\n",
       "      <th>Dividends</th>\n",
       "      <th>Stock Splits</th>\n",
       "    </tr>\n",
       "    <tr>\n",
       "      <th>Date</th>\n",
       "      <th></th>\n",
       "      <th></th>\n",
       "      <th></th>\n",
       "      <th></th>\n",
       "      <th></th>\n",
       "      <th></th>\n",
       "      <th></th>\n",
       "    </tr>\n",
       "  </thead>\n",
       "  <tbody>\n",
       "    <tr>\n",
       "      <th>2011-01-03</th>\n",
       "      <td>3315.502203</td>\n",
       "      <td>3334.762854</td>\n",
       "      <td>3282.076883</td>\n",
       "      <td>3313.040771</td>\n",
       "      <td>5256.0</td>\n",
       "      <td>0.0</td>\n",
       "      <td>0.0</td>\n",
       "    </tr>\n",
       "    <tr>\n",
       "      <th>2011-01-04</th>\n",
       "      <td>3312.306145</td>\n",
       "      <td>3368.360472</td>\n",
       "      <td>3282.076493</td>\n",
       "      <td>3361.191895</td>\n",
       "      <td>21916.0</td>\n",
       "      <td>0.0</td>\n",
       "      <td>0.0</td>\n",
       "    </tr>\n",
       "    <tr>\n",
       "      <th>2011-01-05</th>\n",
       "      <td>3345.990545</td>\n",
       "      <td>3398.633281</td>\n",
       "      <td>3330.875719</td>\n",
       "      <td>3369.267334</td>\n",
       "      <td>32381.0</td>\n",
       "      <td>0.0</td>\n",
       "      <td>0.0</td>\n",
       "    </tr>\n",
       "    <tr>\n",
       "      <th>2011-01-06</th>\n",
       "      <td>3368.447209</td>\n",
       "      <td>3410.768726</td>\n",
       "      <td>3286.395290</td>\n",
       "      <td>3311.270020</td>\n",
       "      <td>16829.0</td>\n",
       "      <td>0.0</td>\n",
       "      <td>0.0</td>\n",
       "    </tr>\n",
       "    <tr>\n",
       "      <th>2011-01-07</th>\n",
       "      <td>3290.713555</td>\n",
       "      <td>3342.535815</td>\n",
       "      <td>3257.892789</td>\n",
       "      <td>3273.396240</td>\n",
       "      <td>30854.0</td>\n",
       "      <td>0.0</td>\n",
       "      <td>0.0</td>\n",
       "    </tr>\n",
       "  </tbody>\n",
       "</table>\n",
       "</div>"
      ],
      "text/plain": [
       "                   Open         High          Low        Close   Volume  \\\n",
       "Date                                                                      \n",
       "2011-01-03  3315.502203  3334.762854  3282.076883  3313.040771   5256.0   \n",
       "2011-01-04  3312.306145  3368.360472  3282.076493  3361.191895  21916.0   \n",
       "2011-01-05  3345.990545  3398.633281  3330.875719  3369.267334  32381.0   \n",
       "2011-01-06  3368.447209  3410.768726  3286.395290  3311.270020  16829.0   \n",
       "2011-01-07  3290.713555  3342.535815  3257.892789  3273.396240  30854.0   \n",
       "\n",
       "            Dividends  Stock Splits  \n",
       "Date                                 \n",
       "2011-01-03        0.0           0.0  \n",
       "2011-01-04        0.0           0.0  \n",
       "2011-01-05        0.0           0.0  \n",
       "2011-01-06        0.0           0.0  \n",
       "2011-01-07        0.0           0.0  "
      ]
     },
     "execution_count": 5,
     "metadata": {},
     "output_type": "execute_result"
    }
   ],
   "source": [
    "data = yf_data.copy()\n",
    "data = data.asfreq('B')\n",
    "data.head()"
   ]
  },
  {
   "cell_type": "code",
   "execution_count": 6,
   "id": "75c53d6f",
   "metadata": {},
   "outputs": [
    {
     "data": {
      "text/plain": [
       "(2999, 7)"
      ]
     },
     "execution_count": 6,
     "metadata": {},
     "output_type": "execute_result"
    }
   ],
   "source": [
    "data.shape"
   ]
  },
  {
   "cell_type": "code",
   "execution_count": 7,
   "id": "c0e0c3b5",
   "metadata": {},
   "outputs": [],
   "source": [
    "data.ffill(inplace=True)"
   ]
  },
  {
   "cell_type": "code",
   "execution_count": 8,
   "id": "0ddfebc8",
   "metadata": {},
   "outputs": [
    {
     "data": {
      "text/plain": [
       "Open            0\n",
       "High            0\n",
       "Low             0\n",
       "Close           0\n",
       "Volume          0\n",
       "Dividends       0\n",
       "Stock Splits    0\n",
       "dtype: int64"
      ]
     },
     "execution_count": 8,
     "metadata": {},
     "output_type": "execute_result"
    }
   ],
   "source": [
    "data.isnull().sum()"
   ]
  },
  {
   "cell_type": "code",
   "execution_count": 9,
   "id": "77c84547",
   "metadata": {},
   "outputs": [
    {
     "data": {
      "text/html": [
       "<div>\n",
       "<style scoped>\n",
       "    .dataframe tbody tr th:only-of-type {\n",
       "        vertical-align: middle;\n",
       "    }\n",
       "\n",
       "    .dataframe tbody tr th {\n",
       "        vertical-align: top;\n",
       "    }\n",
       "\n",
       "    .dataframe thead th {\n",
       "        text-align: right;\n",
       "    }\n",
       "</style>\n",
       "<table border=\"1\" class=\"dataframe\">\n",
       "  <thead>\n",
       "    <tr style=\"text-align: right;\">\n",
       "      <th></th>\n",
       "      <th>Close</th>\n",
       "    </tr>\n",
       "    <tr>\n",
       "      <th>Date</th>\n",
       "      <th></th>\n",
       "    </tr>\n",
       "  </thead>\n",
       "  <tbody>\n",
       "    <tr>\n",
       "      <th>2011-01-03</th>\n",
       "      <td>3313.040771</td>\n",
       "    </tr>\n",
       "    <tr>\n",
       "      <th>2011-01-04</th>\n",
       "      <td>3361.191895</td>\n",
       "    </tr>\n",
       "    <tr>\n",
       "      <th>2011-01-05</th>\n",
       "      <td>3369.267334</td>\n",
       "    </tr>\n",
       "    <tr>\n",
       "      <th>2011-01-06</th>\n",
       "      <td>3311.270020</td>\n",
       "    </tr>\n",
       "    <tr>\n",
       "      <th>2011-01-07</th>\n",
       "      <td>3273.396240</td>\n",
       "    </tr>\n",
       "  </tbody>\n",
       "</table>\n",
       "</div>"
      ],
      "text/plain": [
       "                  Close\n",
       "Date                   \n",
       "2011-01-03  3313.040771\n",
       "2011-01-04  3361.191895\n",
       "2011-01-05  3369.267334\n",
       "2011-01-06  3311.270020\n",
       "2011-01-07  3273.396240"
      ]
     },
     "execution_count": 9,
     "metadata": {},
     "output_type": "execute_result"
    }
   ],
   "source": [
    "final_data = pd.DataFrame(data.Close)\n",
    "final_data.head()"
   ]
  },
  {
   "cell_type": "code",
   "execution_count": 10,
   "id": "5d192418",
   "metadata": {},
   "outputs": [],
   "source": [
    "n =final_data['2020-01-01':'2022-06-30'].count()"
   ]
  },
  {
   "cell_type": "code",
   "execution_count": 11,
   "id": "5c04a9ea",
   "metadata": {},
   "outputs": [
    {
     "data": {
      "text/plain": [
       "((2347, 1), (652, 1))"
      ]
     },
     "execution_count": 11,
     "metadata": {},
     "output_type": "execute_result"
    }
   ],
   "source": [
    "train_data = final_data.iloc[:len(final_data)-652] \n",
    "test_data = final_data.iloc[len(final_data)-652:]\n",
    "train_data.shape, test_data.shape"
   ]
  },
  {
   "cell_type": "code",
   "execution_count": 12,
   "id": "7d3e98c8",
   "metadata": {},
   "outputs": [
    {
     "data": {
      "text/plain": [
       "(                   Close\n",
       " Date                    \n",
       " 2020-01-01  14215.090820\n",
       " 2020-01-02  14167.287109\n",
       " 2020-01-03  14036.717773\n",
       " 2020-01-06  13866.520508\n",
       " 2020-01-07  13745.424805\n",
       " ...                  ...\n",
       " 2022-06-24  17231.650391\n",
       " 2022-06-27  17358.250000\n",
       " 2022-06-28  17403.900391\n",
       " 2022-06-29  17499.050781\n",
       " 2022-06-30  17470.000000\n",
       " \n",
       " [652 rows x 1 columns],\n",
       "                    Close\n",
       " Date                    \n",
       " 2011-01-03   3313.040771\n",
       " 2011-01-04   3361.191895\n",
       " 2011-01-05   3369.267334\n",
       " 2011-01-06   3311.270020\n",
       " 2011-01-07   3273.396240\n",
       " ...                  ...\n",
       " 2019-12-25  14029.409180\n",
       " 2019-12-26  14042.151367\n",
       " 2019-12-27  14104.578125\n",
       " 2019-12-30  14285.162109\n",
       " 2019-12-31  14221.151367\n",
       " \n",
       " [2347 rows x 1 columns])"
      ]
     },
     "execution_count": 12,
     "metadata": {},
     "output_type": "execute_result"
    }
   ],
   "source": [
    "test_data, train_data"
   ]
  },
  {
   "cell_type": "code",
   "execution_count": 13,
   "id": "0c450e05",
   "metadata": {},
   "outputs": [],
   "source": [
    "from sklearn.metrics import mean_squared_error\n",
    "\n",
    "def error(data1, data2):\n",
    "    mse = mean_squared_error(data1, data2)\n",
    "    rmse = np.sqrt(mse)\n",
    "    \n",
    "    print('Errors :-')\n",
    "    print('MSE : ',mse)\n",
    "    print('RMSE : ',rmse,'\\n')\n",
    "    return mse, rmse"
   ]
  },
  {
   "cell_type": "markdown",
   "id": "c8d5aa31",
   "metadata": {},
   "source": [
    "# Data Transformation"
   ]
  },
  {
   "cell_type": "code",
   "execution_count": 14,
   "id": "b67e6eb8",
   "metadata": {},
   "outputs": [],
   "source": [
    "from sklearn.preprocessing import MinMaxScaler"
   ]
  },
  {
   "cell_type": "code",
   "execution_count": 15,
   "id": "bae0b5ac",
   "metadata": {},
   "outputs": [],
   "source": [
    "scaler = MinMaxScaler(feature_range=(0.001,1))\n",
    "train_data_minmax = scaler.fit_transform(np.array(train_data).reshape(-1,1))"
   ]
  },
  {
   "cell_type": "code",
   "execution_count": 16,
   "id": "652989f2",
   "metadata": {},
   "outputs": [
    {
     "data": {
      "text/plain": [
       "array([[0.04812572],\n",
       "       [0.05226311],\n",
       "       [0.05295699],\n",
       "       ...,\n",
       "       [0.97538763],\n",
       "       [0.99090429],\n",
       "       [0.98540418]])"
      ]
     },
     "execution_count": 16,
     "metadata": {},
     "output_type": "execute_result"
    }
   ],
   "source": [
    "train_data_minmax"
   ]
  },
  {
   "cell_type": "code",
   "execution_count": 17,
   "id": "71caaa0f",
   "metadata": {},
   "outputs": [
    {
     "data": {
      "text/html": [
       "<div>\n",
       "<style scoped>\n",
       "    .dataframe tbody tr th:only-of-type {\n",
       "        vertical-align: middle;\n",
       "    }\n",
       "\n",
       "    .dataframe tbody tr th {\n",
       "        vertical-align: top;\n",
       "    }\n",
       "\n",
       "    .dataframe thead th {\n",
       "        text-align: right;\n",
       "    }\n",
       "</style>\n",
       "<table border=\"1\" class=\"dataframe\">\n",
       "  <thead>\n",
       "    <tr style=\"text-align: right;\">\n",
       "      <th></th>\n",
       "      <th>close</th>\n",
       "    </tr>\n",
       "  </thead>\n",
       "  <tbody>\n",
       "    <tr>\n",
       "      <th>0</th>\n",
       "      <td>0.048126</td>\n",
       "    </tr>\n",
       "    <tr>\n",
       "      <th>1</th>\n",
       "      <td>0.052263</td>\n",
       "    </tr>\n",
       "    <tr>\n",
       "      <th>2</th>\n",
       "      <td>0.052957</td>\n",
       "    </tr>\n",
       "    <tr>\n",
       "      <th>3</th>\n",
       "      <td>0.047974</td>\n",
       "    </tr>\n",
       "    <tr>\n",
       "      <th>4</th>\n",
       "      <td>0.044719</td>\n",
       "    </tr>\n",
       "    <tr>\n",
       "      <th>...</th>\n",
       "      <td>...</td>\n",
       "    </tr>\n",
       "    <tr>\n",
       "      <th>2342</th>\n",
       "      <td>0.968929</td>\n",
       "    </tr>\n",
       "    <tr>\n",
       "      <th>2343</th>\n",
       "      <td>0.970024</td>\n",
       "    </tr>\n",
       "    <tr>\n",
       "      <th>2344</th>\n",
       "      <td>0.975388</td>\n",
       "    </tr>\n",
       "    <tr>\n",
       "      <th>2345</th>\n",
       "      <td>0.990904</td>\n",
       "    </tr>\n",
       "    <tr>\n",
       "      <th>2346</th>\n",
       "      <td>0.985404</td>\n",
       "    </tr>\n",
       "  </tbody>\n",
       "</table>\n",
       "<p>2347 rows × 1 columns</p>\n",
       "</div>"
      ],
      "text/plain": [
       "         close\n",
       "0     0.048126\n",
       "1     0.052263\n",
       "2     0.052957\n",
       "3     0.047974\n",
       "4     0.044719\n",
       "...        ...\n",
       "2342  0.968929\n",
       "2343  0.970024\n",
       "2344  0.975388\n",
       "2345  0.990904\n",
       "2346  0.985404\n",
       "\n",
       "[2347 rows x 1 columns]"
      ]
     },
     "execution_count": 17,
     "metadata": {},
     "output_type": "execute_result"
    }
   ],
   "source": [
    "train_data_minmax = pd.DataFrame(train_data_minmax, columns = ['close'])\n",
    "train_data_minmax"
   ]
  },
  {
   "cell_type": "code",
   "execution_count": 18,
   "id": "32845d41",
   "metadata": {},
   "outputs": [],
   "source": [
    "# train_data_min=scaler.inverse_transform(train_data_minmax)"
   ]
  },
  {
   "cell_type": "code",
   "execution_count": 19,
   "id": "31f550ef",
   "metadata": {},
   "outputs": [],
   "source": [
    "# train_data_min = pd.DataFrame(train_data_min, columns = ['close'])\n",
    "# train_data_min"
   ]
  },
  {
   "cell_type": "code",
   "execution_count": 20,
   "id": "ef71da3f",
   "metadata": {},
   "outputs": [],
   "source": [
    "# train_data_minmax.index = train_data.index\n",
    "# train_data_minmax"
   ]
  },
  {
   "cell_type": "code",
   "execution_count": 21,
   "id": "e5fd38d7",
   "metadata": {},
   "outputs": [],
   "source": [
    "# Using plotly.express\n",
    "import plotly.express as px\n",
    "\n",
    "px.defaults.template = \"ggplot2\""
   ]
  },
  {
   "cell_type": "code",
   "execution_count": 22,
   "id": "fe2e6a69",
   "metadata": {},
   "outputs": [
    {
     "data": {
      "image/png": "[encoded data removed]"
     },
     "metadata": {},
     "output_type": "display_data"
    }
   ],
   "source": [
    "fig = px.line(train_data_minmax, y=\"close\")\n",
    "fig.show()"
   ]
  },
  {
   "cell_type": "code",
   "execution_count": 23,
   "id": "c896dac9",
   "metadata": {},
   "outputs": [],
   "source": [
    "# Difference Transformation\n",
    "# def difference(data, interval):\n",
    "#     data1 = data.reset_index()\n",
    "#     dif_data = []\n",
    "#     for i in range(interval, len(data1)):\n",
    "#         d = data1.loc[i] - data1.loc[i - interval]\n",
    "#         dif_data.append(d)\n",
    "        \n",
    "#     dif_data = pd.DataFrame(dif_data, columns = data.columns)\n",
    "#     return dif_data"
   ]
  },
  {
   "cell_type": "code",
   "execution_count": 24,
   "id": "b3b59dce",
   "metadata": {},
   "outputs": [],
   "source": [
    "# dif_data = difference(train_data_minmax, 1)\n",
    "# dif_data"
   ]
  },
  {
   "cell_type": "code",
   "execution_count": 25,
   "id": "ee7ea9d3",
   "metadata": {},
   "outputs": [],
   "source": [
    "# fig = px.line(dif_data, y=\"close\")\n",
    "# fig.show()"
   ]
  },
  {
   "cell_type": "code",
   "execution_count": 26,
   "id": "e4452b2b",
   "metadata": {},
   "outputs": [],
   "source": [
    "# invert difference\n",
    "def invert_difference(org_data_first_value, diff_data, interval):\n",
    "    data1 = diff_data.reset_index()\n",
    "    org_data1 = org_data_first_value\n",
    "    orgnl_data = []\n",
    "    for i in range(interval, len(data1)):\n",
    "        d = diff_data.loc[i-interval] + org_data1\n",
    "        org_data1=d\n",
    "        orgnl_data.append(d)\n",
    "        \n",
    "    orgnl_data = pd.DataFrame(orgnl_data, columns = diff_data.columns)\n",
    "    orgnl_data.index = diff_data.index[:len(orgnl_data)]\n",
    "    return orgnl_data"
   ]
  },
  {
   "cell_type": "code",
   "execution_count": 27,
   "id": "e4024256",
   "metadata": {},
   "outputs": [],
   "source": [
    "#invert_difference(train_data_minmax.loc[0], dif_data, 1)"
   ]
  },
  {
   "cell_type": "code",
   "execution_count": 28,
   "id": "9572ad81",
   "metadata": {},
   "outputs": [],
   "source": [
    "#train_data_minmax"
   ]
  },
  {
   "cell_type": "code",
   "execution_count": 29,
   "id": "71459591",
   "metadata": {},
   "outputs": [
    {
     "data": {
      "text/html": [
       "<div>\n",
       "<style scoped>\n",
       "    .dataframe tbody tr th:only-of-type {\n",
       "        vertical-align: middle;\n",
       "    }\n",
       "\n",
       "    .dataframe tbody tr th {\n",
       "        vertical-align: top;\n",
       "    }\n",
       "\n",
       "    .dataframe thead th {\n",
       "        text-align: right;\n",
       "    }\n",
       "</style>\n",
       "<table border=\"1\" class=\"dataframe\">\n",
       "  <thead>\n",
       "    <tr style=\"text-align: right;\">\n",
       "      <th></th>\n",
       "      <th>close</th>\n",
       "    </tr>\n",
       "    <tr>\n",
       "      <th>Date</th>\n",
       "      <th></th>\n",
       "    </tr>\n",
       "  </thead>\n",
       "  <tbody>\n",
       "    <tr>\n",
       "      <th>2011-01-03</th>\n",
       "      <td>0.048126</td>\n",
       "    </tr>\n",
       "    <tr>\n",
       "      <th>2011-01-04</th>\n",
       "      <td>0.052263</td>\n",
       "    </tr>\n",
       "    <tr>\n",
       "      <th>2011-01-05</th>\n",
       "      <td>0.052957</td>\n",
       "    </tr>\n",
       "    <tr>\n",
       "      <th>2011-01-06</th>\n",
       "      <td>0.047974</td>\n",
       "    </tr>\n",
       "    <tr>\n",
       "      <th>2011-01-07</th>\n",
       "      <td>0.044719</td>\n",
       "    </tr>\n",
       "    <tr>\n",
       "      <th>...</th>\n",
       "      <td>...</td>\n",
       "    </tr>\n",
       "    <tr>\n",
       "      <th>2019-12-25</th>\n",
       "      <td>0.968929</td>\n",
       "    </tr>\n",
       "    <tr>\n",
       "      <th>2019-12-26</th>\n",
       "      <td>0.970024</td>\n",
       "    </tr>\n",
       "    <tr>\n",
       "      <th>2019-12-27</th>\n",
       "      <td>0.975388</td>\n",
       "    </tr>\n",
       "    <tr>\n",
       "      <th>2019-12-30</th>\n",
       "      <td>0.990904</td>\n",
       "    </tr>\n",
       "    <tr>\n",
       "      <th>2019-12-31</th>\n",
       "      <td>0.985404</td>\n",
       "    </tr>\n",
       "  </tbody>\n",
       "</table>\n",
       "<p>2347 rows × 1 columns</p>\n",
       "</div>"
      ],
      "text/plain": [
       "               close\n",
       "Date                \n",
       "2011-01-03  0.048126\n",
       "2011-01-04  0.052263\n",
       "2011-01-05  0.052957\n",
       "2011-01-06  0.047974\n",
       "2011-01-07  0.044719\n",
       "...              ...\n",
       "2019-12-25  0.968929\n",
       "2019-12-26  0.970024\n",
       "2019-12-27  0.975388\n",
       "2019-12-30  0.990904\n",
       "2019-12-31  0.985404\n",
       "\n",
       "[2347 rows x 1 columns]"
      ]
     },
     "execution_count": 29,
     "metadata": {},
     "output_type": "execute_result"
    }
   ],
   "source": [
    "train_data_minmax.index = train_data.index\n",
    "train_data_minmax"
   ]
  },
  {
   "cell_type": "code",
   "execution_count": 30,
   "id": "990217c0",
   "metadata": {},
   "outputs": [],
   "source": [
    "# dif_data.index = train_data.index[1:]\n",
    "# dif_data"
   ]
  },
  {
   "cell_type": "markdown",
   "id": "f4f06606",
   "metadata": {},
   "source": [
    "# Model Building"
   ]
  },
  {
   "cell_type": "code",
   "execution_count": 31,
   "id": "f5de2dc0",
   "metadata": {},
   "outputs": [],
   "source": [
    "from sktime.forecasting.compose import AutoEnsembleForecaster"
   ]
  },
  {
   "cell_type": "code",
   "execution_count": 32,
   "id": "aa19f436",
   "metadata": {},
   "outputs": [],
   "source": [
    "from sktime.forecasting.exp_smoothing import ExponentialSmoothing\n",
    "from sktime.forecasting.fbprophet import Prophet"
   ]
  },
  {
   "cell_type": "code",
   "execution_count": 33,
   "id": "614f2ecd",
   "metadata": {},
   "outputs": [
    {
     "data": {
      "text/html": [
       "<style>#sk-container-id-1 {color: black;background-color: white;}#sk-container-id-1 pre{padding: 0;}#sk-container-id-1 div.sk-toggleable {background-color: white;}#sk-container-id-1 label.sk-toggleable__label {cursor: pointer;display: block;width: 100%;margin-bottom: 0;padding: 0.3em;box-sizing: border-box;text-align: center;}#sk-container-id-1 label.sk-toggleable__label-arrow:before {content: \"▸\";float: left;margin-right: 0.25em;color: #696969;}#sk-container-id-1 label.sk-toggleable__label-arrow:hover:before {color: black;}#sk-container-id-1 div.sk-estimator:hover label.sk-toggleable__label-arrow:before {color: black;}#sk-container-id-1 div.sk-toggleable__content {max-height: 0;max-width: 0;overflow: hidden;text-align: left;background-color: #f0f8ff;}#sk-container-id-1 div.sk-toggleable__content pre {margin: 0.2em;color: black;border-radius: 0.25em;background-color: #f0f8ff;}#sk-container-id-1 input.sk-toggleable__control:checked~div.sk-toggleable__content {max-height: 200px;max-width: 100%;overflow: auto;}#sk-container-id-1 input.sk-toggleable__control:checked~label.sk-toggleable__label-arrow:before {content: \"▾\";}#sk-container-id-1 div.sk-estimator input.sk-toggleable__control:checked~label.sk-toggleable__label {background-color: #d4ebff;}#sk-container-id-1 div.sk-label input.sk-toggleable__control:checked~label.sk-toggleable__label {background-color: #d4ebff;}#sk-container-id-1 input.sk-hidden--visually {border: 0;clip: rect(1px 1px 1px 1px);clip: rect(1px, 1px, 1px, 1px);height: 1px;margin: -1px;overflow: hidden;padding: 0;position: absolute;width: 1px;}#sk-container-id-1 div.sk-estimator {font-family: monospace;background-color: #f0f8ff;border: 1px dotted black;border-radius: 0.25em;box-sizing: border-box;margin-bottom: 0.5em;}#sk-container-id-1 div.sk-estimator:hover {background-color: #d4ebff;}#sk-container-id-1 div.sk-parallel-item::after {content: \"\";width: 100%;border-bottom: 1px solid gray;flex-grow: 1;}#sk-container-id-1 div.sk-label:hover label.sk-toggleable__label {background-color: #d4ebff;}#sk-container-id-1 div.sk-serial::before {content: \"\";position: absolute;border-left: 1px solid gray;box-sizing: border-box;top: 0;bottom: 0;left: 50%;z-index: 0;}#sk-container-id-1 div.sk-serial {display: flex;flex-direction: column;align-items: center;background-color: white;padding-right: 0.2em;padding-left: 0.2em;position: relative;}#sk-container-id-1 div.sk-item {position: relative;z-index: 1;}#sk-container-id-1 div.sk-parallel {display: flex;align-items: stretch;justify-content: center;background-color: white;position: relative;}#sk-container-id-1 div.sk-item::before, #sk-container-id-1 div.sk-parallel-item::before {content: \"\";position: absolute;border-left: 1px solid gray;box-sizing: border-box;top: 0;bottom: 0;left: 50%;z-index: -1;}#sk-container-id-1 div.sk-parallel-item {display: flex;flex-direction: column;z-index: 1;position: relative;background-color: white;}#sk-container-id-1 div.sk-parallel-item:first-child::after {align-self: flex-end;width: 50%;}#sk-container-id-1 div.sk-parallel-item:last-child::after {align-self: flex-start;width: 50%;}#sk-container-id-1 div.sk-parallel-item:only-child::after {width: 0;}#sk-container-id-1 div.sk-dashed-wrapped {border: 1px dashed gray;margin: 0 0.4em 0.5em 0.4em;box-sizing: border-box;padding-bottom: 0.4em;background-color: white;}#sk-container-id-1 div.sk-label label {font-family: monospace;font-weight: bold;display: inline-block;line-height: 1.2em;}#sk-container-id-1 div.sk-label-container {text-align: center;}#sk-container-id-1 div.sk-container {/* jupyter's `normalize.less` sets `[hidden] { display: none; }` but bootstrap.min.css set `[hidden] { display: none !important; }` so we also need the `!important` here to be able to override the default hidden behavior on the sphinx rendered scikit-learn.org. See: https://github.com/scikit-learn/scikit-learn/issues/21755 */display: inline-block !important;position: relative;}#sk-container-id-1 div.sk-text-repr-fallback {display: none;}</style><div id=\"sk-container-id-1\" class=\"sk-top-container\"><div class=\"sk-text-repr-fallback\"><pre>ExponentialSmoothing(seasonal=&#x27;mul&#x27;, sp=262, trend=&#x27;add&#x27;)</pre><b>In a Jupyter environment, please rerun this cell to show the HTML representation or trust the notebook. <br />On GitHub, the HTML representation is unable to render, please try loading this page with nbviewer.org.</b></div><div class=\"sk-container\" hidden><div class=\"sk-item\"><div class=\"sk-estimator sk-toggleable\"><input class=\"sk-toggleable__control sk-hidden--visually\" id=\"sk-estimator-id-1\" type=\"checkbox\" checked><label for=\"sk-estimator-id-1\" class=\"sk-toggleable__label sk-toggleable__label-arrow\">ExponentialSmoothing</label><div class=\"sk-toggleable__content\"><pre>ExponentialSmoothing(seasonal=&#x27;mul&#x27;, sp=262, trend=&#x27;add&#x27;)</pre></div></div></div></div></div>"
      ],
      "text/plain": [
       "ExponentialSmoothing(seasonal='mul', sp=262, trend='add')"
      ]
     },
     "execution_count": 33,
     "metadata": {},
     "output_type": "execute_result"
    }
   ],
   "source": [
    "Expo_model = ExponentialSmoothing(trend='add',seasonal='mul',sp=262, damped_trend=False)\n",
    "Expo_model.fit(train_data_minmax)"
   ]
  },
  {
   "cell_type": "code",
   "execution_count": 34,
   "id": "9be5100d",
   "metadata": {},
   "outputs": [
    {
     "data": {
      "text/html": [
       "<div>\n",
       "<style scoped>\n",
       "    .dataframe tbody tr th:only-of-type {\n",
       "        vertical-align: middle;\n",
       "    }\n",
       "\n",
       "    .dataframe tbody tr th {\n",
       "        vertical-align: top;\n",
       "    }\n",
       "\n",
       "    .dataframe thead th {\n",
       "        text-align: right;\n",
       "    }\n",
       "</style>\n",
       "<table border=\"1\" class=\"dataframe\">\n",
       "  <thead>\n",
       "    <tr style=\"text-align: right;\">\n",
       "      <th></th>\n",
       "      <th>close</th>\n",
       "    </tr>\n",
       "  </thead>\n",
       "  <tbody>\n",
       "    <tr>\n",
       "      <th>2020-01-01</th>\n",
       "      <td>0.972956</td>\n",
       "    </tr>\n",
       "    <tr>\n",
       "      <th>2020-01-02</th>\n",
       "      <td>0.971759</td>\n",
       "    </tr>\n",
       "    <tr>\n",
       "      <th>2020-01-03</th>\n",
       "      <td>0.975012</td>\n",
       "    </tr>\n",
       "    <tr>\n",
       "      <th>2020-01-06</th>\n",
       "      <td>0.986249</td>\n",
       "    </tr>\n",
       "    <tr>\n",
       "      <th>2020-01-07</th>\n",
       "      <td>0.963524</td>\n",
       "    </tr>\n",
       "    <tr>\n",
       "      <th>...</th>\n",
       "      <td>...</td>\n",
       "    </tr>\n",
       "    <tr>\n",
       "      <th>2022-06-24</th>\n",
       "      <td>1.423850</td>\n",
       "    </tr>\n",
       "    <tr>\n",
       "      <th>2022-06-27</th>\n",
       "      <td>1.414741</td>\n",
       "    </tr>\n",
       "    <tr>\n",
       "      <th>2022-06-28</th>\n",
       "      <td>1.427781</td>\n",
       "    </tr>\n",
       "    <tr>\n",
       "      <th>2022-06-29</th>\n",
       "      <td>1.437267</td>\n",
       "    </tr>\n",
       "    <tr>\n",
       "      <th>2022-06-30</th>\n",
       "      <td>1.447814</td>\n",
       "    </tr>\n",
       "  </tbody>\n",
       "</table>\n",
       "<p>652 rows × 1 columns</p>\n",
       "</div>"
      ],
      "text/plain": [
       "               close\n",
       "2020-01-01  0.972956\n",
       "2020-01-02  0.971759\n",
       "2020-01-03  0.975012\n",
       "2020-01-06  0.986249\n",
       "2020-01-07  0.963524\n",
       "...              ...\n",
       "2022-06-24  1.423850\n",
       "2022-06-27  1.414741\n",
       "2022-06-28  1.427781\n",
       "2022-06-29  1.437267\n",
       "2022-06-30  1.447814\n",
       "\n",
       "[652 rows x 1 columns]"
      ]
     },
     "execution_count": 34,
     "metadata": {},
     "output_type": "execute_result"
    }
   ],
   "source": [
    "fh = list(range(1,653))\n",
    "# fh1 = pd.DatetimeIndex(np.array(test_data.index))\n",
    "# fh1\n",
    "test_predictions_minmax = Expo_model.predict(fh=fh)\n",
    "test_predictions_minmax"
   ]
  },
  {
   "cell_type": "code",
   "execution_count": 35,
   "id": "edd470ae",
   "metadata": {},
   "outputs": [
    {
     "data": {
      "text/html": [
       "<div>\n",
       "<style scoped>\n",
       "    .dataframe tbody tr th:only-of-type {\n",
       "        vertical-align: middle;\n",
       "    }\n",
       "\n",
       "    .dataframe tbody tr th {\n",
       "        vertical-align: top;\n",
       "    }\n",
       "\n",
       "    .dataframe thead th {\n",
       "        text-align: right;\n",
       "    }\n",
       "</style>\n",
       "<table border=\"1\" class=\"dataframe\">\n",
       "  <thead>\n",
       "    <tr style=\"text-align: right;\">\n",
       "      <th></th>\n",
       "      <th>Close</th>\n",
       "    </tr>\n",
       "    <tr>\n",
       "      <th>Date</th>\n",
       "      <th></th>\n",
       "    </tr>\n",
       "  </thead>\n",
       "  <tbody>\n",
       "    <tr>\n",
       "      <th>2020-01-01</th>\n",
       "      <td>14076.273079</td>\n",
       "    </tr>\n",
       "    <tr>\n",
       "      <th>2020-01-02</th>\n",
       "      <td>14062.353619</td>\n",
       "    </tr>\n",
       "    <tr>\n",
       "      <th>2020-01-03</th>\n",
       "      <td>14100.202677</td>\n",
       "    </tr>\n",
       "    <tr>\n",
       "      <th>2020-01-06</th>\n",
       "      <td>14230.986508</td>\n",
       "    </tr>\n",
       "    <tr>\n",
       "      <th>2020-01-07</th>\n",
       "      <td>13966.510294</td>\n",
       "    </tr>\n",
       "    <tr>\n",
       "      <th>...</th>\n",
       "      <td>...</td>\n",
       "    </tr>\n",
       "    <tr>\n",
       "      <th>2022-06-24</th>\n",
       "      <td>19323.812388</td>\n",
       "    </tr>\n",
       "    <tr>\n",
       "      <th>2022-06-27</th>\n",
       "      <td>19217.802729</td>\n",
       "    </tr>\n",
       "    <tr>\n",
       "      <th>2022-06-28</th>\n",
       "      <td>19369.561197</td>\n",
       "    </tr>\n",
       "    <tr>\n",
       "      <th>2022-06-29</th>\n",
       "      <td>19479.963347</td>\n",
       "    </tr>\n",
       "    <tr>\n",
       "      <th>2022-06-30</th>\n",
       "      <td>19602.711399</td>\n",
       "    </tr>\n",
       "  </tbody>\n",
       "</table>\n",
       "<p>652 rows × 1 columns</p>\n",
       "</div>"
      ],
      "text/plain": [
       "                   Close\n",
       "Date                    \n",
       "2020-01-01  14076.273079\n",
       "2020-01-02  14062.353619\n",
       "2020-01-03  14100.202677\n",
       "2020-01-06  14230.986508\n",
       "2020-01-07  13966.510294\n",
       "...                  ...\n",
       "2022-06-24  19323.812388\n",
       "2022-06-27  19217.802729\n",
       "2022-06-28  19369.561197\n",
       "2022-06-29  19479.963347\n",
       "2022-06-30  19602.711399\n",
       "\n",
       "[652 rows x 1 columns]"
      ]
     },
     "execution_count": 35,
     "metadata": {},
     "output_type": "execute_result"
    }
   ],
   "source": [
    "test_predictions=scaler.inverse_transform(test_predictions_minmax)\n",
    "test_predictions = pd.DataFrame(test_predictions, columns = ['Close'])\n",
    "test_predictions.index = test_data.index\n",
    "test_predictions"
   ]
  },
  {
   "cell_type": "code",
   "execution_count": 36,
   "id": "e1f2d6ed",
   "metadata": {},
   "outputs": [],
   "source": [
    "#fig = go.Figure()\n",
    "\n",
    "# fig.add_trace(go.Scatter(x=train_data.index, y=train_data['Close'], mode='lines', name='TRAIN'))\n",
    "# fig.add_trace(go.Scatter(x=test_data.index, y=test_data['Close'], mode='lines', name='TEST'))\n",
    "# fig.add_trace(go.Scatter(x=test_predictions.index, y=test_predictions['Close'], mode='lines', name='PREDICTION'))\n",
    "\n",
    "# fig.update_layout(title_text='Forecast vs Actuals', title_x=0.5)\n",
    "# fig.show()"
   ]
  },
  {
   "cell_type": "code",
   "execution_count": 37,
   "id": "caf04132",
   "metadata": {},
   "outputs": [],
   "source": [
    "#mse, rmse = error(test_data['Close'],test_predictions)"
   ]
  },
  {
   "cell_type": "code",
   "execution_count": null,
   "id": "ef360fda",
   "metadata": {},
   "outputs": [],
   "source": []
  },
  {
   "cell_type": "code",
   "execution_count": 38,
   "id": "cf96844f",
   "metadata": {},
   "outputs": [],
   "source": [
    "from sklearn.metrics import mean_squared_error, mean_absolute_error\n",
    "import holidays\n",
    "import random"
   ]
  },
  {
   "cell_type": "code",
   "execution_count": 39,
   "id": "21e0d229",
   "metadata": {},
   "outputs": [],
   "source": [
    "holiday = pd.DataFrame([])\n",
    "\n",
    "for date, name in sorted(holidays.India(years=[2011,2012,2013,2014,2015,2016,2017,2018,2019,2020,2021,2022]).items()):\n",
    "    holiday = holiday.append(pd.DataFrame({'ds': date, 'holiday': \"India_Holidays\"}, index=[0]), ignore_index=True)\n",
    "holiday['ds'] = pd.to_datetime(holiday['ds'], format='%Y-%m-%d', errors='ignore')"
   ]
  },
  {
   "cell_type": "code",
   "execution_count": 40,
   "id": "293b802a",
   "metadata": {},
   "outputs": [
    {
     "data": {
      "text/html": [
       "<div>\n",
       "<style scoped>\n",
       "    .dataframe tbody tr th:only-of-type {\n",
       "        vertical-align: middle;\n",
       "    }\n",
       "\n",
       "    .dataframe tbody tr th {\n",
       "        vertical-align: top;\n",
       "    }\n",
       "\n",
       "    .dataframe thead th {\n",
       "        text-align: right;\n",
       "    }\n",
       "</style>\n",
       "<table border=\"1\" class=\"dataframe\">\n",
       "  <thead>\n",
       "    <tr style=\"text-align: right;\">\n",
       "      <th></th>\n",
       "      <th>ds</th>\n",
       "      <th>holiday</th>\n",
       "    </tr>\n",
       "  </thead>\n",
       "  <tbody>\n",
       "    <tr>\n",
       "      <th>0</th>\n",
       "      <td>2011-01-14</td>\n",
       "      <td>India_Holidays</td>\n",
       "    </tr>\n",
       "    <tr>\n",
       "      <th>1</th>\n",
       "      <td>2011-01-26</td>\n",
       "      <td>India_Holidays</td>\n",
       "    </tr>\n",
       "    <tr>\n",
       "      <th>2</th>\n",
       "      <td>2011-03-19</td>\n",
       "      <td>India_Holidays</td>\n",
       "    </tr>\n",
       "    <tr>\n",
       "      <th>3</th>\n",
       "      <td>2011-05-01</td>\n",
       "      <td>India_Holidays</td>\n",
       "    </tr>\n",
       "    <tr>\n",
       "      <th>4</th>\n",
       "      <td>2011-08-15</td>\n",
       "      <td>India_Holidays</td>\n",
       "    </tr>\n",
       "    <tr>\n",
       "      <th>...</th>\n",
       "      <td>...</td>\n",
       "      <td>...</td>\n",
       "    </tr>\n",
       "    <tr>\n",
       "      <th>87</th>\n",
       "      <td>2021-12-25</td>\n",
       "      <td>India_Holidays</td>\n",
       "    </tr>\n",
       "    <tr>\n",
       "      <th>88</th>\n",
       "      <td>2022-01-14</td>\n",
       "      <td>India_Holidays</td>\n",
       "    </tr>\n",
       "    <tr>\n",
       "      <th>89</th>\n",
       "      <td>2022-01-26</td>\n",
       "      <td>India_Holidays</td>\n",
       "    </tr>\n",
       "    <tr>\n",
       "      <th>90</th>\n",
       "      <td>2022-03-18</td>\n",
       "      <td>India_Holidays</td>\n",
       "    </tr>\n",
       "    <tr>\n",
       "      <th>91</th>\n",
       "      <td>2022-05-01</td>\n",
       "      <td>India_Holidays</td>\n",
       "    </tr>\n",
       "  </tbody>\n",
       "</table>\n",
       "<p>92 rows × 2 columns</p>\n",
       "</div>"
      ],
      "text/plain": [
       "           ds         holiday\n",
       "0  2011-01-14  India_Holidays\n",
       "1  2011-01-26  India_Holidays\n",
       "2  2011-03-19  India_Holidays\n",
       "3  2011-05-01  India_Holidays\n",
       "4  2011-08-15  India_Holidays\n",
       "..        ...             ...\n",
       "87 2021-12-25  India_Holidays\n",
       "88 2022-01-14  India_Holidays\n",
       "89 2022-01-26  India_Holidays\n",
       "90 2022-03-18  India_Holidays\n",
       "91 2022-05-01  India_Holidays\n",
       "\n",
       "[92 rows x 2 columns]"
      ]
     },
     "execution_count": 40,
     "metadata": {},
     "output_type": "execute_result"
    }
   ],
   "source": [
    "holiday = holiday[:-4]\n",
    "holiday"
   ]
  },
  {
   "cell_type": "code",
   "execution_count": null,
   "id": "abf28f63",
   "metadata": {},
   "outputs": [],
   "source": []
  },
  {
   "cell_type": "code",
   "execution_count": 41,
   "id": "d6330e7b",
   "metadata": {},
   "outputs": [
    {
     "name": "stdout",
     "output_type": "stream",
     "text": [
      "Total Possible Models 64\n"
     ]
    }
   ],
   "source": [
    "from sklearn.model_selection import ParameterGrid\n",
    "params_grid = {'changepoint_prior_scale':[0.05,1,10,25],\n",
    "               'n_changepoints' : [1,10,25,100],\n",
    "               'seasonality_prior_scale':[0.05,1,10,25]}\n",
    "\n",
    "grid = ParameterGrid(params_grid)\n",
    "cnt = 0\n",
    "for p in grid:\n",
    "    cnt = cnt+1\n",
    "\n",
    "print('Total Possible Models',cnt)"
   ]
  },
  {
   "cell_type": "code",
   "execution_count": 42,
   "id": "5dbf8caf",
   "metadata": {
    "scrolled": true
   },
   "outputs": [
    {
     "name": "stdout",
     "output_type": "stream",
     "text": [
      "1   {'changepoint_prior_scale': 0.05, 'n_changepoints': 1, 'seasonality_prior_scale': 0.05}\n"
     ]
    },
    {
     "name": "stderr",
     "output_type": "stream",
     "text": [
      "17:31:50 - cmdstanpy - INFO - Chain [1] start processing\n",
      "17:31:50 - cmdstanpy - INFO - Chain [1] done processing\n"
     ]
    },
    {
     "name": "stdout",
     "output_type": "stream",
     "text": [
      "Errors :-\n",
      "MSE :  3809775.355573516\n",
      "RMSE :  1951.8645843330207 \n",
      "\n",
      "Root Mean Squre Error(RMSE)------------------------------------ 1951.8645843330207\n",
      "2   {'changepoint_prior_scale': 0.05, 'n_changepoints': 1, 'seasonality_prior_scale': 1}\n"
     ]
    },
    {
     "name": "stderr",
     "output_type": "stream",
     "text": [
      "17:31:54 - cmdstanpy - INFO - Chain [1] start processing\n",
      "17:31:55 - cmdstanpy - INFO - Chain [1] done processing\n"
     ]
    },
    {
     "name": "stdout",
     "output_type": "stream",
     "text": [
      "Errors :-\n",
      "MSE :  3803838.7105048974\n",
      "RMSE :  1950.3432288971337 \n",
      "\n",
      "Root Mean Squre Error(RMSE)------------------------------------ 1950.3432288971337\n",
      "3   {'changepoint_prior_scale': 0.05, 'n_changepoints': 1, 'seasonality_prior_scale': 10}\n"
     ]
    },
    {
     "name": "stderr",
     "output_type": "stream",
     "text": [
      "17:31:58 - cmdstanpy - INFO - Chain [1] start processing\n",
      "17:31:58 - cmdstanpy - INFO - Chain [1] done processing\n"
     ]
    },
    {
     "name": "stdout",
     "output_type": "stream",
     "text": [
      "Errors :-\n",
      "MSE :  3807446.442933207\n",
      "RMSE :  1951.2679064990555 \n",
      "\n",
      "Root Mean Squre Error(RMSE)------------------------------------ 1951.2679064990555\n",
      "4   {'changepoint_prior_scale': 0.05, 'n_changepoints': 1, 'seasonality_prior_scale': 25}\n"
     ]
    },
    {
     "name": "stderr",
     "output_type": "stream",
     "text": [
      "17:32:01 - cmdstanpy - INFO - Chain [1] start processing\n",
      "17:32:01 - cmdstanpy - INFO - Chain [1] done processing\n"
     ]
    },
    {
     "name": "stdout",
     "output_type": "stream",
     "text": [
      "Errors :-\n",
      "MSE :  3803741.384792415\n",
      "RMSE :  1950.3182778183707 \n",
      "\n",
      "Root Mean Squre Error(RMSE)------------------------------------ 1950.3182778183707\n",
      "5   {'changepoint_prior_scale': 0.05, 'n_changepoints': 10, 'seasonality_prior_scale': 0.05}\n"
     ]
    },
    {
     "name": "stderr",
     "output_type": "stream",
     "text": [
      "17:32:04 - cmdstanpy - INFO - Chain [1] start processing\n",
      "17:32:04 - cmdstanpy - INFO - Chain [1] done processing\n"
     ]
    },
    {
     "name": "stdout",
     "output_type": "stream",
     "text": [
      "Errors :-\n",
      "MSE :  2340762.6685932428\n",
      "RMSE :  1529.9551197970623 \n",
      "\n",
      "Root Mean Squre Error(RMSE)------------------------------------ 1529.9551197970623\n",
      "6   {'changepoint_prior_scale': 0.05, 'n_changepoints': 10, 'seasonality_prior_scale': 1}\n"
     ]
    },
    {
     "name": "stderr",
     "output_type": "stream",
     "text": [
      "17:32:07 - cmdstanpy - INFO - Chain [1] start processing\n",
      "17:32:08 - cmdstanpy - INFO - Chain [1] done processing\n"
     ]
    },
    {
     "name": "stdout",
     "output_type": "stream",
     "text": [
      "Errors :-\n",
      "MSE :  2331137.585669027\n",
      "RMSE :  1526.8063353513526 \n",
      "\n",
      "Root Mean Squre Error(RMSE)------------------------------------ 1526.8063353513526\n",
      "7   {'changepoint_prior_scale': 0.05, 'n_changepoints': 10, 'seasonality_prior_scale': 10}\n"
     ]
    },
    {
     "name": "stderr",
     "output_type": "stream",
     "text": [
      "17:32:14 - cmdstanpy - INFO - Chain [1] start processing\n",
      "17:32:15 - cmdstanpy - INFO - Chain [1] done processing\n"
     ]
    },
    {
     "name": "stdout",
     "output_type": "stream",
     "text": [
      "Errors :-\n",
      "MSE :  2333999.786940407\n",
      "RMSE :  1527.7433642272536 \n",
      "\n",
      "Root Mean Squre Error(RMSE)------------------------------------ 1527.7433642272536\n",
      "8   {'changepoint_prior_scale': 0.05, 'n_changepoints': 10, 'seasonality_prior_scale': 25}\n"
     ]
    },
    {
     "name": "stderr",
     "output_type": "stream",
     "text": [
      "17:32:23 - cmdstanpy - INFO - Chain [1] start processing\n",
      "17:32:24 - cmdstanpy - INFO - Chain [1] done processing\n"
     ]
    },
    {
     "name": "stdout",
     "output_type": "stream",
     "text": [
      "Errors :-\n",
      "MSE :  2333974.0837061335\n",
      "RMSE :  1527.7349520470275 \n",
      "\n",
      "Root Mean Squre Error(RMSE)------------------------------------ 1527.7349520470275\n",
      "9   {'changepoint_prior_scale': 0.05, 'n_changepoints': 25, 'seasonality_prior_scale': 0.05}\n"
     ]
    },
    {
     "name": "stderr",
     "output_type": "stream",
     "text": [
      "17:32:28 - cmdstanpy - INFO - Chain [1] start processing\n",
      "17:32:30 - cmdstanpy - INFO - Chain [1] done processing\n"
     ]
    },
    {
     "name": "stdout",
     "output_type": "stream",
     "text": [
      "Errors :-\n",
      "MSE :  2339130.5421969234\n",
      "RMSE :  1529.4216365008451 \n",
      "\n",
      "Root Mean Squre Error(RMSE)------------------------------------ 1529.4216365008451\n",
      "10   {'changepoint_prior_scale': 0.05, 'n_changepoints': 25, 'seasonality_prior_scale': 1}\n"
     ]
    },
    {
     "name": "stderr",
     "output_type": "stream",
     "text": [
      "17:32:35 - cmdstanpy - INFO - Chain [1] start processing\n",
      "17:32:39 - cmdstanpy - INFO - Chain [1] done processing\n"
     ]
    },
    {
     "name": "stdout",
     "output_type": "stream",
     "text": [
      "Errors :-\n",
      "MSE :  2346327.3178911367\n",
      "RMSE :  1531.7726064566948 \n",
      "\n",
      "Root Mean Squre Error(RMSE)------------------------------------ 1531.7726064566948\n",
      "11   {'changepoint_prior_scale': 0.05, 'n_changepoints': 25, 'seasonality_prior_scale': 10}\n"
     ]
    },
    {
     "name": "stderr",
     "output_type": "stream",
     "text": [
      "17:32:42 - cmdstanpy - INFO - Chain [1] start processing\n",
      "17:32:42 - cmdstanpy - INFO - Chain [1] done processing\n"
     ]
    },
    {
     "name": "stdout",
     "output_type": "stream",
     "text": [
      "Errors :-\n",
      "MSE :  2341758.3617265807\n",
      "RMSE :  1530.280484658476 \n",
      "\n",
      "Root Mean Squre Error(RMSE)------------------------------------ 1530.280484658476\n",
      "12   {'changepoint_prior_scale': 0.05, 'n_changepoints': 25, 'seasonality_prior_scale': 25}\n"
     ]
    },
    {
     "name": "stderr",
     "output_type": "stream",
     "text": [
      "17:32:45 - cmdstanpy - INFO - Chain [1] start processing\n",
      "17:32:46 - cmdstanpy - INFO - Chain [1] done processing\n"
     ]
    },
    {
     "name": "stdout",
     "output_type": "stream",
     "text": [
      "Errors :-\n",
      "MSE :  2343589.234986486\n",
      "RMSE :  1530.8785827055278 \n",
      "\n",
      "Root Mean Squre Error(RMSE)------------------------------------ 1530.8785827055278\n",
      "13   {'changepoint_prior_scale': 0.05, 'n_changepoints': 100, 'seasonality_prior_scale': 0.05}\n"
     ]
    },
    {
     "name": "stderr",
     "output_type": "stream",
     "text": [
      "17:32:49 - cmdstanpy - INFO - Chain [1] start processing\n",
      "17:32:54 - cmdstanpy - INFO - Chain [1] done processing\n"
     ]
    },
    {
     "name": "stdout",
     "output_type": "stream",
     "text": [
      "Errors :-\n",
      "MSE :  2346958.2539093276\n",
      "RMSE :  1531.978542248333 \n",
      "\n",
      "Root Mean Squre Error(RMSE)------------------------------------ 1531.978542248333\n",
      "14   {'changepoint_prior_scale': 0.05, 'n_changepoints': 100, 'seasonality_prior_scale': 1}\n"
     ]
    },
    {
     "name": "stderr",
     "output_type": "stream",
     "text": [
      "17:32:58 - cmdstanpy - INFO - Chain [1] start processing\n",
      "17:33:05 - cmdstanpy - INFO - Chain [1] done processing\n"
     ]
    },
    {
     "name": "stdout",
     "output_type": "stream",
     "text": [
      "Errors :-\n",
      "MSE :  2348309.2704372876\n",
      "RMSE :  1532.4194172736418 \n",
      "\n",
      "Root Mean Squre Error(RMSE)------------------------------------ 1532.4194172736418\n",
      "15   {'changepoint_prior_scale': 0.05, 'n_changepoints': 100, 'seasonality_prior_scale': 10}\n"
     ]
    },
    {
     "name": "stderr",
     "output_type": "stream",
     "text": [
      "17:33:10 - cmdstanpy - INFO - Chain [1] start processing\n",
      "17:33:18 - cmdstanpy - INFO - Chain [1] done processing\n"
     ]
    },
    {
     "name": "stdout",
     "output_type": "stream",
     "text": [
      "Errors :-\n",
      "MSE :  2348366.3858117266\n",
      "RMSE :  1532.4380528464199 \n",
      "\n",
      "Root Mean Squre Error(RMSE)------------------------------------ 1532.4380528464199\n",
      "16   {'changepoint_prior_scale': 0.05, 'n_changepoints': 100, 'seasonality_prior_scale': 25}\n"
     ]
    },
    {
     "name": "stderr",
     "output_type": "stream",
     "text": [
      "17:33:22 - cmdstanpy - INFO - Chain [1] start processing\n",
      "17:33:27 - cmdstanpy - INFO - Chain [1] done processing\n"
     ]
    },
    {
     "name": "stdout",
     "output_type": "stream",
     "text": [
      "Errors :-\n",
      "MSE :  2346913.083655208\n",
      "RMSE :  1531.9637997208706 \n",
      "\n",
      "Root Mean Squre Error(RMSE)------------------------------------ 1531.9637997208706\n",
      "17   {'changepoint_prior_scale': 1, 'n_changepoints': 1, 'seasonality_prior_scale': 0.05}\n"
     ]
    },
    {
     "name": "stderr",
     "output_type": "stream",
     "text": [
      "17:33:31 - cmdstanpy - INFO - Chain [1] start processing\n",
      "17:33:31 - cmdstanpy - INFO - Chain [1] done processing\n"
     ]
    },
    {
     "name": "stdout",
     "output_type": "stream",
     "text": [
      "Errors :-\n",
      "MSE :  3904823.9229808645\n",
      "RMSE :  1976.0627325519968 \n",
      "\n",
      "Root Mean Squre Error(RMSE)------------------------------------ 1976.0627325519968\n",
      "18   {'changepoint_prior_scale': 1, 'n_changepoints': 1, 'seasonality_prior_scale': 1}\n"
     ]
    },
    {
     "name": "stderr",
     "output_type": "stream",
     "text": [
      "17:33:33 - cmdstanpy - INFO - Chain [1] start processing\n",
      "17:33:33 - cmdstanpy - INFO - Chain [1] done processing\n"
     ]
    },
    {
     "name": "stdout",
     "output_type": "stream",
     "text": [
      "Errors :-\n",
      "MSE :  3899184.9024207415\n",
      "RMSE :  1974.6353846775717 \n",
      "\n",
      "Root Mean Squre Error(RMSE)------------------------------------ 1974.6353846775717\n",
      "19   {'changepoint_prior_scale': 1, 'n_changepoints': 1, 'seasonality_prior_scale': 10}\n"
     ]
    },
    {
     "name": "stderr",
     "output_type": "stream",
     "text": [
      "17:33:35 - cmdstanpy - INFO - Chain [1] start processing\n",
      "17:33:35 - cmdstanpy - INFO - Chain [1] done processing\n"
     ]
    },
    {
     "name": "stdout",
     "output_type": "stream",
     "text": [
      "Errors :-\n",
      "MSE :  3900771.7969342135\n",
      "RMSE :  1975.0371634311628 \n",
      "\n",
      "Root Mean Squre Error(RMSE)------------------------------------ 1975.0371634311628\n",
      "20   {'changepoint_prior_scale': 1, 'n_changepoints': 1, 'seasonality_prior_scale': 25}\n"
     ]
    },
    {
     "name": "stderr",
     "output_type": "stream",
     "text": [
      "17:33:37 - cmdstanpy - INFO - Chain [1] start processing\n",
      "17:33:37 - cmdstanpy - INFO - Chain [1] done processing\n"
     ]
    },
    {
     "name": "stdout",
     "output_type": "stream",
     "text": [
      "Errors :-\n",
      "MSE :  3898978.453939697\n",
      "RMSE :  1974.5831088965836 \n",
      "\n",
      "Root Mean Squre Error(RMSE)------------------------------------ 1974.5831088965836\n",
      "21   {'changepoint_prior_scale': 1, 'n_changepoints': 10, 'seasonality_prior_scale': 0.05}\n"
     ]
    },
    {
     "name": "stderr",
     "output_type": "stream",
     "text": [
      "17:33:39 - cmdstanpy - INFO - Chain [1] start processing\n",
      "17:33:40 - cmdstanpy - INFO - Chain [1] done processing\n"
     ]
    },
    {
     "name": "stdout",
     "output_type": "stream",
     "text": [
      "Errors :-\n",
      "MSE :  2323873.557873761\n",
      "RMSE :  1524.4256485226692 \n",
      "\n",
      "Root Mean Squre Error(RMSE)------------------------------------ 1524.4256485226692\n",
      "22   {'changepoint_prior_scale': 1, 'n_changepoints': 10, 'seasonality_prior_scale': 1}\n"
     ]
    },
    {
     "name": "stderr",
     "output_type": "stream",
     "text": [
      "17:33:42 - cmdstanpy - INFO - Chain [1] start processing\n",
      "17:33:43 - cmdstanpy - INFO - Chain [1] done processing\n"
     ]
    },
    {
     "name": "stdout",
     "output_type": "stream",
     "text": [
      "Errors :-\n",
      "MSE :  2326754.8627659995\n",
      "RMSE :  1525.3704018257336 \n",
      "\n",
      "Root Mean Squre Error(RMSE)------------------------------------ 1525.3704018257336\n",
      "23   {'changepoint_prior_scale': 1, 'n_changepoints': 10, 'seasonality_prior_scale': 10}\n"
     ]
    },
    {
     "name": "stderr",
     "output_type": "stream",
     "text": [
      "17:33:45 - cmdstanpy - INFO - Chain [1] start processing\n",
      "17:33:46 - cmdstanpy - INFO - Chain [1] done processing\n"
     ]
    },
    {
     "name": "stdout",
     "output_type": "stream",
     "text": [
      "Errors :-\n",
      "MSE :  2325495.962914626\n",
      "RMSE :  1524.9576921720243 \n",
      "\n",
      "Root Mean Squre Error(RMSE)------------------------------------ 1524.9576921720243\n",
      "24   {'changepoint_prior_scale': 1, 'n_changepoints': 10, 'seasonality_prior_scale': 25}\n"
     ]
    },
    {
     "name": "stderr",
     "output_type": "stream",
     "text": [
      "17:33:48 - cmdstanpy - INFO - Chain [1] start processing\n",
      "17:33:49 - cmdstanpy - INFO - Chain [1] done processing\n"
     ]
    },
    {
     "name": "stdout",
     "output_type": "stream",
     "text": [
      "Errors :-\n",
      "MSE :  2326466.876019075\n",
      "RMSE :  1525.2759999485586 \n",
      "\n",
      "Root Mean Squre Error(RMSE)------------------------------------ 1525.2759999485586\n",
      "25   {'changepoint_prior_scale': 1, 'n_changepoints': 25, 'seasonality_prior_scale': 0.05}\n"
     ]
    },
    {
     "name": "stderr",
     "output_type": "stream",
     "text": [
      "17:33:51 - cmdstanpy - INFO - Chain [1] start processing\n",
      "17:33:54 - cmdstanpy - INFO - Chain [1] done processing\n"
     ]
    },
    {
     "name": "stdout",
     "output_type": "stream",
     "text": [
      "Errors :-\n",
      "MSE :  2571323.2221117574\n",
      "RMSE :  1603.5346027173089 \n",
      "\n",
      "Root Mean Squre Error(RMSE)------------------------------------ 1603.5346027173089\n",
      "26   {'changepoint_prior_scale': 1, 'n_changepoints': 25, 'seasonality_prior_scale': 1}\n"
     ]
    },
    {
     "name": "stderr",
     "output_type": "stream",
     "text": [
      "17:33:57 - cmdstanpy - INFO - Chain [1] start processing\n",
      "17:33:59 - cmdstanpy - INFO - Chain [1] done processing\n"
     ]
    },
    {
     "name": "stdout",
     "output_type": "stream",
     "text": [
      "Errors :-\n",
      "MSE :  2572102.552119297\n",
      "RMSE :  1603.7775881085558 \n",
      "\n",
      "Root Mean Squre Error(RMSE)------------------------------------ 1603.7775881085558\n",
      "27   {'changepoint_prior_scale': 1, 'n_changepoints': 25, 'seasonality_prior_scale': 10}\n"
     ]
    },
    {
     "name": "stderr",
     "output_type": "stream",
     "text": [
      "17:34:02 - cmdstanpy - INFO - Chain [1] start processing\n",
      "17:34:05 - cmdstanpy - INFO - Chain [1] done processing\n"
     ]
    },
    {
     "name": "stdout",
     "output_type": "stream",
     "text": [
      "Errors :-\n",
      "MSE :  2576078.916455384\n",
      "RMSE :  1605.0167963156598 \n",
      "\n",
      "Root Mean Squre Error(RMSE)------------------------------------ 1605.0167963156598\n",
      "28   {'changepoint_prior_scale': 1, 'n_changepoints': 25, 'seasonality_prior_scale': 25}\n"
     ]
    },
    {
     "name": "stderr",
     "output_type": "stream",
     "text": [
      "17:34:07 - cmdstanpy - INFO - Chain [1] start processing\n",
      "17:34:12 - cmdstanpy - INFO - Chain [1] done processing\n"
     ]
    },
    {
     "name": "stdout",
     "output_type": "stream",
     "text": [
      "Errors :-\n",
      "MSE :  2580140.6484408835\n",
      "RMSE :  1606.281621771501 \n",
      "\n",
      "Root Mean Squre Error(RMSE)------------------------------------ 1606.281621771501\n",
      "29   {'changepoint_prior_scale': 1, 'n_changepoints': 100, 'seasonality_prior_scale': 0.05}\n"
     ]
    },
    {
     "name": "stderr",
     "output_type": "stream",
     "text": [
      "17:34:15 - cmdstanpy - INFO - Chain [1] start processing\n",
      "17:34:44 - cmdstanpy - INFO - Chain [1] done processing\n"
     ]
    },
    {
     "name": "stdout",
     "output_type": "stream",
     "text": [
      "Errors :-\n",
      "MSE :  2784454.533300994\n",
      "RMSE :  1668.668491133273 \n",
      "\n",
      "Root Mean Squre Error(RMSE)------------------------------------ 1668.668491133273\n",
      "30   {'changepoint_prior_scale': 1, 'n_changepoints': 100, 'seasonality_prior_scale': 1}\n"
     ]
    },
    {
     "name": "stderr",
     "output_type": "stream",
     "text": [
      "17:34:48 - cmdstanpy - INFO - Chain [1] start processing\n",
      "17:35:15 - cmdstanpy - INFO - Chain [1] done processing\n"
     ]
    },
    {
     "name": "stdout",
     "output_type": "stream",
     "text": [
      "Errors :-\n",
      "MSE :  2785052.0339319166\n",
      "RMSE :  1668.847516680873 \n",
      "\n",
      "Root Mean Squre Error(RMSE)------------------------------------ 1668.847516680873\n",
      "31   {'changepoint_prior_scale': 1, 'n_changepoints': 100, 'seasonality_prior_scale': 10}\n"
     ]
    },
    {
     "name": "stderr",
     "output_type": "stream",
     "text": [
      "17:35:19 - cmdstanpy - INFO - Chain [1] start processing\n",
      "17:35:39 - cmdstanpy - INFO - Chain [1] done processing\n"
     ]
    },
    {
     "name": "stdout",
     "output_type": "stream",
     "text": [
      "Errors :-\n",
      "MSE :  2798094.850594255\n",
      "RMSE :  1672.7506839317853 \n",
      "\n",
      "Root Mean Squre Error(RMSE)------------------------------------ 1672.7506839317853\n",
      "32   {'changepoint_prior_scale': 1, 'n_changepoints': 100, 'seasonality_prior_scale': 25}\n"
     ]
    },
    {
     "name": "stderr",
     "output_type": "stream",
     "text": [
      "17:35:43 - cmdstanpy - INFO - Chain [1] start processing\n",
      "17:36:16 - cmdstanpy - INFO - Chain [1] done processing\n"
     ]
    },
    {
     "name": "stdout",
     "output_type": "stream",
     "text": [
      "Errors :-\n",
      "MSE :  2776879.061133444\n",
      "RMSE :  1666.3970298621646 \n",
      "\n",
      "Root Mean Squre Error(RMSE)------------------------------------ 1666.3970298621646\n",
      "33   {'changepoint_prior_scale': 10, 'n_changepoints': 1, 'seasonality_prior_scale': 0.05}\n"
     ]
    },
    {
     "name": "stderr",
     "output_type": "stream",
     "text": [
      "17:36:20 - cmdstanpy - INFO - Chain [1] start processing\n",
      "17:36:21 - cmdstanpy - INFO - Chain [1] done processing\n"
     ]
    },
    {
     "name": "stdout",
     "output_type": "stream",
     "text": [
      "Errors :-\n",
      "MSE :  3905402.2638204787\n",
      "RMSE :  1976.209063793727 \n",
      "\n",
      "Root Mean Squre Error(RMSE)------------------------------------ 1976.209063793727\n",
      "34   {'changepoint_prior_scale': 10, 'n_changepoints': 1, 'seasonality_prior_scale': 1}\n"
     ]
    },
    {
     "name": "stderr",
     "output_type": "stream",
     "text": [
      "17:36:23 - cmdstanpy - INFO - Chain [1] start processing\n",
      "17:36:23 - cmdstanpy - INFO - Chain [1] done processing\n"
     ]
    },
    {
     "name": "stdout",
     "output_type": "stream",
     "text": [
      "Errors :-\n",
      "MSE :  3905549.266543574\n",
      "RMSE :  1976.2462565539686 \n",
      "\n",
      "Root Mean Squre Error(RMSE)------------------------------------ 1976.2462565539686\n",
      "35   {'changepoint_prior_scale': 10, 'n_changepoints': 1, 'seasonality_prior_scale': 10}\n"
     ]
    },
    {
     "name": "stderr",
     "output_type": "stream",
     "text": [
      "17:36:26 - cmdstanpy - INFO - Chain [1] start processing\n",
      "17:36:26 - cmdstanpy - INFO - Chain [1] done processing\n"
     ]
    },
    {
     "name": "stdout",
     "output_type": "stream",
     "text": [
      "Errors :-\n",
      "MSE :  3901983.927086812\n",
      "RMSE :  1975.3440022150096 \n",
      "\n",
      "Root Mean Squre Error(RMSE)------------------------------------ 1975.3440022150096\n",
      "36   {'changepoint_prior_scale': 10, 'n_changepoints': 1, 'seasonality_prior_scale': 25}\n"
     ]
    },
    {
     "name": "stderr",
     "output_type": "stream",
     "text": [
      "17:36:29 - cmdstanpy - INFO - Chain [1] start processing\n",
      "17:36:29 - cmdstanpy - INFO - Chain [1] done processing\n"
     ]
    },
    {
     "name": "stdout",
     "output_type": "stream",
     "text": [
      "Errors :-\n",
      "MSE :  3905148.9524767487\n",
      "RMSE :  1976.1449725353525 \n",
      "\n",
      "Root Mean Squre Error(RMSE)------------------------------------ 1976.1449725353525\n",
      "37   {'changepoint_prior_scale': 10, 'n_changepoints': 10, 'seasonality_prior_scale': 0.05}\n"
     ]
    },
    {
     "name": "stderr",
     "output_type": "stream",
     "text": [
      "17:36:32 - cmdstanpy - INFO - Chain [1] start processing\n",
      "17:36:32 - cmdstanpy - INFO - Chain [1] done processing\n"
     ]
    },
    {
     "name": "stdout",
     "output_type": "stream",
     "text": [
      "Errors :-\n",
      "MSE :  2323034.9950554008\n",
      "RMSE :  1524.1505814897034 \n",
      "\n",
      "Root Mean Squre Error(RMSE)------------------------------------ 1524.1505814897034\n",
      "38   {'changepoint_prior_scale': 10, 'n_changepoints': 10, 'seasonality_prior_scale': 1}\n"
     ]
    },
    {
     "name": "stderr",
     "output_type": "stream",
     "text": [
      "17:36:35 - cmdstanpy - INFO - Chain [1] start processing\n",
      "17:36:36 - cmdstanpy - INFO - Chain [1] done processing\n"
     ]
    },
    {
     "name": "stdout",
     "output_type": "stream",
     "text": [
      "Errors :-\n",
      "MSE :  2325013.3280109037\n",
      "RMSE :  1524.7994386183725 \n",
      "\n",
      "Root Mean Squre Error(RMSE)------------------------------------ 1524.7994386183725\n",
      "39   {'changepoint_prior_scale': 10, 'n_changepoints': 10, 'seasonality_prior_scale': 10}\n"
     ]
    },
    {
     "name": "stderr",
     "output_type": "stream",
     "text": [
      "17:36:39 - cmdstanpy - INFO - Chain [1] start processing\n",
      "17:36:40 - cmdstanpy - INFO - Chain [1] done processing\n"
     ]
    },
    {
     "name": "stdout",
     "output_type": "stream",
     "text": [
      "Errors :-\n",
      "MSE :  2325221.9798976737\n",
      "RMSE :  1524.867856536321 \n",
      "\n",
      "Root Mean Squre Error(RMSE)------------------------------------ 1524.867856536321\n",
      "40   {'changepoint_prior_scale': 10, 'n_changepoints': 10, 'seasonality_prior_scale': 25}\n"
     ]
    },
    {
     "name": "stderr",
     "output_type": "stream",
     "text": [
      "17:36:43 - cmdstanpy - INFO - Chain [1] start processing\n",
      "17:36:43 - cmdstanpy - INFO - Chain [1] done processing\n"
     ]
    },
    {
     "name": "stdout",
     "output_type": "stream",
     "text": [
      "Errors :-\n",
      "MSE :  2326061.8805470965\n",
      "RMSE :  1525.1432327972007 \n",
      "\n",
      "Root Mean Squre Error(RMSE)------------------------------------ 1525.1432327972007\n",
      "41   {'changepoint_prior_scale': 10, 'n_changepoints': 25, 'seasonality_prior_scale': 0.05}\n"
     ]
    },
    {
     "name": "stderr",
     "output_type": "stream",
     "text": [
      "17:36:46 - cmdstanpy - INFO - Chain [1] start processing\n",
      "17:36:48 - cmdstanpy - INFO - Chain [1] done processing\n"
     ]
    },
    {
     "name": "stdout",
     "output_type": "stream",
     "text": [
      "Errors :-\n",
      "MSE :  2571304.988332123\n",
      "RMSE :  1603.5289172110752 \n",
      "\n",
      "Root Mean Squre Error(RMSE)------------------------------------ 1603.5289172110752\n",
      "42   {'changepoint_prior_scale': 10, 'n_changepoints': 25, 'seasonality_prior_scale': 1}\n"
     ]
    },
    {
     "name": "stderr",
     "output_type": "stream",
     "text": [
      "17:36:51 - cmdstanpy - INFO - Chain [1] start processing\n",
      "17:36:56 - cmdstanpy - INFO - Chain [1] done processing\n"
     ]
    },
    {
     "name": "stdout",
     "output_type": "stream",
     "text": [
      "Errors :-\n",
      "MSE :  2588163.7611268642\n",
      "RMSE :  1608.777101132057 \n",
      "\n",
      "Root Mean Squre Error(RMSE)------------------------------------ 1608.777101132057\n",
      "43   {'changepoint_prior_scale': 10, 'n_changepoints': 25, 'seasonality_prior_scale': 10}\n"
     ]
    },
    {
     "name": "stderr",
     "output_type": "stream",
     "text": [
      "17:37:00 - cmdstanpy - INFO - Chain [1] start processing\n",
      "17:37:04 - cmdstanpy - INFO - Chain [1] done processing\n"
     ]
    },
    {
     "name": "stdout",
     "output_type": "stream",
     "text": [
      "Errors :-\n",
      "MSE :  2587746.910328545\n",
      "RMSE :  1608.6475407399053 \n",
      "\n",
      "Root Mean Squre Error(RMSE)------------------------------------ 1608.6475407399053\n",
      "44   {'changepoint_prior_scale': 10, 'n_changepoints': 25, 'seasonality_prior_scale': 25}\n"
     ]
    },
    {
     "name": "stderr",
     "output_type": "stream",
     "text": [
      "17:37:08 - cmdstanpy - INFO - Chain [1] start processing\n",
      "17:37:12 - cmdstanpy - INFO - Chain [1] done processing\n"
     ]
    },
    {
     "name": "stdout",
     "output_type": "stream",
     "text": [
      "Errors :-\n",
      "MSE :  2583774.0733418697\n",
      "RMSE :  1607.4122288143355 \n",
      "\n",
      "Root Mean Squre Error(RMSE)------------------------------------ 1607.4122288143355\n",
      "45   {'changepoint_prior_scale': 10, 'n_changepoints': 100, 'seasonality_prior_scale': 0.05}\n"
     ]
    },
    {
     "name": "stderr",
     "output_type": "stream",
     "text": [
      "17:37:15 - cmdstanpy - INFO - Chain [1] start processing\n",
      "17:37:51 - cmdstanpy - INFO - Chain [1] done processing\n"
     ]
    },
    {
     "name": "stdout",
     "output_type": "stream",
     "text": [
      "Errors :-\n",
      "MSE :  2821372.13346997\n",
      "RMSE :  1679.6940594852297 \n",
      "\n",
      "Root Mean Squre Error(RMSE)------------------------------------ 1679.6940594852297\n",
      "46   {'changepoint_prior_scale': 10, 'n_changepoints': 100, 'seasonality_prior_scale': 1}\n"
     ]
    },
    {
     "name": "stderr",
     "output_type": "stream",
     "text": [
      "17:37:55 - cmdstanpy - INFO - Chain [1] start processing\n",
      "17:38:17 - cmdstanpy - INFO - Chain [1] done processing\n"
     ]
    },
    {
     "name": "stdout",
     "output_type": "stream",
     "text": [
      "Errors :-\n",
      "MSE :  2803950.611045496\n",
      "RMSE :  1674.5001078069527 \n",
      "\n",
      "Root Mean Squre Error(RMSE)------------------------------------ 1674.5001078069527\n",
      "47   {'changepoint_prior_scale': 10, 'n_changepoints': 100, 'seasonality_prior_scale': 10}\n"
     ]
    },
    {
     "name": "stderr",
     "output_type": "stream",
     "text": [
      "17:38:21 - cmdstanpy - INFO - Chain [1] start processing\n",
      "17:38:48 - cmdstanpy - INFO - Chain [1] done processing\n"
     ]
    },
    {
     "name": "stdout",
     "output_type": "stream",
     "text": [
      "Errors :-\n",
      "MSE :  2831790.6123827454\n",
      "RMSE :  1682.7925042567624 \n",
      "\n",
      "Root Mean Squre Error(RMSE)------------------------------------ 1682.7925042567624\n",
      "48   {'changepoint_prior_scale': 10, 'n_changepoints': 100, 'seasonality_prior_scale': 25}\n"
     ]
    },
    {
     "name": "stderr",
     "output_type": "stream",
     "text": [
      "17:38:52 - cmdstanpy - INFO - Chain [1] start processing\n",
      "17:39:30 - cmdstanpy - INFO - Chain [1] done processing\n"
     ]
    },
    {
     "name": "stdout",
     "output_type": "stream",
     "text": [
      "Errors :-\n",
      "MSE :  2853054.3700001556\n",
      "RMSE :  1689.0986856901393 \n",
      "\n",
      "Root Mean Squre Error(RMSE)------------------------------------ 1689.0986856901393\n",
      "49   {'changepoint_prior_scale': 25, 'n_changepoints': 1, 'seasonality_prior_scale': 0.05}\n"
     ]
    },
    {
     "name": "stderr",
     "output_type": "stream",
     "text": [
      "17:39:34 - cmdstanpy - INFO - Chain [1] start processing\n",
      "17:39:34 - cmdstanpy - INFO - Chain [1] done processing\n"
     ]
    },
    {
     "name": "stdout",
     "output_type": "stream",
     "text": [
      "Errors :-\n",
      "MSE :  3909385.4546688125\n",
      "RMSE :  1977.2165927557892 \n",
      "\n",
      "Root Mean Squre Error(RMSE)------------------------------------ 1977.2165927557892\n",
      "50   {'changepoint_prior_scale': 25, 'n_changepoints': 1, 'seasonality_prior_scale': 1}\n"
     ]
    },
    {
     "name": "stderr",
     "output_type": "stream",
     "text": [
      "17:39:37 - cmdstanpy - INFO - Chain [1] start processing\n",
      "17:39:37 - cmdstanpy - INFO - Chain [1] done processing\n"
     ]
    },
    {
     "name": "stdout",
     "output_type": "stream",
     "text": [
      "Errors :-\n",
      "MSE :  3906008.692767743\n",
      "RMSE :  1976.362490224843 \n",
      "\n",
      "Root Mean Squre Error(RMSE)------------------------------------ 1976.362490224843\n",
      "51   {'changepoint_prior_scale': 25, 'n_changepoints': 1, 'seasonality_prior_scale': 10}\n"
     ]
    },
    {
     "name": "stderr",
     "output_type": "stream",
     "text": [
      "17:39:40 - cmdstanpy - INFO - Chain [1] start processing\n",
      "17:39:40 - cmdstanpy - INFO - Chain [1] done processing\n"
     ]
    },
    {
     "name": "stdout",
     "output_type": "stream",
     "text": [
      "Errors :-\n",
      "MSE :  3907466.2934701894\n",
      "RMSE :  1976.7312142702126 \n",
      "\n",
      "Root Mean Squre Error(RMSE)------------------------------------ 1976.7312142702126\n",
      "52   {'changepoint_prior_scale': 25, 'n_changepoints': 1, 'seasonality_prior_scale': 25}\n"
     ]
    },
    {
     "name": "stderr",
     "output_type": "stream",
     "text": [
      "17:39:43 - cmdstanpy - INFO - Chain [1] start processing\n",
      "17:39:43 - cmdstanpy - INFO - Chain [1] done processing\n"
     ]
    },
    {
     "name": "stdout",
     "output_type": "stream",
     "text": [
      "Errors :-\n",
      "MSE :  3907000.01160531\n",
      "RMSE :  1976.6132680940168 \n",
      "\n",
      "Root Mean Squre Error(RMSE)------------------------------------ 1976.6132680940168\n",
      "53   {'changepoint_prior_scale': 25, 'n_changepoints': 10, 'seasonality_prior_scale': 0.05}\n"
     ]
    },
    {
     "name": "stderr",
     "output_type": "stream",
     "text": [
      "17:39:46 - cmdstanpy - INFO - Chain [1] start processing\n",
      "17:39:47 - cmdstanpy - INFO - Chain [1] done processing\n"
     ]
    },
    {
     "name": "stdout",
     "output_type": "stream",
     "text": [
      "Errors :-\n",
      "MSE :  2324312.04868448\n",
      "RMSE :  1524.5694633844928 \n",
      "\n",
      "Root Mean Squre Error(RMSE)------------------------------------ 1524.5694633844928\n",
      "54   {'changepoint_prior_scale': 25, 'n_changepoints': 10, 'seasonality_prior_scale': 1}\n"
     ]
    },
    {
     "name": "stderr",
     "output_type": "stream",
     "text": [
      "17:39:50 - cmdstanpy - INFO - Chain [1] start processing\n",
      "17:39:50 - cmdstanpy - INFO - Chain [1] done processing\n"
     ]
    },
    {
     "name": "stdout",
     "output_type": "stream",
     "text": [
      "Errors :-\n",
      "MSE :  2325747.266856379\n",
      "RMSE :  1525.040086967021 \n",
      "\n",
      "Root Mean Squre Error(RMSE)------------------------------------ 1525.040086967021\n",
      "55   {'changepoint_prior_scale': 25, 'n_changepoints': 10, 'seasonality_prior_scale': 10}\n"
     ]
    },
    {
     "name": "stderr",
     "output_type": "stream",
     "text": [
      "17:39:53 - cmdstanpy - INFO - Chain [1] start processing\n",
      "17:39:54 - cmdstanpy - INFO - Chain [1] done processing\n"
     ]
    },
    {
     "name": "stdout",
     "output_type": "stream",
     "text": [
      "Errors :-\n",
      "MSE :  2324330.829242498\n",
      "RMSE :  1524.5756226709445 \n",
      "\n",
      "Root Mean Squre Error(RMSE)------------------------------------ 1524.5756226709445\n",
      "56   {'changepoint_prior_scale': 25, 'n_changepoints': 10, 'seasonality_prior_scale': 25}\n"
     ]
    },
    {
     "name": "stderr",
     "output_type": "stream",
     "text": [
      "17:39:57 - cmdstanpy - INFO - Chain [1] start processing\n",
      "17:39:57 - cmdstanpy - INFO - Chain [1] done processing\n"
     ]
    },
    {
     "name": "stdout",
     "output_type": "stream",
     "text": [
      "Errors :-\n",
      "MSE :  2324593.759535049\n",
      "RMSE :  1524.6618508820404 \n",
      "\n",
      "Root Mean Squre Error(RMSE)------------------------------------ 1524.6618508820404\n",
      "57   {'changepoint_prior_scale': 25, 'n_changepoints': 25, 'seasonality_prior_scale': 0.05}\n"
     ]
    },
    {
     "name": "stderr",
     "output_type": "stream",
     "text": [
      "17:40:00 - cmdstanpy - INFO - Chain [1] start processing\n",
      "17:40:04 - cmdstanpy - INFO - Chain [1] done processing\n"
     ]
    },
    {
     "name": "stdout",
     "output_type": "stream",
     "text": [
      "Errors :-\n",
      "MSE :  2578392.8853432685\n",
      "RMSE :  1605.7374895490448 \n",
      "\n",
      "Root Mean Squre Error(RMSE)------------------------------------ 1605.7374895490448\n",
      "58   {'changepoint_prior_scale': 25, 'n_changepoints': 25, 'seasonality_prior_scale': 1}\n"
     ]
    },
    {
     "name": "stderr",
     "output_type": "stream",
     "text": [
      "17:40:07 - cmdstanpy - INFO - Chain [1] start processing\n",
      "17:40:12 - cmdstanpy - INFO - Chain [1] done processing\n"
     ]
    },
    {
     "name": "stdout",
     "output_type": "stream",
     "text": [
      "Errors :-\n",
      "MSE :  2582804.877533609\n",
      "RMSE :  1607.1107234828623 \n",
      "\n",
      "Root Mean Squre Error(RMSE)------------------------------------ 1607.1107234828623\n",
      "59   {'changepoint_prior_scale': 25, 'n_changepoints': 25, 'seasonality_prior_scale': 10}\n"
     ]
    },
    {
     "name": "stderr",
     "output_type": "stream",
     "text": [
      "17:40:15 - cmdstanpy - INFO - Chain [1] start processing\n",
      "17:40:19 - cmdstanpy - INFO - Chain [1] done processing\n"
     ]
    },
    {
     "name": "stdout",
     "output_type": "stream",
     "text": [
      "Errors :-\n",
      "MSE :  2579904.164689643\n",
      "RMSE :  1606.2080079148038 \n",
      "\n",
      "Root Mean Squre Error(RMSE)------------------------------------ 1606.2080079148038\n",
      "60   {'changepoint_prior_scale': 25, 'n_changepoints': 25, 'seasonality_prior_scale': 25}\n"
     ]
    },
    {
     "name": "stderr",
     "output_type": "stream",
     "text": [
      "17:40:22 - cmdstanpy - INFO - Chain [1] start processing\n",
      "17:40:27 - cmdstanpy - INFO - Chain [1] done processing\n"
     ]
    },
    {
     "name": "stdout",
     "output_type": "stream",
     "text": [
      "Errors :-\n",
      "MSE :  2584517.134116628\n",
      "RMSE :  1607.643347921618 \n",
      "\n",
      "Root Mean Squre Error(RMSE)------------------------------------ 1607.643347921618\n",
      "61   {'changepoint_prior_scale': 25, 'n_changepoints': 100, 'seasonality_prior_scale': 0.05}\n"
     ]
    },
    {
     "name": "stderr",
     "output_type": "stream",
     "text": [
      "17:40:30 - cmdstanpy - INFO - Chain [1] start processing\n",
      "17:41:07 - cmdstanpy - INFO - Chain [1] done processing\n"
     ]
    },
    {
     "name": "stdout",
     "output_type": "stream",
     "text": [
      "Errors :-\n",
      "MSE :  2822696.3454476804\n",
      "RMSE :  1680.0881957348788 \n",
      "\n",
      "Root Mean Squre Error(RMSE)------------------------------------ 1680.0881957348788\n",
      "62   {'changepoint_prior_scale': 25, 'n_changepoints': 100, 'seasonality_prior_scale': 1}\n"
     ]
    },
    {
     "name": "stderr",
     "output_type": "stream",
     "text": [
      "17:41:11 - cmdstanpy - INFO - Chain [1] start processing\n",
      "17:41:32 - cmdstanpy - INFO - Chain [1] done processing\n"
     ]
    },
    {
     "name": "stdout",
     "output_type": "stream",
     "text": [
      "Errors :-\n",
      "MSE :  2827787.7023943793\n",
      "RMSE :  1681.602718359595 \n",
      "\n",
      "Root Mean Squre Error(RMSE)------------------------------------ 1681.602718359595\n",
      "63   {'changepoint_prior_scale': 25, 'n_changepoints': 100, 'seasonality_prior_scale': 10}\n"
     ]
    },
    {
     "name": "stderr",
     "output_type": "stream",
     "text": [
      "17:41:36 - cmdstanpy - INFO - Chain [1] start processing\n",
      "17:42:04 - cmdstanpy - INFO - Chain [1] done processing\n"
     ]
    },
    {
     "name": "stdout",
     "output_type": "stream",
     "text": [
      "Errors :-\n",
      "MSE :  2833768.514631023\n",
      "RMSE :  1683.3800862048427 \n",
      "\n",
      "Root Mean Squre Error(RMSE)------------------------------------ 1683.3800862048427\n",
      "64   {'changepoint_prior_scale': 25, 'n_changepoints': 100, 'seasonality_prior_scale': 25}\n"
     ]
    },
    {
     "name": "stderr",
     "output_type": "stream",
     "text": [
      "17:42:09 - cmdstanpy - INFO - Chain [1] start processing\n",
      "17:42:55 - cmdstanpy - INFO - Chain [1] done processing\n"
     ]
    },
    {
     "name": "stdout",
     "output_type": "stream",
     "text": [
      "Errors :-\n",
      "MSE :  2861036.253824381\n",
      "RMSE :  1691.4597996477426 \n",
      "\n",
      "Root Mean Squre Error(RMSE)------------------------------------ 1691.4597996477426\n"
     ]
    }
   ],
   "source": [
    "model_parameters = pd.DataFrame(columns = ['Parameters','MSE','RMSE'])\n",
    "i = 1\n",
    "for p in grid:\n",
    "    test = pd.DataFrame()\n",
    "    print(i,' ',p)\n",
    "    i = i+1\n",
    "    random.seed(0)\n",
    "    train_model =Prophet(freq='B', \n",
    "                         changepoint_prior_scale = p['changepoint_prior_scale'],\n",
    "                         n_changepoints = p['n_changepoints'],\n",
    "                         seasonality_mode = 'multiplicative',\n",
    "                         seasonality_prior_scale=p['seasonality_prior_scale'],\n",
    "                         weekly_seasonality=False,\n",
    "                         daily_seasonality = False,\n",
    "                         yearly_seasonality = True,\n",
    "                         add_country_holidays={'country_name': 'India'}, holidays=holiday)\n",
    "    train_model.fit(train_data_minmax)\n",
    "    fh = list(range(1,653))\n",
    "    test_predictions = train_model.predict(fh=fh)\n",
    "    test_predictions=scaler.inverse_transform(test_predictions)\n",
    "    mse, rmse = error(test_data['Close'],test_predictions)\n",
    "    print('Root Mean Squre Error(RMSE)------------------------------------',rmse)\n",
    "    model_parameters = model_parameters.append({'Parameters':p, 'MSE':mse, 'RMSE':rmse},ignore_index=True)"
   ]
  },
  {
   "cell_type": "code",
   "execution_count": 43,
   "id": "3c3be9d2",
   "metadata": {},
   "outputs": [
    {
     "data": {
      "text/plain": [
       "64"
      ]
     },
     "execution_count": 43,
     "metadata": {},
     "output_type": "execute_result"
    }
   ],
   "source": [
    "len(grid)"
   ]
  },
  {
   "cell_type": "code",
   "execution_count": 44,
   "id": "f1734622",
   "metadata": {},
   "outputs": [
    {
     "data": {
      "text/html": [
       "<div>\n",
       "<style scoped>\n",
       "    .dataframe tbody tr th:only-of-type {\n",
       "        vertical-align: middle;\n",
       "    }\n",
       "\n",
       "    .dataframe tbody tr th {\n",
       "        vertical-align: top;\n",
       "    }\n",
       "\n",
       "    .dataframe thead th {\n",
       "        text-align: right;\n",
       "    }\n",
       "</style>\n",
       "<table border=\"1\" class=\"dataframe\">\n",
       "  <thead>\n",
       "    <tr style=\"text-align: right;\">\n",
       "      <th></th>\n",
       "      <th>Parameters</th>\n",
       "      <th>MSE</th>\n",
       "      <th>RMSE</th>\n",
       "    </tr>\n",
       "  </thead>\n",
       "  <tbody>\n",
       "    <tr>\n",
       "      <th>0</th>\n",
       "      <td>{'changepoint_prior_scale': 10, 'n_changepoint...</td>\n",
       "      <td>2.323035e+06</td>\n",
       "      <td>1524.150581</td>\n",
       "    </tr>\n",
       "    <tr>\n",
       "      <th>1</th>\n",
       "      <td>{'changepoint_prior_scale': 1, 'n_changepoints...</td>\n",
       "      <td>2.323874e+06</td>\n",
       "      <td>1524.425649</td>\n",
       "    </tr>\n",
       "    <tr>\n",
       "      <th>2</th>\n",
       "      <td>{'changepoint_prior_scale': 25, 'n_changepoint...</td>\n",
       "      <td>2.324312e+06</td>\n",
       "      <td>1524.569463</td>\n",
       "    </tr>\n",
       "    <tr>\n",
       "      <th>3</th>\n",
       "      <td>{'changepoint_prior_scale': 25, 'n_changepoint...</td>\n",
       "      <td>2.324331e+06</td>\n",
       "      <td>1524.575623</td>\n",
       "    </tr>\n",
       "    <tr>\n",
       "      <th>4</th>\n",
       "      <td>{'changepoint_prior_scale': 25, 'n_changepoint...</td>\n",
       "      <td>2.324594e+06</td>\n",
       "      <td>1524.661851</td>\n",
       "    </tr>\n",
       "  </tbody>\n",
       "</table>\n",
       "</div>"
      ],
      "text/plain": [
       "                                          Parameters           MSE  \\\n",
       "0  {'changepoint_prior_scale': 10, 'n_changepoint...  2.323035e+06   \n",
       "1  {'changepoint_prior_scale': 1, 'n_changepoints...  2.323874e+06   \n",
       "2  {'changepoint_prior_scale': 25, 'n_changepoint...  2.324312e+06   \n",
       "3  {'changepoint_prior_scale': 25, 'n_changepoint...  2.324331e+06   \n",
       "4  {'changepoint_prior_scale': 25, 'n_changepoint...  2.324594e+06   \n",
       "\n",
       "          RMSE  \n",
       "0  1524.150581  \n",
       "1  1524.425649  \n",
       "2  1524.569463  \n",
       "3  1524.575623  \n",
       "4  1524.661851  "
      ]
     },
     "execution_count": 44,
     "metadata": {},
     "output_type": "execute_result"
    }
   ],
   "source": [
    "parameters = model_parameters.sort_values(by=['RMSE'])\n",
    "parameters = parameters.reset_index(drop=True)\n",
    "parameters.head()"
   ]
  },
  {
   "cell_type": "code",
   "execution_count": 45,
   "id": "0a3941e4",
   "metadata": {},
   "outputs": [
    {
     "data": {
      "text/plain": [
       "{'changepoint_prior_scale': 10,\n",
       " 'n_changepoints': 10,\n",
       " 'seasonality_prior_scale': 0.05}"
      ]
     },
     "execution_count": 45,
     "metadata": {},
     "output_type": "execute_result"
    }
   ],
   "source": [
    "parameters['Parameters'][0]"
   ]
  },
  {
   "cell_type": "code",
   "execution_count": 46,
   "id": "5365623b",
   "metadata": {},
   "outputs": [
    {
     "name": "stderr",
     "output_type": "stream",
     "text": [
      "17:43:00 - cmdstanpy - INFO - Chain [1] start processing\n",
      "17:43:01 - cmdstanpy - INFO - Chain [1] done processing\n"
     ]
    },
    {
     "data": {
      "text/html": [
       "<style>#sk-container-id-2 {color: black;background-color: white;}#sk-container-id-2 pre{padding: 0;}#sk-container-id-2 div.sk-toggleable {background-color: white;}#sk-container-id-2 label.sk-toggleable__label {cursor: pointer;display: block;width: 100%;margin-bottom: 0;padding: 0.3em;box-sizing: border-box;text-align: center;}#sk-container-id-2 label.sk-toggleable__label-arrow:before {content: \"▸\";float: left;margin-right: 0.25em;color: #696969;}#sk-container-id-2 label.sk-toggleable__label-arrow:hover:before {color: black;}#sk-container-id-2 div.sk-estimator:hover label.sk-toggleable__label-arrow:before {color: black;}#sk-container-id-2 div.sk-toggleable__content {max-height: 0;max-width: 0;overflow: hidden;text-align: left;background-color: #f0f8ff;}#sk-container-id-2 div.sk-toggleable__content pre {margin: 0.2em;color: black;border-radius: 0.25em;background-color: #f0f8ff;}#sk-container-id-2 input.sk-toggleable__control:checked~div.sk-toggleable__content {max-height: 200px;max-width: 100%;overflow: auto;}#sk-container-id-2 input.sk-toggleable__control:checked~label.sk-toggleable__label-arrow:before {content: \"▾\";}#sk-container-id-2 div.sk-estimator input.sk-toggleable__control:checked~label.sk-toggleable__label {background-color: #d4ebff;}#sk-container-id-2 div.sk-label input.sk-toggleable__control:checked~label.sk-toggleable__label {background-color: #d4ebff;}#sk-container-id-2 input.sk-hidden--visually {border: 0;clip: rect(1px 1px 1px 1px);clip: rect(1px, 1px, 1px, 1px);height: 1px;margin: -1px;overflow: hidden;padding: 0;position: absolute;width: 1px;}#sk-container-id-2 div.sk-estimator {font-family: monospace;background-color: #f0f8ff;border: 1px dotted black;border-radius: 0.25em;box-sizing: border-box;margin-bottom: 0.5em;}#sk-container-id-2 div.sk-estimator:hover {background-color: #d4ebff;}#sk-container-id-2 div.sk-parallel-item::after {content: \"\";width: 100%;border-bottom: 1px solid gray;flex-grow: 1;}#sk-container-id-2 div.sk-label:hover label.sk-toggleable__label {background-color: #d4ebff;}#sk-container-id-2 div.sk-serial::before {content: \"\";position: absolute;border-left: 1px solid gray;box-sizing: border-box;top: 0;bottom: 0;left: 50%;z-index: 0;}#sk-container-id-2 div.sk-serial {display: flex;flex-direction: column;align-items: center;background-color: white;padding-right: 0.2em;padding-left: 0.2em;position: relative;}#sk-container-id-2 div.sk-item {position: relative;z-index: 1;}#sk-container-id-2 div.sk-parallel {display: flex;align-items: stretch;justify-content: center;background-color: white;position: relative;}#sk-container-id-2 div.sk-item::before, #sk-container-id-2 div.sk-parallel-item::before {content: \"\";position: absolute;border-left: 1px solid gray;box-sizing: border-box;top: 0;bottom: 0;left: 50%;z-index: -1;}#sk-container-id-2 div.sk-parallel-item {display: flex;flex-direction: column;z-index: 1;position: relative;background-color: white;}#sk-container-id-2 div.sk-parallel-item:first-child::after {align-self: flex-end;width: 50%;}#sk-container-id-2 div.sk-parallel-item:last-child::after {align-self: flex-start;width: 50%;}#sk-container-id-2 div.sk-parallel-item:only-child::after {width: 0;}#sk-container-id-2 div.sk-dashed-wrapped {border: 1px dashed gray;margin: 0 0.4em 0.5em 0.4em;box-sizing: border-box;padding-bottom: 0.4em;background-color: white;}#sk-container-id-2 div.sk-label label {font-family: monospace;font-weight: bold;display: inline-block;line-height: 1.2em;}#sk-container-id-2 div.sk-label-container {text-align: center;}#sk-container-id-2 div.sk-container {/* jupyter's `normalize.less` sets `[hidden] { display: none; }` but bootstrap.min.css set `[hidden] { display: none !important; }` so we also need the `!important` here to be able to override the default hidden behavior on the sphinx rendered scikit-learn.org. See: https://github.com/scikit-learn/scikit-learn/issues/21755 */display: inline-block !important;position: relative;}#sk-container-id-2 div.sk-text-repr-fallback {display: none;}</style><div id=\"sk-container-id-2\" class=\"sk-top-container\"><div class=\"sk-text-repr-fallback\"><pre>Prophet(add_country_holidays={&#x27;country_name&#x27;: &#x27;India&#x27;},\n",
       "        changepoint_prior_scale=10, daily_seasonality=False, freq=&#x27;B&#x27;,\n",
       "        holidays=           ds         holiday\n",
       "0  2011-01-14  India_Holidays\n",
       "1  2011-01-26  India_Holidays\n",
       "2  2011-03-19  India_Holidays\n",
       "3  2011-05-01  India_Holidays\n",
       "4  2011-08-15  India_Holidays\n",
       "..        ...             ...\n",
       "87 2021-12-25  India_Holidays\n",
       "88 2022-01-14  India_Holidays\n",
       "89 2022-01-26  India_Holidays\n",
       "90 2022-03-18  India_Holidays\n",
       "91 2022-05-01  India_Holidays\n",
       "\n",
       "[92 rows x 2 columns],\n",
       "        n_changepoints=10, seasonality_mode=&#x27;multiplicative&#x27;,\n",
       "        seasonality_prior_scale=0.05, verbose=10, weekly_seasonality=False,\n",
       "        yearly_seasonality=True)</pre><b>In a Jupyter environment, please rerun this cell to show the HTML representation or trust the notebook. <br />On GitHub, the HTML representation is unable to render, please try loading this page with nbviewer.org.</b></div><div class=\"sk-container\" hidden><div class=\"sk-item\"><div class=\"sk-estimator sk-toggleable\"><input class=\"sk-toggleable__control sk-hidden--visually\" id=\"sk-estimator-id-2\" type=\"checkbox\" checked><label for=\"sk-estimator-id-2\" class=\"sk-toggleable__label sk-toggleable__label-arrow\">Prophet</label><div class=\"sk-toggleable__content\"><pre>Prophet(add_country_holidays={&#x27;country_name&#x27;: &#x27;India&#x27;},\n",
       "        changepoint_prior_scale=10, daily_seasonality=False, freq=&#x27;B&#x27;,\n",
       "        holidays=           ds         holiday\n",
       "0  2011-01-14  India_Holidays\n",
       "1  2011-01-26  India_Holidays\n",
       "2  2011-03-19  India_Holidays\n",
       "3  2011-05-01  India_Holidays\n",
       "4  2011-08-15  India_Holidays\n",
       "..        ...             ...\n",
       "87 2021-12-25  India_Holidays\n",
       "88 2022-01-14  India_Holidays\n",
       "89 2022-01-26  India_Holidays\n",
       "90 2022-03-18  India_Holidays\n",
       "91 2022-05-01  India_Holidays\n",
       "\n",
       "[92 rows x 2 columns],\n",
       "        n_changepoints=10, seasonality_mode=&#x27;multiplicative&#x27;,\n",
       "        seasonality_prior_scale=0.05, verbose=10, weekly_seasonality=False,\n",
       "        yearly_seasonality=True)</pre></div></div></div></div></div>"
      ],
      "text/plain": [
       "Prophet(add_country_holidays={'country_name': 'India'},\n",
       "        changepoint_prior_scale=10, daily_seasonality=False, freq='B',\n",
       "        holidays=           ds         holiday\n",
       "0  2011-01-14  India_Holidays\n",
       "1  2011-01-26  India_Holidays\n",
       "2  2011-03-19  India_Holidays\n",
       "3  2011-05-01  India_Holidays\n",
       "4  2011-08-15  India_Holidays\n",
       "..        ...             ...\n",
       "87 2021-12-25  India_Holidays\n",
       "88 2022-01-14  India_Holidays\n",
       "89 2022-01-26  India_Holidays\n",
       "90 2022-03-18  India_Holidays\n",
       "91 2022-05-01  India_Holidays\n",
       "\n",
       "[92 rows x 2 columns],\n",
       "        n_changepoints=10, seasonality_mode='multiplicative',\n",
       "        seasonality_prior_scale=0.05, verbose=10, weekly_seasonality=False,\n",
       "        yearly_seasonality=True)"
      ]
     },
     "execution_count": 46,
     "metadata": {},
     "output_type": "execute_result"
    }
   ],
   "source": [
    "Pro_model = Prophet(freq='B', seasonality_mode='multiplicative', \n",
    "                    changepoint_prior_scale=parameters['Parameters'][0]['changepoint_prior_scale'], \n",
    "                    n_changepoints=parameters['Parameters'][0]['n_changepoints'], \n",
    "                    seasonality_prior_scale=parameters['Parameters'][0]['seasonality_prior_scale'], \n",
    "                    add_country_holidays={'country_name': 'India'}, verbose=10,\n",
    "                    holidays=holiday,\n",
    "                    yearly_seasonality=True, weekly_seasonality=False , daily_seasonality=False)\n",
    "Pro_model.fit(train_data_minmax)"
   ]
  },
  {
   "cell_type": "code",
   "execution_count": 47,
   "id": "b0ee9574",
   "metadata": {},
   "outputs": [
    {
     "data": {
      "text/html": [
       "<div>\n",
       "<style scoped>\n",
       "    .dataframe tbody tr th:only-of-type {\n",
       "        vertical-align: middle;\n",
       "    }\n",
       "\n",
       "    .dataframe tbody tr th {\n",
       "        vertical-align: top;\n",
       "    }\n",
       "\n",
       "    .dataframe thead th {\n",
       "        text-align: right;\n",
       "    }\n",
       "</style>\n",
       "<table border=\"1\" class=\"dataframe\">\n",
       "  <thead>\n",
       "    <tr style=\"text-align: right;\">\n",
       "      <th></th>\n",
       "      <th>yhat</th>\n",
       "    </tr>\n",
       "  </thead>\n",
       "  <tbody>\n",
       "    <tr>\n",
       "      <th>2020-01-01</th>\n",
       "      <td>0.901480</td>\n",
       "    </tr>\n",
       "    <tr>\n",
       "      <th>2020-01-02</th>\n",
       "      <td>0.900033</td>\n",
       "    </tr>\n",
       "    <tr>\n",
       "      <th>2020-01-03</th>\n",
       "      <td>0.898457</td>\n",
       "    </tr>\n",
       "    <tr>\n",
       "      <th>2020-01-06</th>\n",
       "      <td>0.894617</td>\n",
       "    </tr>\n",
       "    <tr>\n",
       "      <th>2020-01-07</th>\n",
       "      <td>0.893691</td>\n",
       "    </tr>\n",
       "    <tr>\n",
       "      <th>...</th>\n",
       "      <td>...</td>\n",
       "    </tr>\n",
       "    <tr>\n",
       "      <th>2022-06-24</th>\n",
       "      <td>1.471399</td>\n",
       "    </tr>\n",
       "    <tr>\n",
       "      <th>2022-06-27</th>\n",
       "      <td>1.475095</td>\n",
       "    </tr>\n",
       "    <tr>\n",
       "      <th>2022-06-28</th>\n",
       "      <td>1.476516</td>\n",
       "    </tr>\n",
       "    <tr>\n",
       "      <th>2022-06-29</th>\n",
       "      <td>1.477992</td>\n",
       "    </tr>\n",
       "    <tr>\n",
       "      <th>2022-06-30</th>\n",
       "      <td>1.479493</td>\n",
       "    </tr>\n",
       "  </tbody>\n",
       "</table>\n",
       "<p>652 rows × 1 columns</p>\n",
       "</div>"
      ],
      "text/plain": [
       "                yhat\n",
       "2020-01-01  0.901480\n",
       "2020-01-02  0.900033\n",
       "2020-01-03  0.898457\n",
       "2020-01-06  0.894617\n",
       "2020-01-07  0.893691\n",
       "...              ...\n",
       "2022-06-24  1.471399\n",
       "2022-06-27  1.475095\n",
       "2022-06-28  1.476516\n",
       "2022-06-29  1.477992\n",
       "2022-06-30  1.479493\n",
       "\n",
       "[652 rows x 1 columns]"
      ]
     },
     "execution_count": 47,
     "metadata": {},
     "output_type": "execute_result"
    }
   ],
   "source": [
    "fh = list(range(1,653))\n",
    "# fh1 = pd.DatetimeIndex(np.array(test_data.index))\n",
    "# fh1\n",
    "test_predictions_minmax = Pro_model.predict(fh=fh)\n",
    "test_predictions_minmax"
   ]
  },
  {
   "cell_type": "code",
   "execution_count": 48,
   "id": "aac06fa9",
   "metadata": {},
   "outputs": [
    {
     "data": {
      "text/html": [
       "<div>\n",
       "<style scoped>\n",
       "    .dataframe tbody tr th:only-of-type {\n",
       "        vertical-align: middle;\n",
       "    }\n",
       "\n",
       "    .dataframe tbody tr th {\n",
       "        vertical-align: top;\n",
       "    }\n",
       "\n",
       "    .dataframe thead th {\n",
       "        text-align: right;\n",
       "    }\n",
       "</style>\n",
       "<table border=\"1\" class=\"dataframe\">\n",
       "  <thead>\n",
       "    <tr style=\"text-align: right;\">\n",
       "      <th></th>\n",
       "      <th>Close</th>\n",
       "    </tr>\n",
       "    <tr>\n",
       "      <th>Date</th>\n",
       "      <th></th>\n",
       "    </tr>\n",
       "  </thead>\n",
       "  <tbody>\n",
       "    <tr>\n",
       "      <th>2020-01-01</th>\n",
       "      <td>13244.437052</td>\n",
       "    </tr>\n",
       "    <tr>\n",
       "      <th>2020-01-02</th>\n",
       "      <td>13227.590719</td>\n",
       "    </tr>\n",
       "    <tr>\n",
       "      <th>2020-01-03</th>\n",
       "      <td>13209.252399</td>\n",
       "    </tr>\n",
       "    <tr>\n",
       "      <th>2020-01-06</th>\n",
       "      <td>13164.565496</td>\n",
       "    </tr>\n",
       "    <tr>\n",
       "      <th>2020-01-07</th>\n",
       "      <td>13153.789244</td>\n",
       "    </tr>\n",
       "    <tr>\n",
       "      <th>...</th>\n",
       "      <td>...</td>\n",
       "    </tr>\n",
       "    <tr>\n",
       "      <th>2022-06-24</th>\n",
       "      <td>19877.187439</td>\n",
       "    </tr>\n",
       "    <tr>\n",
       "      <th>2022-06-27</th>\n",
       "      <td>19920.204556</td>\n",
       "    </tr>\n",
       "    <tr>\n",
       "      <th>2022-06-28</th>\n",
       "      <td>19936.748790</td>\n",
       "    </tr>\n",
       "    <tr>\n",
       "      <th>2022-06-29</th>\n",
       "      <td>19953.916847</td>\n",
       "    </tr>\n",
       "    <tr>\n",
       "      <th>2022-06-30</th>\n",
       "      <td>19971.394946</td>\n",
       "    </tr>\n",
       "  </tbody>\n",
       "</table>\n",
       "<p>652 rows × 1 columns</p>\n",
       "</div>"
      ],
      "text/plain": [
       "                   Close\n",
       "Date                    \n",
       "2020-01-01  13244.437052\n",
       "2020-01-02  13227.590719\n",
       "2020-01-03  13209.252399\n",
       "2020-01-06  13164.565496\n",
       "2020-01-07  13153.789244\n",
       "...                  ...\n",
       "2022-06-24  19877.187439\n",
       "2022-06-27  19920.204556\n",
       "2022-06-28  19936.748790\n",
       "2022-06-29  19953.916847\n",
       "2022-06-30  19971.394946\n",
       "\n",
       "[652 rows x 1 columns]"
      ]
     },
     "execution_count": 48,
     "metadata": {},
     "output_type": "execute_result"
    }
   ],
   "source": [
    "test_predictions=scaler.inverse_transform(test_predictions_minmax)\n",
    "test_predictions = pd.DataFrame(test_predictions, columns = ['Close'])\n",
    "test_predictions.index = test_data.index\n",
    "test_predictions"
   ]
  },
  {
   "cell_type": "code",
   "execution_count": 49,
   "id": "40a2cb82",
   "metadata": {},
   "outputs": [
    {
     "data": {
      "image/png": "[encoded data removed]"
     },
     "metadata": {},
     "output_type": "display_data"
    }
   ],
   "source": [
    "fig = go.Figure()\n",
    "\n",
    "fig.add_trace(go.Scatter(x=train_data.index, y=train_data['Close'], mode='lines', name='TRAIN'))\n",
    "fig.add_trace(go.Scatter(x=test_data.index, y=test_data['Close'], mode='lines', name='TEST'))\n",
    "fig.add_trace(go.Scatter(x=test_predictions.index, y=test_predictions['Close'], mode='lines', name='PREDICTION'))\n",
    "\n",
    "fig.update_layout(title_text='Forecast vs Actuals', title_x=0.5)\n",
    "fig.show()"
   ]
  },
  {
   "cell_type": "code",
   "execution_count": null,
   "id": "3e73e391",
   "metadata": {},
   "outputs": [],
   "source": []
  },
  {
   "cell_type": "markdown",
   "id": "3cc30d81",
   "metadata": {},
   "source": [
    "# Auto Ensemble Forecaster"
   ]
  },
  {
   "cell_type": "code",
   "execution_count": 50,
   "id": "49c5bb0d",
   "metadata": {},
   "outputs": [],
   "source": [
    "from sktime.forecasting.compose import AutoEnsembleForecaster"
   ]
  },
  {
   "cell_type": "code",
   "execution_count": 51,
   "id": "1091a743",
   "metadata": {},
   "outputs": [],
   "source": [
    "from sktime.forecasting.exp_smoothing import ExponentialSmoothing\n",
    "from sktime.forecasting.fbprophet import Prophet"
   ]
  },
  {
   "cell_type": "code",
   "execution_count": 52,
   "id": "9cbe333f",
   "metadata": {},
   "outputs": [],
   "source": [
    "Pro_model = Prophet(freq='B', seasonality_mode='multiplicative', \n",
    "                    changepoint_prior_scale=25, \n",
    "                    n_changepoints=10, \n",
    "                    seasonality_prior_scale=0.05, \n",
    "                    add_country_holidays={'country_name': 'India'}, verbose=10,\n",
    "                    holidays=holiday,\n",
    "                    yearly_seasonality=True, weekly_seasonality=False , daily_seasonality=False)\n",
    "# Pro_model.fit(train_data)"
   ]
  },
  {
   "cell_type": "code",
   "execution_count": 53,
   "id": "fa7d2c69",
   "metadata": {},
   "outputs": [],
   "source": [
    "Expo_model = ExponentialSmoothing(trend='add',seasonal='mul',sp=262, damped_trend=False)\n",
    "# Expo_model.fit(train_data_minmax)"
   ]
  },
  {
   "cell_type": "code",
   "execution_count": 54,
   "id": "1da52834",
   "metadata": {},
   "outputs": [],
   "source": [
    "forecasters = [\n",
    "    (\"prophet\" , Pro_model),\n",
    "    (\"expo\" , Expo_model)\n",
    "]"
   ]
  },
  {
   "cell_type": "code",
   "execution_count": 55,
   "id": "1a1433b4",
   "metadata": {},
   "outputs": [
    {
     "data": {
      "text/html": [
       "<style>#sk-container-id-3 {color: black;background-color: white;}#sk-container-id-3 pre{padding: 0;}#sk-container-id-3 div.sk-toggleable {background-color: white;}#sk-container-id-3 label.sk-toggleable__label {cursor: pointer;display: block;width: 100%;margin-bottom: 0;padding: 0.3em;box-sizing: border-box;text-align: center;}#sk-container-id-3 label.sk-toggleable__label-arrow:before {content: \"▸\";float: left;margin-right: 0.25em;color: #696969;}#sk-container-id-3 label.sk-toggleable__label-arrow:hover:before {color: black;}#sk-container-id-3 div.sk-estimator:hover label.sk-toggleable__label-arrow:before {color: black;}#sk-container-id-3 div.sk-toggleable__content {max-height: 0;max-width: 0;overflow: hidden;text-align: left;background-color: #f0f8ff;}#sk-container-id-3 div.sk-toggleable__content pre {margin: 0.2em;color: black;border-radius: 0.25em;background-color: #f0f8ff;}#sk-container-id-3 input.sk-toggleable__control:checked~div.sk-toggleable__content {max-height: 200px;max-width: 100%;overflow: auto;}#sk-container-id-3 input.sk-toggleable__control:checked~label.sk-toggleable__label-arrow:before {content: \"▾\";}#sk-container-id-3 div.sk-estimator input.sk-toggleable__control:checked~label.sk-toggleable__label {background-color: #d4ebff;}#sk-container-id-3 div.sk-label input.sk-toggleable__control:checked~label.sk-toggleable__label {background-color: #d4ebff;}#sk-container-id-3 input.sk-hidden--visually {border: 0;clip: rect(1px 1px 1px 1px);clip: rect(1px, 1px, 1px, 1px);height: 1px;margin: -1px;overflow: hidden;padding: 0;position: absolute;width: 1px;}#sk-container-id-3 div.sk-estimator {font-family: monospace;background-color: #f0f8ff;border: 1px dotted black;border-radius: 0.25em;box-sizing: border-box;margin-bottom: 0.5em;}#sk-container-id-3 div.sk-estimator:hover {background-color: #d4ebff;}#sk-container-id-3 div.sk-parallel-item::after {content: \"\";width: 100%;border-bottom: 1px solid gray;flex-grow: 1;}#sk-container-id-3 div.sk-label:hover label.sk-toggleable__label {background-color: #d4ebff;}#sk-container-id-3 div.sk-serial::before {content: \"\";position: absolute;border-left: 1px solid gray;box-sizing: border-box;top: 0;bottom: 0;left: 50%;z-index: 0;}#sk-container-id-3 div.sk-serial {display: flex;flex-direction: column;align-items: center;background-color: white;padding-right: 0.2em;padding-left: 0.2em;position: relative;}#sk-container-id-3 div.sk-item {position: relative;z-index: 1;}#sk-container-id-3 div.sk-parallel {display: flex;align-items: stretch;justify-content: center;background-color: white;position: relative;}#sk-container-id-3 div.sk-item::before, #sk-container-id-3 div.sk-parallel-item::before {content: \"\";position: absolute;border-left: 1px solid gray;box-sizing: border-box;top: 0;bottom: 0;left: 50%;z-index: -1;}#sk-container-id-3 div.sk-parallel-item {display: flex;flex-direction: column;z-index: 1;position: relative;background-color: white;}#sk-container-id-3 div.sk-parallel-item:first-child::after {align-self: flex-end;width: 50%;}#sk-container-id-3 div.sk-parallel-item:last-child::after {align-self: flex-start;width: 50%;}#sk-container-id-3 div.sk-parallel-item:only-child::after {width: 0;}#sk-container-id-3 div.sk-dashed-wrapped {border: 1px dashed gray;margin: 0 0.4em 0.5em 0.4em;box-sizing: border-box;padding-bottom: 0.4em;background-color: white;}#sk-container-id-3 div.sk-label label {font-family: monospace;font-weight: bold;display: inline-block;line-height: 1.2em;}#sk-container-id-3 div.sk-label-container {text-align: center;}#sk-container-id-3 div.sk-container {/* jupyter's `normalize.less` sets `[hidden] { display: none; }` but bootstrap.min.css set `[hidden] { display: none !important; }` so we also need the `!important` here to be able to override the default hidden behavior on the sphinx rendered scikit-learn.org. See: https://github.com/scikit-learn/scikit-learn/issues/21755 */display: inline-block !important;position: relative;}#sk-container-id-3 div.sk-text-repr-fallback {display: none;}</style><div id=\"sk-container-id-3\" class=\"sk-top-container\"><div class=\"sk-text-repr-fallback\"><pre>AutoEnsembleForecaster(forecasters=[(&#x27;prophet&#x27;,\n",
       "                                     Prophet(add_country_holidays={&#x27;country_name&#x27;: &#x27;India&#x27;},\n",
       "                                             changepoint_prior_scale=25,\n",
       "                                             daily_seasonality=False, freq=&#x27;B&#x27;,\n",
       "                                             holidays=           ds         holiday\n",
       "0  2011-01-14  India_Holidays\n",
       "1  2011-01-26  India_Holidays\n",
       "2  2011-03-19  India_Holidays\n",
       "3  2011-05-01  India_Holidays\n",
       "4  2011-08-15  India_Holidays\n",
       "..        ...             ...\n",
       "87 2021-12-25  India_Holidays\n",
       "88 2022-01-14  India_Holidays\n",
       "89 2022-01-26  India_Holidays\n",
       "90 2022-03-18  India_Holidays\n",
       "91 2022-05-01  India_Holidays\n",
       "\n",
       "[92 rows x 2 columns],\n",
       "                                             n_changepoints=10,\n",
       "                                             seasonality_mode=&#x27;multiplicative&#x27;,\n",
       "                                             seasonality_prior_scale=0.05,\n",
       "                                             verbose=10,\n",
       "                                             weekly_seasonality=False,\n",
       "                                             yearly_seasonality=True)),\n",
       "                                    (&#x27;expo&#x27;,\n",
       "                                     ExponentialSmoothing(seasonal=&#x27;mul&#x27;,\n",
       "                                                          sp=262,\n",
       "                                                          trend=&#x27;add&#x27;))],\n",
       "                       n_jobs=-1, random_state=42)</pre><b>In a Jupyter environment, please rerun this cell to show the HTML representation or trust the notebook. <br />On GitHub, the HTML representation is unable to render, please try loading this page with nbviewer.org.</b></div><div class=\"sk-container\" hidden><div class=\"sk-item\"><div class=\"sk-estimator sk-toggleable\"><input class=\"sk-toggleable__control sk-hidden--visually\" id=\"sk-estimator-id-3\" type=\"checkbox\" checked><label for=\"sk-estimator-id-3\" class=\"sk-toggleable__label sk-toggleable__label-arrow\">AutoEnsembleForecaster</label><div class=\"sk-toggleable__content\"><pre>AutoEnsembleForecaster(forecasters=[(&#x27;prophet&#x27;,\n",
       "                                     Prophet(add_country_holidays={&#x27;country_name&#x27;: &#x27;India&#x27;},\n",
       "                                             changepoint_prior_scale=25,\n",
       "                                             daily_seasonality=False, freq=&#x27;B&#x27;,\n",
       "                                             holidays=           ds         holiday\n",
       "0  2011-01-14  India_Holidays\n",
       "1  2011-01-26  India_Holidays\n",
       "2  2011-03-19  India_Holidays\n",
       "3  2011-05-01  India_Holidays\n",
       "4  2011-08-15  India_Holidays\n",
       "..        ...             ...\n",
       "87 2021-12-25  India_Holidays\n",
       "88 2022-01-14  India_Holidays\n",
       "89 2022-01-26  India_Holidays\n",
       "90 2022-03-18  India_Holidays\n",
       "91 2022-05-01  India_Holidays\n",
       "\n",
       "[92 rows x 2 columns],\n",
       "                                             n_changepoints=10,\n",
       "                                             seasonality_mode=&#x27;multiplicative&#x27;,\n",
       "                                             seasonality_prior_scale=0.05,\n",
       "                                             verbose=10,\n",
       "                                             weekly_seasonality=False,\n",
       "                                             yearly_seasonality=True)),\n",
       "                                    (&#x27;expo&#x27;,\n",
       "                                     ExponentialSmoothing(seasonal=&#x27;mul&#x27;,\n",
       "                                                          sp=262,\n",
       "                                                          trend=&#x27;add&#x27;))],\n",
       "                       n_jobs=-1, random_state=42)</pre></div></div></div></div></div>"
      ],
      "text/plain": [
       "AutoEnsembleForecaster(forecasters=[('prophet',\n",
       "                                     Prophet(add_country_holidays={'country_name': 'India'},\n",
       "                                             changepoint_prior_scale=25,\n",
       "                                             daily_seasonality=False, freq='B',\n",
       "                                             holidays=           ds         holiday\n",
       "0  2011-01-14  India_Holidays\n",
       "1  2011-01-26  India_Holidays\n",
       "2  2011-03-19  India_Holidays\n",
       "3  2011-05-01  India_Holidays\n",
       "4  2011-08-15  India_Holidays\n",
       "..        ...             ...\n",
       "87 2021-12-25  India_Holidays\n",
       "88 2022-01-14  India_Holidays\n",
       "89 2022-01-26  India_Holidays\n",
       "90 2022-03-18  India_Holidays\n",
       "91 2022-05-01  India_Holidays\n",
       "\n",
       "[92 rows x 2 columns],\n",
       "                                             n_changepoints=10,\n",
       "                                             seasonality_mode='multiplicative',\n",
       "                                             seasonality_prior_scale=0.05,\n",
       "                                             verbose=10,\n",
       "                                             weekly_seasonality=False,\n",
       "                                             yearly_seasonality=True)),\n",
       "                                    ('expo',\n",
       "                                     ExponentialSmoothing(seasonal='mul',\n",
       "                                                          sp=262,\n",
       "                                                          trend='add'))],\n",
       "                       n_jobs=-1, random_state=42)"
      ]
     },
     "execution_count": 55,
     "metadata": {},
     "output_type": "execute_result"
    }
   ],
   "source": [
    "Ensmodel = AutoEnsembleForecaster(forecasters=forecasters, n_jobs=-1, random_state=42)\n",
    "Ensmodel.fit(train_data_minmax)"
   ]
  },
  {
   "cell_type": "code",
   "execution_count": 56,
   "id": "c8720b1e",
   "metadata": {},
   "outputs": [
    {
     "data": {
      "text/html": [
       "<div>\n",
       "<style scoped>\n",
       "    .dataframe tbody tr th:only-of-type {\n",
       "        vertical-align: middle;\n",
       "    }\n",
       "\n",
       "    .dataframe tbody tr th {\n",
       "        vertical-align: top;\n",
       "    }\n",
       "\n",
       "    .dataframe thead th {\n",
       "        text-align: right;\n",
       "    }\n",
       "</style>\n",
       "<table border=\"1\" class=\"dataframe\">\n",
       "  <thead>\n",
       "    <tr style=\"text-align: right;\">\n",
       "      <th></th>\n",
       "      <th>close</th>\n",
       "    </tr>\n",
       "  </thead>\n",
       "  <tbody>\n",
       "    <tr>\n",
       "      <th>2020-01-01</th>\n",
       "      <td>0.963721</td>\n",
       "    </tr>\n",
       "    <tr>\n",
       "      <th>2020-01-02</th>\n",
       "      <td>0.962498</td>\n",
       "    </tr>\n",
       "    <tr>\n",
       "      <th>2020-01-03</th>\n",
       "      <td>0.965125</td>\n",
       "    </tr>\n",
       "    <tr>\n",
       "      <th>2020-01-06</th>\n",
       "      <td>0.974414</td>\n",
       "    </tr>\n",
       "    <tr>\n",
       "      <th>2020-01-07</th>\n",
       "      <td>0.954501</td>\n",
       "    </tr>\n",
       "    <tr>\n",
       "      <th>...</th>\n",
       "      <td>...</td>\n",
       "    </tr>\n",
       "    <tr>\n",
       "      <th>2022-06-24</th>\n",
       "      <td>1.429948</td>\n",
       "    </tr>\n",
       "    <tr>\n",
       "      <th>2022-06-27</th>\n",
       "      <td>1.422494</td>\n",
       "    </tr>\n",
       "    <tr>\n",
       "      <th>2022-06-28</th>\n",
       "      <td>1.434035</td>\n",
       "    </tr>\n",
       "    <tr>\n",
       "      <th>2022-06-29</th>\n",
       "      <td>1.442487</td>\n",
       "    </tr>\n",
       "    <tr>\n",
       "      <th>2022-06-30</th>\n",
       "      <td>1.451867</td>\n",
       "    </tr>\n",
       "  </tbody>\n",
       "</table>\n",
       "<p>652 rows × 1 columns</p>\n",
       "</div>"
      ],
      "text/plain": [
       "               close\n",
       "2020-01-01  0.963721\n",
       "2020-01-02  0.962498\n",
       "2020-01-03  0.965125\n",
       "2020-01-06  0.974414\n",
       "2020-01-07  0.954501\n",
       "...              ...\n",
       "2022-06-24  1.429948\n",
       "2022-06-27  1.422494\n",
       "2022-06-28  1.434035\n",
       "2022-06-29  1.442487\n",
       "2022-06-30  1.451867\n",
       "\n",
       "[652 rows x 1 columns]"
      ]
     },
     "execution_count": 56,
     "metadata": {},
     "output_type": "execute_result"
    }
   ],
   "source": [
    "fh = list(range(1,653))\n",
    "# fh1 = pd.DatetimeIndex(np.array(test_data.index))\n",
    "# fh1\n",
    "test_predictionsEns = Ensmodel.predict(fh=fh)\n",
    "test_predictionsEns"
   ]
  },
  {
   "cell_type": "code",
   "execution_count": 57,
   "id": "c19cdeba",
   "metadata": {},
   "outputs": [
    {
     "data": {
      "text/html": [
       "<div>\n",
       "<style scoped>\n",
       "    .dataframe tbody tr th:only-of-type {\n",
       "        vertical-align: middle;\n",
       "    }\n",
       "\n",
       "    .dataframe tbody tr th {\n",
       "        vertical-align: top;\n",
       "    }\n",
       "\n",
       "    .dataframe thead th {\n",
       "        text-align: right;\n",
       "    }\n",
       "</style>\n",
       "<table border=\"1\" class=\"dataframe\">\n",
       "  <thead>\n",
       "    <tr style=\"text-align: right;\">\n",
       "      <th></th>\n",
       "      <th>Close</th>\n",
       "    </tr>\n",
       "    <tr>\n",
       "      <th>Date</th>\n",
       "      <th></th>\n",
       "    </tr>\n",
       "  </thead>\n",
       "  <tbody>\n",
       "    <tr>\n",
       "      <th>2020-01-01</th>\n",
       "      <td>13968.804582</td>\n",
       "    </tr>\n",
       "    <tr>\n",
       "      <th>2020-01-02</th>\n",
       "      <td>13954.562060</td>\n",
       "    </tr>\n",
       "    <tr>\n",
       "      <th>2020-01-03</th>\n",
       "      <td>13985.146483</td>\n",
       "    </tr>\n",
       "    <tr>\n",
       "      <th>2020-01-06</th>\n",
       "      <td>14093.245601</td>\n",
       "    </tr>\n",
       "    <tr>\n",
       "      <th>2020-01-07</th>\n",
       "      <td>13861.503300</td>\n",
       "    </tr>\n",
       "    <tr>\n",
       "      <th>...</th>\n",
       "      <td>...</td>\n",
       "    </tr>\n",
       "    <tr>\n",
       "      <th>2022-06-24</th>\n",
       "      <td>19394.781939</td>\n",
       "    </tr>\n",
       "    <tr>\n",
       "      <th>2022-06-27</th>\n",
       "      <td>19308.032594</td>\n",
       "    </tr>\n",
       "    <tr>\n",
       "      <th>2022-06-28</th>\n",
       "      <td>19442.344662</td>\n",
       "    </tr>\n",
       "    <tr>\n",
       "      <th>2022-06-29</th>\n",
       "      <td>19540.717300</td>\n",
       "    </tr>\n",
       "    <tr>\n",
       "      <th>2022-06-30</th>\n",
       "      <td>19649.880862</td>\n",
       "    </tr>\n",
       "  </tbody>\n",
       "</table>\n",
       "<p>652 rows × 1 columns</p>\n",
       "</div>"
      ],
      "text/plain": [
       "                   Close\n",
       "Date                    \n",
       "2020-01-01  13968.804582\n",
       "2020-01-02  13954.562060\n",
       "2020-01-03  13985.146483\n",
       "2020-01-06  14093.245601\n",
       "2020-01-07  13861.503300\n",
       "...                  ...\n",
       "2022-06-24  19394.781939\n",
       "2022-06-27  19308.032594\n",
       "2022-06-28  19442.344662\n",
       "2022-06-29  19540.717300\n",
       "2022-06-30  19649.880862\n",
       "\n",
       "[652 rows x 1 columns]"
      ]
     },
     "execution_count": 57,
     "metadata": {},
     "output_type": "execute_result"
    }
   ],
   "source": [
    "test_predictions=scaler.inverse_transform(test_predictionsEns)\n",
    "test_predictions = pd.DataFrame(test_predictions, columns = ['Close'])\n",
    "test_predictions.index = test_data.index\n",
    "test_predictions"
   ]
  },
  {
   "cell_type": "code",
   "execution_count": 58,
   "id": "17f5e6c3",
   "metadata": {
    "scrolled": false
   },
   "outputs": [
    {
     "data": {
      "image/png": "[encoded data removed]"
     },
     "metadata": {},
     "output_type": "display_data"
    }
   ],
   "source": [
    "fig = go.Figure()\n",
    "\n",
    "fig.add_trace(go.Scatter(x=train_data.index, y=train_data['Close'], mode='lines', name='TRAIN'))\n",
    "fig.add_trace(go.Scatter(x=test_data.index, y=test_data['Close'], mode='lines', name='TEST'))\n",
    "fig.add_trace(go.Scatter(x=test_predictions.index, y=test_predictions['Close'], mode='lines', name='PREDICTION'))\n",
    "\n",
    "fig.update_layout(title_text='Forecast vs Actuals', title_x=0.5)\n",
    "fig.show()"
   ]
  },
  {
   "cell_type": "code",
   "execution_count": 59,
   "id": "5ab22cde",
   "metadata": {},
   "outputs": [
    {
     "name": "stdout",
     "output_type": "stream",
     "text": [
      "Errors :-\n",
      "MSE :  1524639.5937365696\n",
      "RMSE :  1234.7629706695004 \n",
      "\n"
     ]
    }
   ],
   "source": [
    "mse, rmse = error(test_data['Close'],test_predictions)"
   ]
  },
  {
   "cell_type": "code",
   "execution_count": null,
   "id": "a52f4ede",
   "metadata": {},
   "outputs": [],
   "source": []
  }
 ],
 "metadata": {
  "kernelspec": {
   "display_name": "Python 3 (ipykernel)",
   "language": "python",
   "name": "python3"
  },
  "language_info": {
   "codemirror_mode": {
    "name": "ipython",
    "version": 3
   },
   "file_extension": ".py",
   "mimetype": "text/x-python",
   "name": "python",
   "nbconvert_exporter": "python",
   "pygments_lexer": "ipython3",
   "version": "3.9.7"
  }
 },
 "nbformat": 4,
 "nbformat_minor": 5
}

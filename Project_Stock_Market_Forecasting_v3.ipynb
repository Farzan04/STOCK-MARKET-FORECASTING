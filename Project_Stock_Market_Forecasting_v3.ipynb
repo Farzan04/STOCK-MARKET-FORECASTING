{
 "cells": [
  {
   "cell_type": "markdown",
   "id": "ba392e4f",
   "metadata": {},
   "source": [
    "+ Models in this file are listed below\n",
    "    + 1). TBATS Model\n",
    "    + 2). Prophet Model\n",
    "    + 3). Auto Ensemble Model(in it we have used Exponential Smoothing Model and Prophet Model)"
   ]
  },
  {
   "cell_type": "code",
   "execution_count": 1,
   "id": "777221ce",
   "metadata": {},
   "outputs": [],
   "source": [
    "import shutup\n",
    "shutup.please()"
   ]
  },
  {
   "cell_type": "code",
   "execution_count": 2,
   "id": "5c4dd8a6",
   "metadata": {},
   "outputs": [],
   "source": [
    "import pandas as pd\n",
    "import numpy as np\n",
    "import matplotlib.pyplot as plt\n",
    "import seaborn as sns\n",
    "\n",
    "%matplotlib inline"
   ]
  },
  {
   "cell_type": "code",
   "execution_count": 3,
   "id": "8e48c6e9",
   "metadata": {},
   "outputs": [
    {
     "data": {
      "text/html": [
       "<div>\n",
       "<style scoped>\n",
       "    .dataframe tbody tr th:only-of-type {\n",
       "        vertical-align: middle;\n",
       "    }\n",
       "\n",
       "    .dataframe tbody tr th {\n",
       "        vertical-align: top;\n",
       "    }\n",
       "\n",
       "    .dataframe thead th {\n",
       "        text-align: right;\n",
       "    }\n",
       "</style>\n",
       "<table border=\"1\" class=\"dataframe\">\n",
       "  <thead>\n",
       "    <tr style=\"text-align: right;\">\n",
       "      <th></th>\n",
       "      <th>Open</th>\n",
       "      <th>High</th>\n",
       "      <th>Low</th>\n",
       "      <th>Close</th>\n",
       "      <th>Volume</th>\n",
       "      <th>Dividends</th>\n",
       "      <th>Stock Splits</th>\n",
       "    </tr>\n",
       "    <tr>\n",
       "      <th>Date</th>\n",
       "      <th></th>\n",
       "      <th></th>\n",
       "      <th></th>\n",
       "      <th></th>\n",
       "      <th></th>\n",
       "      <th></th>\n",
       "      <th></th>\n",
       "    </tr>\n",
       "  </thead>\n",
       "  <tbody>\n",
       "    <tr>\n",
       "      <th>2011-01-03</th>\n",
       "      <td>3315.501470</td>\n",
       "      <td>3334.762117</td>\n",
       "      <td>3282.076157</td>\n",
       "      <td>3313.040039</td>\n",
       "      <td>5256</td>\n",
       "      <td>0.0</td>\n",
       "      <td>0</td>\n",
       "    </tr>\n",
       "    <tr>\n",
       "      <th>2011-01-04</th>\n",
       "      <td>3312.306385</td>\n",
       "      <td>3368.360717</td>\n",
       "      <td>3282.076731</td>\n",
       "      <td>3361.192139</td>\n",
       "      <td>21916</td>\n",
       "      <td>0.0</td>\n",
       "      <td>0</td>\n",
       "    </tr>\n",
       "    <tr>\n",
       "      <th>2011-01-05</th>\n",
       "      <td>3345.991030</td>\n",
       "      <td>3398.633773</td>\n",
       "      <td>3330.876202</td>\n",
       "      <td>3369.267822</td>\n",
       "      <td>32381</td>\n",
       "      <td>0.0</td>\n",
       "      <td>0</td>\n",
       "    </tr>\n",
       "    <tr>\n",
       "      <th>2011-01-06</th>\n",
       "      <td>3368.447706</td>\n",
       "      <td>3410.769229</td>\n",
       "      <td>3286.395775</td>\n",
       "      <td>3311.270508</td>\n",
       "      <td>16829</td>\n",
       "      <td>0.0</td>\n",
       "      <td>0</td>\n",
       "    </tr>\n",
       "    <tr>\n",
       "      <th>2011-01-07</th>\n",
       "      <td>3290.713064</td>\n",
       "      <td>3342.535317</td>\n",
       "      <td>3257.892303</td>\n",
       "      <td>3273.395752</td>\n",
       "      <td>30854</td>\n",
       "      <td>0.0</td>\n",
       "      <td>0</td>\n",
       "    </tr>\n",
       "  </tbody>\n",
       "</table>\n",
       "</div>"
      ],
      "text/plain": [
       "                   Open         High          Low        Close  Volume  \\\n",
       "Date                                                                     \n",
       "2011-01-03  3315.501470  3334.762117  3282.076157  3313.040039    5256   \n",
       "2011-01-04  3312.306385  3368.360717  3282.076731  3361.192139   21916   \n",
       "2011-01-05  3345.991030  3398.633773  3330.876202  3369.267822   32381   \n",
       "2011-01-06  3368.447706  3410.769229  3286.395775  3311.270508   16829   \n",
       "2011-01-07  3290.713064  3342.535317  3257.892303  3273.395752   30854   \n",
       "\n",
       "            Dividends  Stock Splits  \n",
       "Date                                 \n",
       "2011-01-03        0.0             0  \n",
       "2011-01-04        0.0             0  \n",
       "2011-01-05        0.0             0  \n",
       "2011-01-06        0.0             0  \n",
       "2011-01-07        0.0             0  "
      ]
     },
     "execution_count": 3,
     "metadata": {},
     "output_type": "execute_result"
    }
   ],
   "source": [
    "# Extract Data from yfinance\n",
    "import yfinance as yf\n",
    "import datetime as dttm\n",
    "\n",
    "startDate = dttm.datetime(2011, 1, 1)\n",
    "endDate = dttm.datetime(2022, 7, 1)\n",
    "\n",
    "GetData = yf.Ticker(\"NESTLEIND.NS\")\n",
    "# print(GetData.history(start=startDate, end=endDate))\n",
    "\n",
    "yf_data = pd.DataFrame(GetData.history(start=startDate, end=endDate))\n",
    "yf_data.head()"
   ]
  },
  {
   "cell_type": "code",
   "execution_count": 4,
   "id": "6c8b5ba4",
   "metadata": {},
   "outputs": [
    {
     "data": {
      "text/plain": [
       "['Open', 'High', 'Low', 'Close', 'Volume', 'Dividends', 'Stock Splits']"
      ]
     },
     "execution_count": 4,
     "metadata": {},
     "output_type": "execute_result"
    }
   ],
   "source": [
    "numeric_columns = list(yf_data.select_dtypes(['float','int']).columns)\n",
    "numeric_columns"
   ]
  },
  {
   "cell_type": "code",
   "execution_count": 5,
   "id": "318137ae",
   "metadata": {},
   "outputs": [
    {
     "data": {
      "text/plain": [
       "['Close', 'Dividends', 'High', 'Low', 'Open', 'Stock Splits', 'Volume']"
      ]
     },
     "execution_count": 5,
     "metadata": {},
     "output_type": "execute_result"
    }
   ],
   "source": [
    "numeric_columns.sort()\n",
    "numeric_columns"
   ]
  },
  {
   "cell_type": "code",
   "execution_count": null,
   "id": "f3633f95",
   "metadata": {},
   "outputs": [],
   "source": []
  },
  {
   "cell_type": "code",
   "execution_count": 6,
   "id": "82e9d088",
   "metadata": {},
   "outputs": [
    {
     "data": {
      "text/html": [
       "<div>\n",
       "<style scoped>\n",
       "    .dataframe tbody tr th:only-of-type {\n",
       "        vertical-align: middle;\n",
       "    }\n",
       "\n",
       "    .dataframe tbody tr th {\n",
       "        vertical-align: top;\n",
       "    }\n",
       "\n",
       "    .dataframe thead th {\n",
       "        text-align: right;\n",
       "    }\n",
       "</style>\n",
       "<table border=\"1\" class=\"dataframe\">\n",
       "  <thead>\n",
       "    <tr style=\"text-align: right;\">\n",
       "      <th></th>\n",
       "      <th>Open</th>\n",
       "      <th>High</th>\n",
       "      <th>Low</th>\n",
       "      <th>Close</th>\n",
       "      <th>Volume</th>\n",
       "      <th>Dividends</th>\n",
       "      <th>Stock Splits</th>\n",
       "    </tr>\n",
       "    <tr>\n",
       "      <th>Date</th>\n",
       "      <th></th>\n",
       "      <th></th>\n",
       "      <th></th>\n",
       "      <th></th>\n",
       "      <th></th>\n",
       "      <th></th>\n",
       "      <th></th>\n",
       "    </tr>\n",
       "  </thead>\n",
       "  <tbody>\n",
       "    <tr>\n",
       "      <th>2011-01-03</th>\n",
       "      <td>3315.501470</td>\n",
       "      <td>3334.762117</td>\n",
       "      <td>3282.076157</td>\n",
       "      <td>3313.040039</td>\n",
       "      <td>5256.0</td>\n",
       "      <td>0.0</td>\n",
       "      <td>0.0</td>\n",
       "    </tr>\n",
       "    <tr>\n",
       "      <th>2011-01-04</th>\n",
       "      <td>3312.306385</td>\n",
       "      <td>3368.360717</td>\n",
       "      <td>3282.076731</td>\n",
       "      <td>3361.192139</td>\n",
       "      <td>21916.0</td>\n",
       "      <td>0.0</td>\n",
       "      <td>0.0</td>\n",
       "    </tr>\n",
       "    <tr>\n",
       "      <th>2011-01-05</th>\n",
       "      <td>3345.991030</td>\n",
       "      <td>3398.633773</td>\n",
       "      <td>3330.876202</td>\n",
       "      <td>3369.267822</td>\n",
       "      <td>32381.0</td>\n",
       "      <td>0.0</td>\n",
       "      <td>0.0</td>\n",
       "    </tr>\n",
       "    <tr>\n",
       "      <th>2011-01-06</th>\n",
       "      <td>3368.447706</td>\n",
       "      <td>3410.769229</td>\n",
       "      <td>3286.395775</td>\n",
       "      <td>3311.270508</td>\n",
       "      <td>16829.0</td>\n",
       "      <td>0.0</td>\n",
       "      <td>0.0</td>\n",
       "    </tr>\n",
       "    <tr>\n",
       "      <th>2011-01-07</th>\n",
       "      <td>3290.713064</td>\n",
       "      <td>3342.535317</td>\n",
       "      <td>3257.892303</td>\n",
       "      <td>3273.395752</td>\n",
       "      <td>30854.0</td>\n",
       "      <td>0.0</td>\n",
       "      <td>0.0</td>\n",
       "    </tr>\n",
       "  </tbody>\n",
       "</table>\n",
       "</div>"
      ],
      "text/plain": [
       "                   Open         High          Low        Close   Volume  \\\n",
       "Date                                                                      \n",
       "2011-01-03  3315.501470  3334.762117  3282.076157  3313.040039   5256.0   \n",
       "2011-01-04  3312.306385  3368.360717  3282.076731  3361.192139  21916.0   \n",
       "2011-01-05  3345.991030  3398.633773  3330.876202  3369.267822  32381.0   \n",
       "2011-01-06  3368.447706  3410.769229  3286.395775  3311.270508  16829.0   \n",
       "2011-01-07  3290.713064  3342.535317  3257.892303  3273.395752  30854.0   \n",
       "\n",
       "            Dividends  Stock Splits  \n",
       "Date                                 \n",
       "2011-01-03        0.0           0.0  \n",
       "2011-01-04        0.0           0.0  \n",
       "2011-01-05        0.0           0.0  \n",
       "2011-01-06        0.0           0.0  \n",
       "2011-01-07        0.0           0.0  "
      ]
     },
     "execution_count": 6,
     "metadata": {},
     "output_type": "execute_result"
    }
   ],
   "source": [
    "data = yf_data.copy()\n",
    "data = data.asfreq('B')\n",
    "data.head()"
   ]
  },
  {
   "cell_type": "code",
   "execution_count": 7,
   "id": "5c8c3334",
   "metadata": {},
   "outputs": [
    {
     "data": {
      "text/plain": [
       "(2999, 7)"
      ]
     },
     "execution_count": 7,
     "metadata": {},
     "output_type": "execute_result"
    }
   ],
   "source": [
    "data.shape"
   ]
  },
  {
   "cell_type": "code",
   "execution_count": 8,
   "id": "afe201cc",
   "metadata": {},
   "outputs": [],
   "source": [
    "data.ffill(inplace=True)"
   ]
  },
  {
   "cell_type": "code",
   "execution_count": 9,
   "id": "641101fc",
   "metadata": {},
   "outputs": [
    {
     "data": {
      "text/plain": [
       "Open            0\n",
       "High            0\n",
       "Low             0\n",
       "Close           0\n",
       "Volume          0\n",
       "Dividends       0\n",
       "Stock Splits    0\n",
       "dtype: int64"
      ]
     },
     "execution_count": 9,
     "metadata": {},
     "output_type": "execute_result"
    }
   ],
   "source": [
    "data.isnull().sum()"
   ]
  },
  {
   "cell_type": "code",
   "execution_count": 10,
   "id": "d73c4c28",
   "metadata": {},
   "outputs": [
    {
     "data": {
      "text/html": [
       "<div>\n",
       "<style scoped>\n",
       "    .dataframe tbody tr th:only-of-type {\n",
       "        vertical-align: middle;\n",
       "    }\n",
       "\n",
       "    .dataframe tbody tr th {\n",
       "        vertical-align: top;\n",
       "    }\n",
       "\n",
       "    .dataframe thead th {\n",
       "        text-align: right;\n",
       "    }\n",
       "</style>\n",
       "<table border=\"1\" class=\"dataframe\">\n",
       "  <thead>\n",
       "    <tr style=\"text-align: right;\">\n",
       "      <th></th>\n",
       "      <th>Close</th>\n",
       "    </tr>\n",
       "    <tr>\n",
       "      <th>Date</th>\n",
       "      <th></th>\n",
       "    </tr>\n",
       "  </thead>\n",
       "  <tbody>\n",
       "    <tr>\n",
       "      <th>2011-01-03</th>\n",
       "      <td>3313.040039</td>\n",
       "    </tr>\n",
       "    <tr>\n",
       "      <th>2011-01-04</th>\n",
       "      <td>3361.192139</td>\n",
       "    </tr>\n",
       "    <tr>\n",
       "      <th>2011-01-05</th>\n",
       "      <td>3369.267822</td>\n",
       "    </tr>\n",
       "    <tr>\n",
       "      <th>2011-01-06</th>\n",
       "      <td>3311.270508</td>\n",
       "    </tr>\n",
       "    <tr>\n",
       "      <th>2011-01-07</th>\n",
       "      <td>3273.395752</td>\n",
       "    </tr>\n",
       "  </tbody>\n",
       "</table>\n",
       "</div>"
      ],
      "text/plain": [
       "                  Close\n",
       "Date                   \n",
       "2011-01-03  3313.040039\n",
       "2011-01-04  3361.192139\n",
       "2011-01-05  3369.267822\n",
       "2011-01-06  3311.270508\n",
       "2011-01-07  3273.395752"
      ]
     },
     "execution_count": 10,
     "metadata": {},
     "output_type": "execute_result"
    }
   ],
   "source": [
    "final_data = pd.DataFrame(data.Close)\n",
    "final_data.head()"
   ]
  },
  {
   "cell_type": "code",
   "execution_count": 11,
   "id": "7d4386e1",
   "metadata": {},
   "outputs": [
    {
     "data": {
      "text/plain": [
       "Close    652\n",
       "dtype: int64"
      ]
     },
     "execution_count": 11,
     "metadata": {},
     "output_type": "execute_result"
    }
   ],
   "source": [
    "final_data['2020-01-01':'2022-06-30'].count()"
   ]
  },
  {
   "cell_type": "code",
   "execution_count": 12,
   "id": "9f3b47ed",
   "metadata": {},
   "outputs": [
    {
     "data": {
      "text/plain": [
       "((2347, 1), (652, 1))"
      ]
     },
     "execution_count": 12,
     "metadata": {},
     "output_type": "execute_result"
    }
   ],
   "source": [
    "train_data = final_data.iloc[:len(final_data)-652] \n",
    "test_data = final_data.iloc[len(final_data)-652:]\n",
    "train_data.shape, test_data.shape"
   ]
  },
  {
   "cell_type": "code",
   "execution_count": 13,
   "id": "04832ae3",
   "metadata": {},
   "outputs": [
    {
     "data": {
      "text/plain": [
       "(                   Close\n",
       " Date                    \n",
       " 2020-01-01  14215.091797\n",
       " 2020-01-02  14167.288086\n",
       " 2020-01-03  14036.719727\n",
       " 2020-01-06  13866.522461\n",
       " 2020-01-07  13745.424805\n",
       " ...                  ...\n",
       " 2022-06-24  17231.650391\n",
       " 2022-06-27  17358.250000\n",
       " 2022-06-28  17403.900391\n",
       " 2022-06-29  17499.050781\n",
       " 2022-06-30  17470.000000\n",
       " \n",
       " [652 rows x 1 columns],\n",
       "                    Close\n",
       " Date                    \n",
       " 2011-01-03   3313.040039\n",
       " 2011-01-04   3361.192139\n",
       " 2011-01-05   3369.267822\n",
       " 2011-01-06   3311.270508\n",
       " 2011-01-07   3273.395752\n",
       " ...                  ...\n",
       " 2019-12-25  14029.408203\n",
       " 2019-12-26  14042.151367\n",
       " 2019-12-27  14104.576172\n",
       " 2019-12-30  14285.161133\n",
       " 2019-12-31  14221.151367\n",
       " \n",
       " [2347 rows x 1 columns])"
      ]
     },
     "execution_count": 13,
     "metadata": {},
     "output_type": "execute_result"
    }
   ],
   "source": [
    "test_data, train_data"
   ]
  },
  {
   "cell_type": "code",
   "execution_count": 14,
   "id": "bec6f916",
   "metadata": {},
   "outputs": [],
   "source": [
    "from sklearn.metrics import mean_squared_error\n",
    "\n",
    "def error(data1, data2):\n",
    "    mse = mean_squared_error(data1, data2)\n",
    "    rmse = np.sqrt(mse)\n",
    "    \n",
    "    print('Errors :-')\n",
    "    print('MSE : ',mse)\n",
    "    print('RMSE : ',rmse,'\\n')\n",
    "    return mse, rmse"
   ]
  },
  {
   "cell_type": "code",
   "execution_count": null,
   "id": "a86c27b8",
   "metadata": {},
   "outputs": [],
   "source": []
  },
  {
   "cell_type": "code",
   "execution_count": 15,
   "id": "fde19914",
   "metadata": {},
   "outputs": [],
   "source": [
    "import plotly.io as pio\n",
    "# For interactive graph Uncomment \" pio.renderers.default = 'notebook' \" and and comment \" pio.renderers.default = 'png' \"\n",
    "# And then rerun the file on Jupyter Notebook\n",
    "\n",
    "\n",
    "# pio.renderers.default = 'notebook'\n",
    "pio.renderers.default = 'png'"
   ]
  },
  {
   "cell_type": "markdown",
   "id": "5970b3b1",
   "metadata": {},
   "source": [
    "# TBATS Model"
   ]
  },
  {
   "cell_type": "code",
   "execution_count": 16,
   "id": "99e24e13",
   "metadata": {},
   "outputs": [],
   "source": [
    "from sktime.forecasting.tbats import TBATS"
   ]
  },
  {
   "cell_type": "code",
   "execution_count": 17,
   "id": "ac07c82b",
   "metadata": {},
   "outputs": [
    {
     "data": {
      "text/html": [
       "<style>#sk-container-id-1 {color: black;background-color: white;}#sk-container-id-1 pre{padding: 0;}#sk-container-id-1 div.sk-toggleable {background-color: white;}#sk-container-id-1 label.sk-toggleable__label {cursor: pointer;display: block;width: 100%;margin-bottom: 0;padding: 0.3em;box-sizing: border-box;text-align: center;}#sk-container-id-1 label.sk-toggleable__label-arrow:before {content: \"▸\";float: left;margin-right: 0.25em;color: #696969;}#sk-container-id-1 label.sk-toggleable__label-arrow:hover:before {color: black;}#sk-container-id-1 div.sk-estimator:hover label.sk-toggleable__label-arrow:before {color: black;}#sk-container-id-1 div.sk-toggleable__content {max-height: 0;max-width: 0;overflow: hidden;text-align: left;background-color: #f0f8ff;}#sk-container-id-1 div.sk-toggleable__content pre {margin: 0.2em;color: black;border-radius: 0.25em;background-color: #f0f8ff;}#sk-container-id-1 input.sk-toggleable__control:checked~div.sk-toggleable__content {max-height: 200px;max-width: 100%;overflow: auto;}#sk-container-id-1 input.sk-toggleable__control:checked~label.sk-toggleable__label-arrow:before {content: \"▾\";}#sk-container-id-1 div.sk-estimator input.sk-toggleable__control:checked~label.sk-toggleable__label {background-color: #d4ebff;}#sk-container-id-1 div.sk-label input.sk-toggleable__control:checked~label.sk-toggleable__label {background-color: #d4ebff;}#sk-container-id-1 input.sk-hidden--visually {border: 0;clip: rect(1px 1px 1px 1px);clip: rect(1px, 1px, 1px, 1px);height: 1px;margin: -1px;overflow: hidden;padding: 0;position: absolute;width: 1px;}#sk-container-id-1 div.sk-estimator {font-family: monospace;background-color: #f0f8ff;border: 1px dotted black;border-radius: 0.25em;box-sizing: border-box;margin-bottom: 0.5em;}#sk-container-id-1 div.sk-estimator:hover {background-color: #d4ebff;}#sk-container-id-1 div.sk-parallel-item::after {content: \"\";width: 100%;border-bottom: 1px solid gray;flex-grow: 1;}#sk-container-id-1 div.sk-label:hover label.sk-toggleable__label {background-color: #d4ebff;}#sk-container-id-1 div.sk-serial::before {content: \"\";position: absolute;border-left: 1px solid gray;box-sizing: border-box;top: 0;bottom: 0;left: 50%;z-index: 0;}#sk-container-id-1 div.sk-serial {display: flex;flex-direction: column;align-items: center;background-color: white;padding-right: 0.2em;padding-left: 0.2em;position: relative;}#sk-container-id-1 div.sk-item {position: relative;z-index: 1;}#sk-container-id-1 div.sk-parallel {display: flex;align-items: stretch;justify-content: center;background-color: white;position: relative;}#sk-container-id-1 div.sk-item::before, #sk-container-id-1 div.sk-parallel-item::before {content: \"\";position: absolute;border-left: 1px solid gray;box-sizing: border-box;top: 0;bottom: 0;left: 50%;z-index: -1;}#sk-container-id-1 div.sk-parallel-item {display: flex;flex-direction: column;z-index: 1;position: relative;background-color: white;}#sk-container-id-1 div.sk-parallel-item:first-child::after {align-self: flex-end;width: 50%;}#sk-container-id-1 div.sk-parallel-item:last-child::after {align-self: flex-start;width: 50%;}#sk-container-id-1 div.sk-parallel-item:only-child::after {width: 0;}#sk-container-id-1 div.sk-dashed-wrapped {border: 1px dashed gray;margin: 0 0.4em 0.5em 0.4em;box-sizing: border-box;padding-bottom: 0.4em;background-color: white;}#sk-container-id-1 div.sk-label label {font-family: monospace;font-weight: bold;display: inline-block;line-height: 1.2em;}#sk-container-id-1 div.sk-label-container {text-align: center;}#sk-container-id-1 div.sk-container {/* jupyter's `normalize.less` sets `[hidden] { display: none; }` but bootstrap.min.css set `[hidden] { display: none !important; }` so we also need the `!important` here to be able to override the default hidden behavior on the sphinx rendered scikit-learn.org. See: https://github.com/scikit-learn/scikit-learn/issues/21755 */display: inline-block !important;position: relative;}#sk-container-id-1 div.sk-text-repr-fallback {display: none;}</style><div id=\"sk-container-id-1\" class=\"sk-top-container\"><div class=\"sk-text-repr-fallback\"><pre>TBATS(n_jobs=-1, show_warnings=False, sp=[253, 20], use_box_cox=False,\n",
       "      use_damped_trend=False, use_trend=True)</pre><b>In a Jupyter environment, please rerun this cell to show the HTML representation or trust the notebook. <br />On GitHub, the HTML representation is unable to render, please try loading this page with nbviewer.org.</b></div><div class=\"sk-container\" hidden><div class=\"sk-item\"><div class=\"sk-estimator sk-toggleable\"><input class=\"sk-toggleable__control sk-hidden--visually\" id=\"sk-estimator-id-1\" type=\"checkbox\" checked><label for=\"sk-estimator-id-1\" class=\"sk-toggleable__label sk-toggleable__label-arrow\">TBATS</label><div class=\"sk-toggleable__content\"><pre>TBATS(n_jobs=-1, show_warnings=False, sp=[253, 20], use_box_cox=False,\n",
       "      use_damped_trend=False, use_trend=True)</pre></div></div></div></div></div>"
      ],
      "text/plain": [
       "TBATS(n_jobs=-1, show_warnings=False, sp=[253, 20], use_box_cox=False,\n",
       "      use_damped_trend=False, use_trend=True)"
      ]
     },
     "execution_count": 17,
     "metadata": {},
     "output_type": "execute_result"
    }
   ],
   "source": [
    "model = TBATS(use_box_cox=False, use_trend=True, use_damped_trend=False, sp=[253,20], use_arma_errors=True,\n",
    "              show_warnings=False,n_jobs=-1)\n",
    "\n",
    "model.fit(train_data)"
   ]
  },
  {
   "cell_type": "code",
   "execution_count": 18,
   "id": "290caa30",
   "metadata": {},
   "outputs": [],
   "source": [
    "fh = list(range(1,653))\n",
    "# fh"
   ]
  },
  {
   "cell_type": "code",
   "execution_count": 19,
   "id": "e5de33a1",
   "metadata": {},
   "outputs": [
    {
     "data": {
      "text/html": [
       "<div>\n",
       "<style scoped>\n",
       "    .dataframe tbody tr th:only-of-type {\n",
       "        vertical-align: middle;\n",
       "    }\n",
       "\n",
       "    .dataframe tbody tr th {\n",
       "        vertical-align: top;\n",
       "    }\n",
       "\n",
       "    .dataframe thead th {\n",
       "        text-align: right;\n",
       "    }\n",
       "</style>\n",
       "<table border=\"1\" class=\"dataframe\">\n",
       "  <thead>\n",
       "    <tr style=\"text-align: right;\">\n",
       "      <th></th>\n",
       "      <th>Close</th>\n",
       "    </tr>\n",
       "  </thead>\n",
       "  <tbody>\n",
       "    <tr>\n",
       "      <th>2020-01-01</th>\n",
       "      <td>14235.951750</td>\n",
       "    </tr>\n",
       "    <tr>\n",
       "      <th>2020-01-02</th>\n",
       "      <td>14248.106732</td>\n",
       "    </tr>\n",
       "    <tr>\n",
       "      <th>2020-01-03</th>\n",
       "      <td>14260.261713</td>\n",
       "    </tr>\n",
       "    <tr>\n",
       "      <th>2020-01-06</th>\n",
       "      <td>14272.416695</td>\n",
       "    </tr>\n",
       "    <tr>\n",
       "      <th>2020-01-07</th>\n",
       "      <td>14284.571677</td>\n",
       "    </tr>\n",
       "    <tr>\n",
       "      <th>...</th>\n",
       "      <td>...</td>\n",
       "    </tr>\n",
       "    <tr>\n",
       "      <th>2022-06-24</th>\n",
       "      <td>22100.224833</td>\n",
       "    </tr>\n",
       "    <tr>\n",
       "      <th>2022-06-27</th>\n",
       "      <td>22112.379815</td>\n",
       "    </tr>\n",
       "    <tr>\n",
       "      <th>2022-06-28</th>\n",
       "      <td>22124.534796</td>\n",
       "    </tr>\n",
       "    <tr>\n",
       "      <th>2022-06-29</th>\n",
       "      <td>22136.689778</td>\n",
       "    </tr>\n",
       "    <tr>\n",
       "      <th>2022-06-30</th>\n",
       "      <td>22148.844759</td>\n",
       "    </tr>\n",
       "  </tbody>\n",
       "</table>\n",
       "<p>652 rows × 1 columns</p>\n",
       "</div>"
      ],
      "text/plain": [
       "                   Close\n",
       "2020-01-01  14235.951750\n",
       "2020-01-02  14248.106732\n",
       "2020-01-03  14260.261713\n",
       "2020-01-06  14272.416695\n",
       "2020-01-07  14284.571677\n",
       "...                  ...\n",
       "2022-06-24  22100.224833\n",
       "2022-06-27  22112.379815\n",
       "2022-06-28  22124.534796\n",
       "2022-06-29  22136.689778\n",
       "2022-06-30  22148.844759\n",
       "\n",
       "[652 rows x 1 columns]"
      ]
     },
     "execution_count": 19,
     "metadata": {},
     "output_type": "execute_result"
    }
   ],
   "source": [
    "test_predictions = model.predict(fh = fh)\n",
    "test_predictions"
   ]
  },
  {
   "cell_type": "code",
   "execution_count": 20,
   "id": "624fa484",
   "metadata": {},
   "outputs": [
    {
     "data": {
      "image/png": "[encoded data removed]"
     },
     "metadata": {},
     "output_type": "display_data"
    }
   ],
   "source": [
    "import plotly.offline as py\n",
    "import plotly.graph_objects as go\n",
    "\n",
    "fig = go.Figure()\n",
    "\n",
    "fig.add_trace(go.Scatter(x=train_data.index, y=train_data['Close'], mode='lines', name='TRAIN'))\n",
    "fig.add_trace(go.Scatter(x=test_data.index, y=test_data['Close'], mode='lines', name='TEST'))\n",
    "fig.add_trace(go.Scatter(x=test_predictions.index, y=test_predictions['Close'], mode='lines', name='PREDICTION'))\n",
    "\n",
    "fig.update_layout(title_text='Forecast vs Actuals', title_x=0.5)\n",
    "fig.show()"
   ]
  },
  {
   "cell_type": "markdown",
   "id": "618c5454",
   "metadata": {},
   "source": [
    "# Prophet Model"
   ]
  },
  {
   "cell_type": "code",
   "execution_count": 21,
   "id": "a3b080e4",
   "metadata": {},
   "outputs": [],
   "source": [
    "from sktime.forecasting.fbprophet import Prophet\n",
    "import holidays"
   ]
  },
  {
   "cell_type": "code",
   "execution_count": 22,
   "id": "4aa5816d",
   "metadata": {},
   "outputs": [],
   "source": [
    "holiday = pd.DataFrame([])\n",
    "\n",
    "for date, name in sorted(holidays.India(years=[2011,2012,2013,2014,2015,2016,2017,2018,2019,2020,2021,2022]).items()):\n",
    "    holiday = holiday.append(pd.DataFrame({'ds': date, 'holiday': \"India_Holidays\"}, index=[0]), ignore_index=True)\n",
    "holiday['ds'] = pd.to_datetime(holiday['ds'], format='%Y-%m-%d', errors='ignore')"
   ]
  },
  {
   "cell_type": "code",
   "execution_count": 23,
   "id": "199e3159",
   "metadata": {},
   "outputs": [],
   "source": [
    "holiday = holiday[:-4]"
   ]
  },
  {
   "cell_type": "code",
   "execution_count": 24,
   "id": "c815fe11",
   "metadata": {},
   "outputs": [],
   "source": [
    "seasonality = {'name':'yearly', 'period':253, 'fourier_order': 10, 'mode': 'multiplicative'}"
   ]
  },
  {
   "cell_type": "code",
   "execution_count": 25,
   "id": "a3017657",
   "metadata": {},
   "outputs": [
    {
     "name": "stderr",
     "output_type": "stream",
     "text": [
      "17:33:01 - cmdstanpy - INFO - Chain [1] start processing\n",
      "17:33:02 - cmdstanpy - INFO - Chain [1] done processing\n"
     ]
    }
   ],
   "source": [
    "fmodel = Prophet()\n",
    "fmodel.fit(train_data)\n",
    "fh = list(range(1,653))\n",
    "test_predictions = fmodel.predict(fh=fh)"
   ]
  },
  {
   "cell_type": "code",
   "execution_count": 26,
   "id": "71b70135",
   "metadata": {},
   "outputs": [
    {
     "data": {
      "image/png": "[encoded data removed]"
     },
     "metadata": {},
     "output_type": "display_data"
    }
   ],
   "source": [
    "fig = go.Figure()\n",
    "\n",
    "fig.add_trace(go.Scatter(x=train_data.index, y=train_data['Close'], mode='lines', name='TRAIN'))\n",
    "fig.add_trace(go.Scatter(x=test_data.index, y=test_data['Close'], mode='lines', name='TEST'))\n",
    "fig.add_trace(go.Scatter(x=test_predictions.index, y=test_predictions['yhat'], mode='lines', name='PREDICTION'))\n",
    "\n",
    "fig.update_layout(title_text='Forecast vs Actuals', title_x=0.5)\n",
    "fig.show()"
   ]
  },
  {
   "cell_type": "code",
   "execution_count": 27,
   "id": "3a689126",
   "metadata": {},
   "outputs": [
    {
     "name": "stdout",
     "output_type": "stream",
     "text": [
      "Errors :-\n",
      "MSE :  2339920.647195863\n",
      "RMSE :  1529.6799165825062 \n",
      "\n"
     ]
    },
    {
     "data": {
      "text/plain": [
       "(2339920.647195863, 1529.6799165825062)"
      ]
     },
     "execution_count": 27,
     "metadata": {},
     "output_type": "execute_result"
    }
   ],
   "source": [
    "error(test_data['Close'],test_predictions)"
   ]
  },
  {
   "cell_type": "code",
   "execution_count": 28,
   "id": "ad2a04f6",
   "metadata": {},
   "outputs": [
    {
     "name": "stderr",
     "output_type": "stream",
     "text": [
      "17:33:05 - cmdstanpy - INFO - Chain [1] start processing\n",
      "17:33:24 - cmdstanpy - INFO - Chain [1] done processing\n"
     ]
    },
    {
     "data": {
      "text/html": [
       "<style>#sk-container-id-2 {color: black;background-color: white;}#sk-container-id-2 pre{padding: 0;}#sk-container-id-2 div.sk-toggleable {background-color: white;}#sk-container-id-2 label.sk-toggleable__label {cursor: pointer;display: block;width: 100%;margin-bottom: 0;padding: 0.3em;box-sizing: border-box;text-align: center;}#sk-container-id-2 label.sk-toggleable__label-arrow:before {content: \"▸\";float: left;margin-right: 0.25em;color: #696969;}#sk-container-id-2 label.sk-toggleable__label-arrow:hover:before {color: black;}#sk-container-id-2 div.sk-estimator:hover label.sk-toggleable__label-arrow:before {color: black;}#sk-container-id-2 div.sk-toggleable__content {max-height: 0;max-width: 0;overflow: hidden;text-align: left;background-color: #f0f8ff;}#sk-container-id-2 div.sk-toggleable__content pre {margin: 0.2em;color: black;border-radius: 0.25em;background-color: #f0f8ff;}#sk-container-id-2 input.sk-toggleable__control:checked~div.sk-toggleable__content {max-height: 200px;max-width: 100%;overflow: auto;}#sk-container-id-2 input.sk-toggleable__control:checked~label.sk-toggleable__label-arrow:before {content: \"▾\";}#sk-container-id-2 div.sk-estimator input.sk-toggleable__control:checked~label.sk-toggleable__label {background-color: #d4ebff;}#sk-container-id-2 div.sk-label input.sk-toggleable__control:checked~label.sk-toggleable__label {background-color: #d4ebff;}#sk-container-id-2 input.sk-hidden--visually {border: 0;clip: rect(1px 1px 1px 1px);clip: rect(1px, 1px, 1px, 1px);height: 1px;margin: -1px;overflow: hidden;padding: 0;position: absolute;width: 1px;}#sk-container-id-2 div.sk-estimator {font-family: monospace;background-color: #f0f8ff;border: 1px dotted black;border-radius: 0.25em;box-sizing: border-box;margin-bottom: 0.5em;}#sk-container-id-2 div.sk-estimator:hover {background-color: #d4ebff;}#sk-container-id-2 div.sk-parallel-item::after {content: \"\";width: 100%;border-bottom: 1px solid gray;flex-grow: 1;}#sk-container-id-2 div.sk-label:hover label.sk-toggleable__label {background-color: #d4ebff;}#sk-container-id-2 div.sk-serial::before {content: \"\";position: absolute;border-left: 1px solid gray;box-sizing: border-box;top: 0;bottom: 0;left: 50%;z-index: 0;}#sk-container-id-2 div.sk-serial {display: flex;flex-direction: column;align-items: center;background-color: white;padding-right: 0.2em;padding-left: 0.2em;position: relative;}#sk-container-id-2 div.sk-item {position: relative;z-index: 1;}#sk-container-id-2 div.sk-parallel {display: flex;align-items: stretch;justify-content: center;background-color: white;position: relative;}#sk-container-id-2 div.sk-item::before, #sk-container-id-2 div.sk-parallel-item::before {content: \"\";position: absolute;border-left: 1px solid gray;box-sizing: border-box;top: 0;bottom: 0;left: 50%;z-index: -1;}#sk-container-id-2 div.sk-parallel-item {display: flex;flex-direction: column;z-index: 1;position: relative;background-color: white;}#sk-container-id-2 div.sk-parallel-item:first-child::after {align-self: flex-end;width: 50%;}#sk-container-id-2 div.sk-parallel-item:last-child::after {align-self: flex-start;width: 50%;}#sk-container-id-2 div.sk-parallel-item:only-child::after {width: 0;}#sk-container-id-2 div.sk-dashed-wrapped {border: 1px dashed gray;margin: 0 0.4em 0.5em 0.4em;box-sizing: border-box;padding-bottom: 0.4em;background-color: white;}#sk-container-id-2 div.sk-label label {font-family: monospace;font-weight: bold;display: inline-block;line-height: 1.2em;}#sk-container-id-2 div.sk-label-container {text-align: center;}#sk-container-id-2 div.sk-container {/* jupyter's `normalize.less` sets `[hidden] { display: none; }` but bootstrap.min.css set `[hidden] { display: none !important; }` so we also need the `!important` here to be able to override the default hidden behavior on the sphinx rendered scikit-learn.org. See: https://github.com/scikit-learn/scikit-learn/issues/21755 */display: inline-block !important;position: relative;}#sk-container-id-2 div.sk-text-repr-fallback {display: none;}</style><div id=\"sk-container-id-2\" class=\"sk-top-container\"><div class=\"sk-text-repr-fallback\"><pre>Prophet(add_country_holidays={&#x27;country_name&#x27;: &#x27;India&#x27;}, daily_seasonality=False,\n",
       "        freq=&#x27;B&#x27;,\n",
       "        holidays=           ds         holiday\n",
       "0  2011-01-14  India_Holidays\n",
       "1  2011-01-26  India_Holidays\n",
       "2  2011-03-19  India_Holidays\n",
       "3  2011-05-01  India_Holidays\n",
       "4  2011-08-15  India_Holidays\n",
       "..        ...             ...\n",
       "87 2021-12-25  India_Holidays\n",
       "88 2022-01-14  India_Holidays\n",
       "89 2022-01-26  India_Holidays\n",
       "90 2022-03-18  India_Holidays\n",
       "91 2022-05-01  India_Holidays\n",
       "\n",
       "[92 rows x 2 columns],\n",
       "        n_changepoints=195, seasonality_mode=&#x27;multiplicative&#x27;, verbose=10,\n",
       "        weekly_seasonality=False, yearly_seasonality=True)</pre><b>In a Jupyter environment, please rerun this cell to show the HTML representation or trust the notebook. <br />On GitHub, the HTML representation is unable to render, please try loading this page with nbviewer.org.</b></div><div class=\"sk-container\" hidden><div class=\"sk-item\"><div class=\"sk-estimator sk-toggleable\"><input class=\"sk-toggleable__control sk-hidden--visually\" id=\"sk-estimator-id-2\" type=\"checkbox\" checked><label for=\"sk-estimator-id-2\" class=\"sk-toggleable__label sk-toggleable__label-arrow\">Prophet</label><div class=\"sk-toggleable__content\"><pre>Prophet(add_country_holidays={&#x27;country_name&#x27;: &#x27;India&#x27;}, daily_seasonality=False,\n",
       "        freq=&#x27;B&#x27;,\n",
       "        holidays=           ds         holiday\n",
       "0  2011-01-14  India_Holidays\n",
       "1  2011-01-26  India_Holidays\n",
       "2  2011-03-19  India_Holidays\n",
       "3  2011-05-01  India_Holidays\n",
       "4  2011-08-15  India_Holidays\n",
       "..        ...             ...\n",
       "87 2021-12-25  India_Holidays\n",
       "88 2022-01-14  India_Holidays\n",
       "89 2022-01-26  India_Holidays\n",
       "90 2022-03-18  India_Holidays\n",
       "91 2022-05-01  India_Holidays\n",
       "\n",
       "[92 rows x 2 columns],\n",
       "        n_changepoints=195, seasonality_mode=&#x27;multiplicative&#x27;, verbose=10,\n",
       "        weekly_seasonality=False, yearly_seasonality=True)</pre></div></div></div></div></div>"
      ],
      "text/plain": [
       "Prophet(add_country_holidays={'country_name': 'India'}, daily_seasonality=False,\n",
       "        freq='B',\n",
       "        holidays=           ds         holiday\n",
       "0  2011-01-14  India_Holidays\n",
       "1  2011-01-26  India_Holidays\n",
       "2  2011-03-19  India_Holidays\n",
       "3  2011-05-01  India_Holidays\n",
       "4  2011-08-15  India_Holidays\n",
       "..        ...             ...\n",
       "87 2021-12-25  India_Holidays\n",
       "88 2022-01-14  India_Holidays\n",
       "89 2022-01-26  India_Holidays\n",
       "90 2022-03-18  India_Holidays\n",
       "91 2022-05-01  India_Holidays\n",
       "\n",
       "[92 rows x 2 columns],\n",
       "        n_changepoints=195, seasonality_mode='multiplicative', verbose=10,\n",
       "        weekly_seasonality=False, yearly_seasonality=True)"
      ]
     },
     "execution_count": 28,
     "metadata": {},
     "output_type": "execute_result"
    }
   ],
   "source": [
    "model = Prophet(freq='B', add_seasonality=None, seasonality_mode='multiplicative', n_changepoints=int((len(train_data))/12), \n",
    "                seasonality_prior_scale=10.0, add_country_holidays={'country_name': 'India'}, verbose=10,\n",
    "                holidays=holiday,\n",
    "                yearly_seasonality=True, weekly_seasonality=False , daily_seasonality=False)\n",
    "model.fit(train_data)"
   ]
  },
  {
   "cell_type": "code",
   "execution_count": 29,
   "id": "dc5cb3da",
   "metadata": {},
   "outputs": [
    {
     "data": {
      "text/html": [
       "<div>\n",
       "<style scoped>\n",
       "    .dataframe tbody tr th:only-of-type {\n",
       "        vertical-align: middle;\n",
       "    }\n",
       "\n",
       "    .dataframe tbody tr th {\n",
       "        vertical-align: top;\n",
       "    }\n",
       "\n",
       "    .dataframe thead th {\n",
       "        text-align: right;\n",
       "    }\n",
       "</style>\n",
       "<table border=\"1\" class=\"dataframe\">\n",
       "  <thead>\n",
       "    <tr style=\"text-align: right;\">\n",
       "      <th></th>\n",
       "      <th>yhat</th>\n",
       "    </tr>\n",
       "  </thead>\n",
       "  <tbody>\n",
       "    <tr>\n",
       "      <th>2020-01-01</th>\n",
       "      <td>13200.098580</td>\n",
       "    </tr>\n",
       "    <tr>\n",
       "      <th>2020-01-02</th>\n",
       "      <td>13167.585208</td>\n",
       "    </tr>\n",
       "    <tr>\n",
       "      <th>2020-01-03</th>\n",
       "      <td>13153.913376</td>\n",
       "    </tr>\n",
       "    <tr>\n",
       "      <th>2020-01-06</th>\n",
       "      <td>13121.499279</td>\n",
       "    </tr>\n",
       "    <tr>\n",
       "      <th>2020-01-07</th>\n",
       "      <td>13114.038580</td>\n",
       "    </tr>\n",
       "    <tr>\n",
       "      <th>...</th>\n",
       "      <td>...</td>\n",
       "    </tr>\n",
       "    <tr>\n",
       "      <th>2022-06-24</th>\n",
       "      <td>20002.112571</td>\n",
       "    </tr>\n",
       "    <tr>\n",
       "      <th>2022-06-27</th>\n",
       "      <td>20032.687045</td>\n",
       "    </tr>\n",
       "    <tr>\n",
       "      <th>2022-06-28</th>\n",
       "      <td>20045.873475</td>\n",
       "    </tr>\n",
       "    <tr>\n",
       "      <th>2022-06-29</th>\n",
       "      <td>20060.349425</td>\n",
       "    </tr>\n",
       "    <tr>\n",
       "      <th>2022-06-30</th>\n",
       "      <td>20075.954002</td>\n",
       "    </tr>\n",
       "  </tbody>\n",
       "</table>\n",
       "<p>652 rows × 1 columns</p>\n",
       "</div>"
      ],
      "text/plain": [
       "                    yhat\n",
       "2020-01-01  13200.098580\n",
       "2020-01-02  13167.585208\n",
       "2020-01-03  13153.913376\n",
       "2020-01-06  13121.499279\n",
       "2020-01-07  13114.038580\n",
       "...                  ...\n",
       "2022-06-24  20002.112571\n",
       "2022-06-27  20032.687045\n",
       "2022-06-28  20045.873475\n",
       "2022-06-29  20060.349425\n",
       "2022-06-30  20075.954002\n",
       "\n",
       "[652 rows x 1 columns]"
      ]
     },
     "execution_count": 29,
     "metadata": {},
     "output_type": "execute_result"
    }
   ],
   "source": [
    "fh = list(range(1,653))\n",
    "test_predictions = model.predict(fh=fh)\n",
    "test_predictions"
   ]
  },
  {
   "cell_type": "code",
   "execution_count": 30,
   "id": "696135a4",
   "metadata": {},
   "outputs": [
    {
     "data": {
      "image/png": "[encoded data removed]"
     },
     "metadata": {},
     "output_type": "display_data"
    }
   ],
   "source": [
    "fig = go.Figure()\n",
    "\n",
    "fig.add_trace(go.Scatter(x=train_data.index, y=train_data['Close'], mode='lines', name='TRAIN'))\n",
    "fig.add_trace(go.Scatter(x=test_data.index, y=test_data['Close'], mode='lines', name='TEST'))\n",
    "fig.add_trace(go.Scatter(x=test_predictions.index, y=test_predictions['yhat'], mode='lines', name='PREDICTION'))\n",
    "\n",
    "fig.update_layout(title_text='Forecast vs Actuals', title_x=0.5)\n",
    "fig.show()"
   ]
  },
  {
   "cell_type": "code",
   "execution_count": 31,
   "id": "9fd91603",
   "metadata": {},
   "outputs": [
    {
     "name": "stdout",
     "output_type": "stream",
     "text": [
      "Errors :-\n",
      "MSE :  2240308.0721597727\n",
      "RMSE :  1496.7658708561512 \n",
      "\n"
     ]
    },
    {
     "data": {
      "text/plain": [
       "(2240308.0721597727, 1496.7658708561512)"
      ]
     },
     "execution_count": 31,
     "metadata": {},
     "output_type": "execute_result"
    }
   ],
   "source": [
    "error(test_data['Close'],test_predictions)"
   ]
  },
  {
   "cell_type": "markdown",
   "id": "8cdc6402",
   "metadata": {},
   "source": [
    "### Hyperparameter Tunning "
   ]
  },
  {
   "cell_type": "code",
   "execution_count": 32,
   "id": "0ed61688",
   "metadata": {},
   "outputs": [],
   "source": [
    "from sklearn.metrics import mean_squared_error, mean_absolute_error\n",
    "import random"
   ]
  },
  {
   "cell_type": "code",
   "execution_count": 33,
   "id": "a31d5d11",
   "metadata": {},
   "outputs": [
    {
     "name": "stdout",
     "output_type": "stream",
     "text": [
      "Total Possible Models 64\n"
     ]
    }
   ],
   "source": [
    "from sklearn.model_selection import ParameterGrid\n",
    "params_grid = {'changepoint_prior_scale':[0.05,1,10,25],\n",
    "               'n_changepoints' : [1,10,25,100],\n",
    "               'seasonality_prior_scale':[0.05,1,10,25]}\n",
    "\n",
    "grid = ParameterGrid(params_grid)\n",
    "cnt = 0\n",
    "for p in grid:\n",
    "    cnt = cnt+1\n",
    "\n",
    "print('Total Possible Models',cnt)"
   ]
  },
  {
   "cell_type": "code",
   "execution_count": 34,
   "id": "e05fcc8c",
   "metadata": {
    "scrolled": true
   },
   "outputs": [
    {
     "name": "stdout",
     "output_type": "stream",
     "text": [
      "1   {'changepoint_prior_scale': 0.05, 'n_changepoints': 1, 'seasonality_prior_scale': 0.05}\n"
     ]
    },
    {
     "name": "stderr",
     "output_type": "stream",
     "text": [
      "17:33:30 - cmdstanpy - INFO - Chain [1] start processing\n",
      "17:33:31 - cmdstanpy - INFO - Chain [1] done processing\n"
     ]
    },
    {
     "name": "stdout",
     "output_type": "stream",
     "text": [
      "Errors :-\n",
      "MSE :  4119159.5540196323\n",
      "RMSE :  2029.5712734515218 \n",
      "\n",
      "Root Mean Squre Error(RMSE)------------------------------------ 2029.5712734515218\n",
      "2   {'changepoint_prior_scale': 0.05, 'n_changepoints': 1, 'seasonality_prior_scale': 1}\n"
     ]
    },
    {
     "name": "stderr",
     "output_type": "stream",
     "text": [
      "17:33:33 - cmdstanpy - INFO - Chain [1] start processing\n",
      "17:33:33 - cmdstanpy - INFO - Chain [1] done processing\n"
     ]
    },
    {
     "name": "stdout",
     "output_type": "stream",
     "text": [
      "Errors :-\n",
      "MSE :  4116624.750319598\n",
      "RMSE :  2028.9467095810076 \n",
      "\n",
      "Root Mean Squre Error(RMSE)------------------------------------ 2028.9467095810076\n",
      "3   {'changepoint_prior_scale': 0.05, 'n_changepoints': 1, 'seasonality_prior_scale': 10}\n"
     ]
    },
    {
     "name": "stderr",
     "output_type": "stream",
     "text": [
      "17:33:35 - cmdstanpy - INFO - Chain [1] start processing\n",
      "17:33:35 - cmdstanpy - INFO - Chain [1] done processing\n"
     ]
    },
    {
     "name": "stdout",
     "output_type": "stream",
     "text": [
      "Errors :-\n",
      "MSE :  4116790.4389524693\n",
      "RMSE :  2028.9875403640283 \n",
      "\n",
      "Root Mean Squre Error(RMSE)------------------------------------ 2028.9875403640283\n",
      "4   {'changepoint_prior_scale': 0.05, 'n_changepoints': 1, 'seasonality_prior_scale': 25}\n"
     ]
    },
    {
     "name": "stderr",
     "output_type": "stream",
     "text": [
      "17:33:37 - cmdstanpy - INFO - Chain [1] start processing\n",
      "17:33:37 - cmdstanpy - INFO - Chain [1] done processing\n"
     ]
    },
    {
     "name": "stdout",
     "output_type": "stream",
     "text": [
      "Errors :-\n",
      "MSE :  4115214.8157067033\n",
      "RMSE :  2028.5992250088984 \n",
      "\n",
      "Root Mean Squre Error(RMSE)------------------------------------ 2028.5992250088984\n",
      "5   {'changepoint_prior_scale': 0.05, 'n_changepoints': 10, 'seasonality_prior_scale': 0.05}\n"
     ]
    },
    {
     "name": "stderr",
     "output_type": "stream",
     "text": [
      "17:33:39 - cmdstanpy - INFO - Chain [1] start processing\n",
      "17:33:40 - cmdstanpy - INFO - Chain [1] done processing\n"
     ]
    },
    {
     "name": "stdout",
     "output_type": "stream",
     "text": [
      "Errors :-\n",
      "MSE :  2228517.367926282\n",
      "RMSE :  1492.8219478311141 \n",
      "\n",
      "Root Mean Squre Error(RMSE)------------------------------------ 1492.8219478311141\n",
      "6   {'changepoint_prior_scale': 0.05, 'n_changepoints': 10, 'seasonality_prior_scale': 1}\n"
     ]
    },
    {
     "name": "stderr",
     "output_type": "stream",
     "text": [
      "17:33:42 - cmdstanpy - INFO - Chain [1] start processing\n",
      "17:33:42 - cmdstanpy - INFO - Chain [1] done processing\n"
     ]
    },
    {
     "name": "stdout",
     "output_type": "stream",
     "text": [
      "Errors :-\n",
      "MSE :  2228193.8889211966\n",
      "RMSE :  1492.7135990943461 \n",
      "\n",
      "Root Mean Squre Error(RMSE)------------------------------------ 1492.7135990943461\n",
      "7   {'changepoint_prior_scale': 0.05, 'n_changepoints': 10, 'seasonality_prior_scale': 10}\n"
     ]
    },
    {
     "name": "stderr",
     "output_type": "stream",
     "text": [
      "17:33:45 - cmdstanpy - INFO - Chain [1] start processing\n",
      "17:33:45 - cmdstanpy - INFO - Chain [1] done processing\n"
     ]
    },
    {
     "name": "stdout",
     "output_type": "stream",
     "text": [
      "Errors :-\n",
      "MSE :  2230922.352449417\n",
      "RMSE :  1493.627246822117 \n",
      "\n",
      "Root Mean Squre Error(RMSE)------------------------------------ 1493.627246822117\n",
      "8   {'changepoint_prior_scale': 0.05, 'n_changepoints': 10, 'seasonality_prior_scale': 25}\n"
     ]
    },
    {
     "name": "stderr",
     "output_type": "stream",
     "text": [
      "17:33:48 - cmdstanpy - INFO - Chain [1] start processing\n",
      "17:33:48 - cmdstanpy - INFO - Chain [1] done processing\n"
     ]
    },
    {
     "name": "stdout",
     "output_type": "stream",
     "text": [
      "Errors :-\n",
      "MSE :  2231048.9712915123\n",
      "RMSE :  1493.6696325799464 \n",
      "\n",
      "Root Mean Squre Error(RMSE)------------------------------------ 1493.6696325799464\n",
      "9   {'changepoint_prior_scale': 0.05, 'n_changepoints': 25, 'seasonality_prior_scale': 0.05}\n"
     ]
    },
    {
     "name": "stderr",
     "output_type": "stream",
     "text": [
      "17:33:51 - cmdstanpy - INFO - Chain [1] start processing\n",
      "17:33:52 - cmdstanpy - INFO - Chain [1] done processing\n"
     ]
    },
    {
     "name": "stdout",
     "output_type": "stream",
     "text": [
      "Errors :-\n",
      "MSE :  2237284.0821194653\n",
      "RMSE :  1495.7553550361988 \n",
      "\n",
      "Root Mean Squre Error(RMSE)------------------------------------ 1495.7553550361988\n",
      "10   {'changepoint_prior_scale': 0.05, 'n_changepoints': 25, 'seasonality_prior_scale': 1}\n"
     ]
    },
    {
     "name": "stderr",
     "output_type": "stream",
     "text": [
      "17:33:55 - cmdstanpy - INFO - Chain [1] start processing\n",
      "17:33:56 - cmdstanpy - INFO - Chain [1] done processing\n"
     ]
    },
    {
     "name": "stdout",
     "output_type": "stream",
     "text": [
      "Errors :-\n",
      "MSE :  2235751.7780182776\n",
      "RMSE :  1495.243049814403 \n",
      "\n",
      "Root Mean Squre Error(RMSE)------------------------------------ 1495.243049814403\n",
      "11   {'changepoint_prior_scale': 0.05, 'n_changepoints': 25, 'seasonality_prior_scale': 10}\n"
     ]
    },
    {
     "name": "stderr",
     "output_type": "stream",
     "text": [
      "17:33:59 - cmdstanpy - INFO - Chain [1] start processing\n",
      "17:34:00 - cmdstanpy - INFO - Chain [1] done processing\n"
     ]
    },
    {
     "name": "stdout",
     "output_type": "stream",
     "text": [
      "Errors :-\n",
      "MSE :  2239231.0810362073\n",
      "RMSE :  1496.4060548648577 \n",
      "\n",
      "Root Mean Squre Error(RMSE)------------------------------------ 1496.4060548648577\n",
      "12   {'changepoint_prior_scale': 0.05, 'n_changepoints': 25, 'seasonality_prior_scale': 25}\n"
     ]
    },
    {
     "name": "stderr",
     "output_type": "stream",
     "text": [
      "17:34:03 - cmdstanpy - INFO - Chain [1] start processing\n",
      "17:34:05 - cmdstanpy - INFO - Chain [1] done processing\n"
     ]
    },
    {
     "name": "stdout",
     "output_type": "stream",
     "text": [
      "Errors :-\n",
      "MSE :  2237375.516124328\n",
      "RMSE :  1495.7859192158242 \n",
      "\n",
      "Root Mean Squre Error(RMSE)------------------------------------ 1495.7859192158242\n",
      "13   {'changepoint_prior_scale': 0.05, 'n_changepoints': 100, 'seasonality_prior_scale': 0.05}\n"
     ]
    },
    {
     "name": "stderr",
     "output_type": "stream",
     "text": [
      "17:34:07 - cmdstanpy - INFO - Chain [1] start processing\n",
      "17:34:17 - cmdstanpy - INFO - Chain [1] done processing\n"
     ]
    },
    {
     "name": "stdout",
     "output_type": "stream",
     "text": [
      "Errors :-\n",
      "MSE :  2245309.169434218\n",
      "RMSE :  1498.4355740018382 \n",
      "\n",
      "Root Mean Squre Error(RMSE)------------------------------------ 1498.4355740018382\n",
      "14   {'changepoint_prior_scale': 0.05, 'n_changepoints': 100, 'seasonality_prior_scale': 1}\n"
     ]
    },
    {
     "name": "stderr",
     "output_type": "stream",
     "text": [
      "17:34:21 - cmdstanpy - INFO - Chain [1] start processing\n",
      "17:34:33 - cmdstanpy - INFO - Chain [1] done processing\n"
     ]
    },
    {
     "name": "stdout",
     "output_type": "stream",
     "text": [
      "Errors :-\n",
      "MSE :  2242136.495136371\n",
      "RMSE :  1497.376537527008 \n",
      "\n",
      "Root Mean Squre Error(RMSE)------------------------------------ 1497.376537527008\n",
      "15   {'changepoint_prior_scale': 0.05, 'n_changepoints': 100, 'seasonality_prior_scale': 10}\n"
     ]
    },
    {
     "name": "stderr",
     "output_type": "stream",
     "text": [
      "17:34:38 - cmdstanpy - INFO - Chain [1] start processing\n",
      "17:34:46 - cmdstanpy - INFO - Chain [1] done processing\n"
     ]
    },
    {
     "name": "stdout",
     "output_type": "stream",
     "text": [
      "Errors :-\n",
      "MSE :  2241957.578180682\n",
      "RMSE :  1497.316792860042 \n",
      "\n",
      "Root Mean Squre Error(RMSE)------------------------------------ 1497.316792860042\n",
      "16   {'changepoint_prior_scale': 0.05, 'n_changepoints': 100, 'seasonality_prior_scale': 25}\n"
     ]
    },
    {
     "name": "stderr",
     "output_type": "stream",
     "text": [
      "17:34:50 - cmdstanpy - INFO - Chain [1] start processing\n",
      "17:35:03 - cmdstanpy - INFO - Chain [1] done processing\n"
     ]
    },
    {
     "name": "stdout",
     "output_type": "stream",
     "text": [
      "Errors :-\n",
      "MSE :  2243556.2250931957\n",
      "RMSE :  1497.8505349644188 \n",
      "\n",
      "Root Mean Squre Error(RMSE)------------------------------------ 1497.8505349644188\n",
      "17   {'changepoint_prior_scale': 1, 'n_changepoints': 1, 'seasonality_prior_scale': 0.05}\n"
     ]
    },
    {
     "name": "stderr",
     "output_type": "stream",
     "text": [
      "17:35:07 - cmdstanpy - INFO - Chain [1] start processing\n",
      "17:35:07 - cmdstanpy - INFO - Chain [1] done processing\n"
     ]
    },
    {
     "name": "stdout",
     "output_type": "stream",
     "text": [
      "Errors :-\n",
      "MSE :  4203074.028529946\n",
      "RMSE :  2050.140002177887 \n",
      "\n",
      "Root Mean Squre Error(RMSE)------------------------------------ 2050.140002177887\n",
      "18   {'changepoint_prior_scale': 1, 'n_changepoints': 1, 'seasonality_prior_scale': 1}\n"
     ]
    },
    {
     "name": "stderr",
     "output_type": "stream",
     "text": [
      "17:35:10 - cmdstanpy - INFO - Chain [1] start processing\n",
      "17:35:10 - cmdstanpy - INFO - Chain [1] done processing\n"
     ]
    },
    {
     "name": "stdout",
     "output_type": "stream",
     "text": [
      "Errors :-\n",
      "MSE :  4197223.732297776\n",
      "RMSE :  2048.7127012584697 \n",
      "\n",
      "Root Mean Squre Error(RMSE)------------------------------------ 2048.7127012584697\n",
      "19   {'changepoint_prior_scale': 1, 'n_changepoints': 1, 'seasonality_prior_scale': 10}\n"
     ]
    },
    {
     "name": "stderr",
     "output_type": "stream",
     "text": [
      "17:35:13 - cmdstanpy - INFO - Chain [1] start processing\n",
      "17:35:13 - cmdstanpy - INFO - Chain [1] done processing\n"
     ]
    },
    {
     "name": "stdout",
     "output_type": "stream",
     "text": [
      "Errors :-\n",
      "MSE :  4197124.63931913\n",
      "RMSE :  2048.6885169100574 \n",
      "\n",
      "Root Mean Squre Error(RMSE)------------------------------------ 2048.6885169100574\n",
      "20   {'changepoint_prior_scale': 1, 'n_changepoints': 1, 'seasonality_prior_scale': 25}\n"
     ]
    },
    {
     "name": "stderr",
     "output_type": "stream",
     "text": [
      "17:35:16 - cmdstanpy - INFO - Chain [1] start processing\n",
      "17:35:16 - cmdstanpy - INFO - Chain [1] done processing\n"
     ]
    },
    {
     "name": "stdout",
     "output_type": "stream",
     "text": [
      "Errors :-\n",
      "MSE :  4196858.486881106\n",
      "RMSE :  2048.623559095498 \n",
      "\n",
      "Root Mean Squre Error(RMSE)------------------------------------ 2048.623559095498\n",
      "21   {'changepoint_prior_scale': 1, 'n_changepoints': 10, 'seasonality_prior_scale': 0.05}\n"
     ]
    },
    {
     "name": "stderr",
     "output_type": "stream",
     "text": [
      "17:35:18 - cmdstanpy - INFO - Chain [1] start processing\n",
      "17:35:18 - cmdstanpy - INFO - Chain [1] done processing\n"
     ]
    },
    {
     "name": "stdout",
     "output_type": "stream",
     "text": [
      "Errors :-\n",
      "MSE :  2220258.681944285\n",
      "RMSE :  1490.0532480231318 \n",
      "\n",
      "Root Mean Squre Error(RMSE)------------------------------------ 1490.0532480231318\n",
      "22   {'changepoint_prior_scale': 1, 'n_changepoints': 10, 'seasonality_prior_scale': 1}\n"
     ]
    },
    {
     "name": "stderr",
     "output_type": "stream",
     "text": [
      "17:35:21 - cmdstanpy - INFO - Chain [1] start processing\n",
      "17:35:22 - cmdstanpy - INFO - Chain [1] done processing\n"
     ]
    },
    {
     "name": "stdout",
     "output_type": "stream",
     "text": [
      "Errors :-\n",
      "MSE :  2219715.3197283098\n",
      "RMSE :  1489.8709070682298 \n",
      "\n",
      "Root Mean Squre Error(RMSE)------------------------------------ 1489.8709070682298\n",
      "23   {'changepoint_prior_scale': 1, 'n_changepoints': 10, 'seasonality_prior_scale': 10}\n"
     ]
    },
    {
     "name": "stderr",
     "output_type": "stream",
     "text": [
      "17:35:25 - cmdstanpy - INFO - Chain [1] start processing\n",
      "17:35:26 - cmdstanpy - INFO - Chain [1] done processing\n"
     ]
    },
    {
     "name": "stdout",
     "output_type": "stream",
     "text": [
      "Errors :-\n",
      "MSE :  2219764.12888589\n",
      "RMSE :  1489.8872873093085 \n",
      "\n",
      "Root Mean Squre Error(RMSE)------------------------------------ 1489.8872873093085\n",
      "24   {'changepoint_prior_scale': 1, 'n_changepoints': 10, 'seasonality_prior_scale': 25}\n"
     ]
    },
    {
     "name": "stderr",
     "output_type": "stream",
     "text": [
      "17:35:29 - cmdstanpy - INFO - Chain [1] start processing\n",
      "17:35:29 - cmdstanpy - INFO - Chain [1] done processing\n"
     ]
    },
    {
     "name": "stdout",
     "output_type": "stream",
     "text": [
      "Errors :-\n",
      "MSE :  2220043.6961492463\n",
      "RMSE :  1489.9811059705578 \n",
      "\n",
      "Root Mean Squre Error(RMSE)------------------------------------ 1489.9811059705578\n",
      "25   {'changepoint_prior_scale': 1, 'n_changepoints': 25, 'seasonality_prior_scale': 0.05}\n"
     ]
    },
    {
     "name": "stderr",
     "output_type": "stream",
     "text": [
      "17:35:32 - cmdstanpy - INFO - Chain [1] start processing\n",
      "17:35:36 - cmdstanpy - INFO - Chain [1] done processing\n"
     ]
    },
    {
     "name": "stdout",
     "output_type": "stream",
     "text": [
      "Errors :-\n",
      "MSE :  2426366.0671243696\n",
      "RMSE :  1557.6797062054732 \n",
      "\n",
      "Root Mean Squre Error(RMSE)------------------------------------ 1557.6797062054732\n",
      "26   {'changepoint_prior_scale': 1, 'n_changepoints': 25, 'seasonality_prior_scale': 1}\n"
     ]
    },
    {
     "name": "stderr",
     "output_type": "stream",
     "text": [
      "17:35:39 - cmdstanpy - INFO - Chain [1] start processing\n",
      "17:35:41 - cmdstanpy - INFO - Chain [1] done processing\n"
     ]
    },
    {
     "name": "stdout",
     "output_type": "stream",
     "text": [
      "Errors :-\n",
      "MSE :  2422610.1671106485\n",
      "RMSE :  1556.4736319997999 \n",
      "\n",
      "Root Mean Squre Error(RMSE)------------------------------------ 1556.4736319997999\n",
      "27   {'changepoint_prior_scale': 1, 'n_changepoints': 25, 'seasonality_prior_scale': 10}\n"
     ]
    },
    {
     "name": "stderr",
     "output_type": "stream",
     "text": [
      "17:35:44 - cmdstanpy - INFO - Chain [1] start processing\n",
      "17:35:47 - cmdstanpy - INFO - Chain [1] done processing\n"
     ]
    },
    {
     "name": "stdout",
     "output_type": "stream",
     "text": [
      "Errors :-\n",
      "MSE :  2420357.0560415364\n",
      "RMSE :  1555.7496765358933 \n",
      "\n",
      "Root Mean Squre Error(RMSE)------------------------------------ 1555.7496765358933\n",
      "28   {'changepoint_prior_scale': 1, 'n_changepoints': 25, 'seasonality_prior_scale': 25}\n"
     ]
    },
    {
     "name": "stderr",
     "output_type": "stream",
     "text": [
      "17:35:51 - cmdstanpy - INFO - Chain [1] start processing\n",
      "17:35:57 - cmdstanpy - INFO - Chain [1] done processing\n"
     ]
    },
    {
     "name": "stdout",
     "output_type": "stream",
     "text": [
      "Errors :-\n",
      "MSE :  2428232.810567964\n",
      "RMSE :  1558.2787974454263 \n",
      "\n",
      "Root Mean Squre Error(RMSE)------------------------------------ 1558.2787974454263\n",
      "29   {'changepoint_prior_scale': 1, 'n_changepoints': 100, 'seasonality_prior_scale': 0.05}\n"
     ]
    },
    {
     "name": "stderr",
     "output_type": "stream",
     "text": [
      "17:36:01 - cmdstanpy - INFO - Chain [1] start processing\n",
      "17:36:18 - cmdstanpy - INFO - Chain [1] done processing\n"
     ]
    },
    {
     "name": "stdout",
     "output_type": "stream",
     "text": [
      "Errors :-\n",
      "MSE :  2651313.089708919\n",
      "RMSE :  1628.285321959551 \n",
      "\n",
      "Root Mean Squre Error(RMSE)------------------------------------ 1628.285321959551\n",
      "30   {'changepoint_prior_scale': 1, 'n_changepoints': 100, 'seasonality_prior_scale': 1}\n"
     ]
    },
    {
     "name": "stderr",
     "output_type": "stream",
     "text": [
      "17:36:22 - cmdstanpy - INFO - Chain [1] start processing\n",
      "17:36:44 - cmdstanpy - INFO - Chain [1] done processing\n"
     ]
    },
    {
     "name": "stdout",
     "output_type": "stream",
     "text": [
      "Errors :-\n",
      "MSE :  2680509.4441741444\n",
      "RMSE :  1637.2261432600399 \n",
      "\n",
      "Root Mean Squre Error(RMSE)------------------------------------ 1637.2261432600399\n",
      "31   {'changepoint_prior_scale': 1, 'n_changepoints': 100, 'seasonality_prior_scale': 10}\n"
     ]
    },
    {
     "name": "stderr",
     "output_type": "stream",
     "text": [
      "17:36:49 - cmdstanpy - INFO - Chain [1] start processing\n",
      "17:37:13 - cmdstanpy - INFO - Chain [1] done processing\n"
     ]
    },
    {
     "name": "stdout",
     "output_type": "stream",
     "text": [
      "Errors :-\n",
      "MSE :  2674477.286729586\n",
      "RMSE :  1635.3829174629366 \n",
      "\n",
      "Root Mean Squre Error(RMSE)------------------------------------ 1635.3829174629366\n",
      "32   {'changepoint_prior_scale': 1, 'n_changepoints': 100, 'seasonality_prior_scale': 25}\n"
     ]
    },
    {
     "name": "stderr",
     "output_type": "stream",
     "text": [
      "17:37:17 - cmdstanpy - INFO - Chain [1] start processing\n",
      "17:37:53 - cmdstanpy - INFO - Chain [1] done processing\n"
     ]
    },
    {
     "name": "stdout",
     "output_type": "stream",
     "text": [
      "Errors :-\n",
      "MSE :  2666803.909708551\n",
      "RMSE :  1633.03518324271 \n",
      "\n",
      "Root Mean Squre Error(RMSE)------------------------------------ 1633.03518324271\n",
      "33   {'changepoint_prior_scale': 10, 'n_changepoints': 1, 'seasonality_prior_scale': 0.05}\n"
     ]
    },
    {
     "name": "stderr",
     "output_type": "stream",
     "text": [
      "17:37:58 - cmdstanpy - INFO - Chain [1] start processing\n",
      "17:37:58 - cmdstanpy - INFO - Chain [1] done processing\n"
     ]
    },
    {
     "name": "stdout",
     "output_type": "stream",
     "text": [
      "Errors :-\n",
      "MSE :  4202406.183892291\n",
      "RMSE :  2049.977117894805 \n",
      "\n",
      "Root Mean Squre Error(RMSE)------------------------------------ 2049.977117894805\n",
      "34   {'changepoint_prior_scale': 10, 'n_changepoints': 1, 'seasonality_prior_scale': 1}\n"
     ]
    },
    {
     "name": "stderr",
     "output_type": "stream",
     "text": [
      "17:38:00 - cmdstanpy - INFO - Chain [1] start processing\n",
      "17:38:01 - cmdstanpy - INFO - Chain [1] done processing\n"
     ]
    },
    {
     "name": "stdout",
     "output_type": "stream",
     "text": [
      "Errors :-\n",
      "MSE :  4201436.733778423\n",
      "RMSE :  2049.740650369803 \n",
      "\n",
      "Root Mean Squre Error(RMSE)------------------------------------ 2049.740650369803\n",
      "35   {'changepoint_prior_scale': 10, 'n_changepoints': 1, 'seasonality_prior_scale': 10}\n"
     ]
    },
    {
     "name": "stderr",
     "output_type": "stream",
     "text": [
      "17:38:03 - cmdstanpy - INFO - Chain [1] start processing\n",
      "17:38:04 - cmdstanpy - INFO - Chain [1] done processing\n"
     ]
    },
    {
     "name": "stdout",
     "output_type": "stream",
     "text": [
      "Errors :-\n",
      "MSE :  4202810.17498534\n",
      "RMSE :  2050.0756510395754 \n",
      "\n",
      "Root Mean Squre Error(RMSE)------------------------------------ 2050.0756510395754\n",
      "36   {'changepoint_prior_scale': 10, 'n_changepoints': 1, 'seasonality_prior_scale': 25}\n"
     ]
    },
    {
     "name": "stderr",
     "output_type": "stream",
     "text": [
      "17:38:06 - cmdstanpy - INFO - Chain [1] start processing\n",
      "17:38:07 - cmdstanpy - INFO - Chain [1] done processing\n"
     ]
    },
    {
     "name": "stdout",
     "output_type": "stream",
     "text": [
      "Errors :-\n",
      "MSE :  4200607.37612372\n",
      "RMSE :  2049.5383324358 \n",
      "\n",
      "Root Mean Squre Error(RMSE)------------------------------------ 2049.5383324358\n",
      "37   {'changepoint_prior_scale': 10, 'n_changepoints': 10, 'seasonality_prior_scale': 0.05}\n"
     ]
    },
    {
     "name": "stderr",
     "output_type": "stream",
     "text": [
      "17:38:09 - cmdstanpy - INFO - Chain [1] start processing\n",
      "17:38:10 - cmdstanpy - INFO - Chain [1] done processing\n"
     ]
    },
    {
     "name": "stdout",
     "output_type": "stream",
     "text": [
      "Errors :-\n",
      "MSE :  2219245.755057298\n",
      "RMSE :  1489.713313042915 \n",
      "\n",
      "Root Mean Squre Error(RMSE)------------------------------------ 1489.713313042915\n",
      "38   {'changepoint_prior_scale': 10, 'n_changepoints': 10, 'seasonality_prior_scale': 1}\n"
     ]
    },
    {
     "name": "stderr",
     "output_type": "stream",
     "text": [
      "17:38:13 - cmdstanpy - INFO - Chain [1] start processing\n",
      "17:38:14 - cmdstanpy - INFO - Chain [1] done processing\n"
     ]
    },
    {
     "name": "stdout",
     "output_type": "stream",
     "text": [
      "Errors :-\n",
      "MSE :  2219195.1320109223\n",
      "RMSE :  1489.6963220773964 \n",
      "\n",
      "Root Mean Squre Error(RMSE)------------------------------------ 1489.6963220773964\n",
      "39   {'changepoint_prior_scale': 10, 'n_changepoints': 10, 'seasonality_prior_scale': 10}\n"
     ]
    },
    {
     "name": "stderr",
     "output_type": "stream",
     "text": [
      "17:38:17 - cmdstanpy - INFO - Chain [1] start processing\n",
      "17:38:17 - cmdstanpy - INFO - Chain [1] done processing\n"
     ]
    },
    {
     "name": "stdout",
     "output_type": "stream",
     "text": [
      "Errors :-\n",
      "MSE :  2219964.5544491606\n",
      "RMSE :  1489.9545477796162 \n",
      "\n",
      "Root Mean Squre Error(RMSE)------------------------------------ 1489.9545477796162\n",
      "40   {'changepoint_prior_scale': 10, 'n_changepoints': 10, 'seasonality_prior_scale': 25}\n"
     ]
    },
    {
     "name": "stderr",
     "output_type": "stream",
     "text": [
      "17:38:19 - cmdstanpy - INFO - Chain [1] start processing\n",
      "17:38:20 - cmdstanpy - INFO - Chain [1] done processing\n"
     ]
    },
    {
     "name": "stdout",
     "output_type": "stream",
     "text": [
      "Errors :-\n",
      "MSE :  2219915.064260998\n",
      "RMSE :  1489.9379397347386 \n",
      "\n",
      "Root Mean Squre Error(RMSE)------------------------------------ 1489.9379397347386\n",
      "41   {'changepoint_prior_scale': 10, 'n_changepoints': 25, 'seasonality_prior_scale': 0.05}\n"
     ]
    },
    {
     "name": "stderr",
     "output_type": "stream",
     "text": [
      "17:38:22 - cmdstanpy - INFO - Chain [1] start processing\n",
      "17:38:27 - cmdstanpy - INFO - Chain [1] done processing\n"
     ]
    },
    {
     "name": "stdout",
     "output_type": "stream",
     "text": [
      "Errors :-\n",
      "MSE :  2458538.3713540523\n",
      "RMSE :  1567.9726947093347 \n",
      "\n",
      "Root Mean Squre Error(RMSE)------------------------------------ 1567.9726947093347\n",
      "42   {'changepoint_prior_scale': 10, 'n_changepoints': 25, 'seasonality_prior_scale': 1}\n"
     ]
    },
    {
     "name": "stderr",
     "output_type": "stream",
     "text": [
      "17:38:30 - cmdstanpy - INFO - Chain [1] start processing\n",
      "17:38:36 - cmdstanpy - INFO - Chain [1] done processing\n"
     ]
    },
    {
     "name": "stdout",
     "output_type": "stream",
     "text": [
      "Errors :-\n",
      "MSE :  2459908.1115725255\n",
      "RMSE :  1568.4094209014831 \n",
      "\n",
      "Root Mean Squre Error(RMSE)------------------------------------ 1568.4094209014831\n",
      "43   {'changepoint_prior_scale': 10, 'n_changepoints': 25, 'seasonality_prior_scale': 10}\n"
     ]
    },
    {
     "name": "stderr",
     "output_type": "stream",
     "text": [
      "17:38:39 - cmdstanpy - INFO - Chain [1] start processing\n",
      "17:38:43 - cmdstanpy - INFO - Chain [1] done processing\n"
     ]
    },
    {
     "name": "stdout",
     "output_type": "stream",
     "text": [
      "Errors :-\n",
      "MSE :  2451582.5606371635\n",
      "RMSE :  1565.7530330921168 \n",
      "\n",
      "Root Mean Squre Error(RMSE)------------------------------------ 1565.7530330921168\n",
      "44   {'changepoint_prior_scale': 10, 'n_changepoints': 25, 'seasonality_prior_scale': 25}\n"
     ]
    },
    {
     "name": "stderr",
     "output_type": "stream",
     "text": [
      "17:38:47 - cmdstanpy - INFO - Chain [1] start processing\n",
      "17:38:49 - cmdstanpy - INFO - Chain [1] done processing\n"
     ]
    },
    {
     "name": "stdout",
     "output_type": "stream",
     "text": [
      "Errors :-\n",
      "MSE :  2461738.987086275\n",
      "RMSE :  1568.9929850341189 \n",
      "\n",
      "Root Mean Squre Error(RMSE)------------------------------------ 1568.9929850341189\n",
      "45   {'changepoint_prior_scale': 10, 'n_changepoints': 100, 'seasonality_prior_scale': 0.05}\n"
     ]
    },
    {
     "name": "stderr",
     "output_type": "stream",
     "text": [
      "17:38:52 - cmdstanpy - INFO - Chain [1] start processing\n",
      "17:39:30 - cmdstanpy - INFO - Chain [1] done processing\n"
     ]
    },
    {
     "name": "stdout",
     "output_type": "stream",
     "text": [
      "Errors :-\n",
      "MSE :  2703561.5869099693\n",
      "RMSE :  1644.2510717375158 \n",
      "\n",
      "Root Mean Squre Error(RMSE)------------------------------------ 1644.2510717375158\n",
      "46   {'changepoint_prior_scale': 10, 'n_changepoints': 100, 'seasonality_prior_scale': 1}\n"
     ]
    },
    {
     "name": "stderr",
     "output_type": "stream",
     "text": [
      "17:39:34 - cmdstanpy - INFO - Chain [1] start processing\n",
      "17:39:56 - cmdstanpy - INFO - Chain [1] done processing\n"
     ]
    },
    {
     "name": "stdout",
     "output_type": "stream",
     "text": [
      "Errors :-\n",
      "MSE :  2715586.3998398557\n",
      "RMSE :  1647.9036379108627 \n",
      "\n",
      "Root Mean Squre Error(RMSE)------------------------------------ 1647.9036379108627\n",
      "47   {'changepoint_prior_scale': 10, 'n_changepoints': 100, 'seasonality_prior_scale': 10}\n"
     ]
    },
    {
     "name": "stderr",
     "output_type": "stream",
     "text": [
      "17:40:00 - cmdstanpy - INFO - Chain [1] start processing\n",
      "17:40:27 - cmdstanpy - INFO - Chain [1] done processing\n"
     ]
    },
    {
     "name": "stdout",
     "output_type": "stream",
     "text": [
      "Errors :-\n",
      "MSE :  2720229.755184425\n",
      "RMSE :  1649.311903547787 \n",
      "\n",
      "Root Mean Squre Error(RMSE)------------------------------------ 1649.311903547787\n",
      "48   {'changepoint_prior_scale': 10, 'n_changepoints': 100, 'seasonality_prior_scale': 25}\n"
     ]
    },
    {
     "name": "stderr",
     "output_type": "stream",
     "text": [
      "17:40:31 - cmdstanpy - INFO - Chain [1] start processing\n",
      "17:41:09 - cmdstanpy - INFO - Chain [1] done processing\n"
     ]
    },
    {
     "name": "stdout",
     "output_type": "stream",
     "text": [
      "Errors :-\n",
      "MSE :  2706400.0780476024\n",
      "RMSE :  1645.114001535335 \n",
      "\n",
      "Root Mean Squre Error(RMSE)------------------------------------ 1645.114001535335\n",
      "49   {'changepoint_prior_scale': 25, 'n_changepoints': 1, 'seasonality_prior_scale': 0.05}\n"
     ]
    },
    {
     "name": "stderr",
     "output_type": "stream",
     "text": [
      "17:41:12 - cmdstanpy - INFO - Chain [1] start processing\n",
      "17:41:13 - cmdstanpy - INFO - Chain [1] done processing\n"
     ]
    },
    {
     "name": "stdout",
     "output_type": "stream",
     "text": [
      "Errors :-\n",
      "MSE :  4204104.033952986\n",
      "RMSE :  2050.391190469025 \n",
      "\n",
      "Root Mean Squre Error(RMSE)------------------------------------ 2050.391190469025\n",
      "50   {'changepoint_prior_scale': 25, 'n_changepoints': 1, 'seasonality_prior_scale': 1}\n"
     ]
    },
    {
     "name": "stderr",
     "output_type": "stream",
     "text": [
      "17:41:15 - cmdstanpy - INFO - Chain [1] start processing\n",
      "17:41:16 - cmdstanpy - INFO - Chain [1] done processing\n"
     ]
    },
    {
     "name": "stdout",
     "output_type": "stream",
     "text": [
      "Errors :-\n",
      "MSE :  4203386.505462946\n",
      "RMSE :  2050.21620944303 \n",
      "\n",
      "Root Mean Squre Error(RMSE)------------------------------------ 2050.21620944303\n",
      "51   {'changepoint_prior_scale': 25, 'n_changepoints': 1, 'seasonality_prior_scale': 10}\n"
     ]
    },
    {
     "name": "stderr",
     "output_type": "stream",
     "text": [
      "17:41:18 - cmdstanpy - INFO - Chain [1] start processing\n",
      "17:41:18 - cmdstanpy - INFO - Chain [1] done processing\n"
     ]
    },
    {
     "name": "stdout",
     "output_type": "stream",
     "text": [
      "Errors :-\n",
      "MSE :  4202822.082716894\n",
      "RMSE :  2050.0785552551138 \n",
      "\n",
      "Root Mean Squre Error(RMSE)------------------------------------ 2050.0785552551138\n",
      "52   {'changepoint_prior_scale': 25, 'n_changepoints': 1, 'seasonality_prior_scale': 25}\n"
     ]
    },
    {
     "name": "stderr",
     "output_type": "stream",
     "text": [
      "17:41:21 - cmdstanpy - INFO - Chain [1] start processing\n",
      "17:41:21 - cmdstanpy - INFO - Chain [1] done processing\n"
     ]
    },
    {
     "name": "stdout",
     "output_type": "stream",
     "text": [
      "Errors :-\n",
      "MSE :  4198755.3238725\n",
      "RMSE :  2049.086460809426 \n",
      "\n",
      "Root Mean Squre Error(RMSE)------------------------------------ 2049.086460809426\n",
      "53   {'changepoint_prior_scale': 25, 'n_changepoints': 10, 'seasonality_prior_scale': 0.05}\n"
     ]
    },
    {
     "name": "stderr",
     "output_type": "stream",
     "text": [
      "17:41:24 - cmdstanpy - INFO - Chain [1] start processing\n",
      "17:41:25 - cmdstanpy - INFO - Chain [1] done processing\n"
     ]
    },
    {
     "name": "stdout",
     "output_type": "stream",
     "text": [
      "Errors :-\n",
      "MSE :  2219323.6598545336\n",
      "RMSE :  1489.7394603938415 \n",
      "\n",
      "Root Mean Squre Error(RMSE)------------------------------------ 1489.7394603938415\n",
      "54   {'changepoint_prior_scale': 25, 'n_changepoints': 10, 'seasonality_prior_scale': 1}\n"
     ]
    },
    {
     "name": "stderr",
     "output_type": "stream",
     "text": [
      "17:41:28 - cmdstanpy - INFO - Chain [1] start processing\n",
      "17:41:29 - cmdstanpy - INFO - Chain [1] done processing\n"
     ]
    },
    {
     "name": "stdout",
     "output_type": "stream",
     "text": [
      "Errors :-\n",
      "MSE :  2219972.2322972617\n",
      "RMSE :  1489.9571243150797 \n",
      "\n",
      "Root Mean Squre Error(RMSE)------------------------------------ 1489.9571243150797\n",
      "55   {'changepoint_prior_scale': 25, 'n_changepoints': 10, 'seasonality_prior_scale': 10}\n"
     ]
    },
    {
     "name": "stderr",
     "output_type": "stream",
     "text": [
      "17:41:31 - cmdstanpy - INFO - Chain [1] start processing\n",
      "17:41:32 - cmdstanpy - INFO - Chain [1] done processing\n"
     ]
    },
    {
     "name": "stdout",
     "output_type": "stream",
     "text": [
      "Errors :-\n",
      "MSE :  2219821.8237598715\n",
      "RMSE :  1489.9066493441364 \n",
      "\n",
      "Root Mean Squre Error(RMSE)------------------------------------ 1489.9066493441364\n",
      "56   {'changepoint_prior_scale': 25, 'n_changepoints': 10, 'seasonality_prior_scale': 25}\n"
     ]
    },
    {
     "name": "stderr",
     "output_type": "stream",
     "text": [
      "17:41:34 - cmdstanpy - INFO - Chain [1] start processing\n",
      "17:41:35 - cmdstanpy - INFO - Chain [1] done processing\n"
     ]
    },
    {
     "name": "stdout",
     "output_type": "stream",
     "text": [
      "Errors :-\n",
      "MSE :  2219699.507097919\n",
      "RMSE :  1489.8656003471988 \n",
      "\n",
      "Root Mean Squre Error(RMSE)------------------------------------ 1489.8656003471988\n",
      "57   {'changepoint_prior_scale': 25, 'n_changepoints': 25, 'seasonality_prior_scale': 0.05}\n"
     ]
    },
    {
     "name": "stderr",
     "output_type": "stream",
     "text": [
      "17:41:37 - cmdstanpy - INFO - Chain [1] start processing\n",
      "17:41:41 - cmdstanpy - INFO - Chain [1] done processing\n"
     ]
    },
    {
     "name": "stdout",
     "output_type": "stream",
     "text": [
      "Errors :-\n",
      "MSE :  2465208.30051232\n",
      "RMSE :  1570.0981818065773 \n",
      "\n",
      "Root Mean Squre Error(RMSE)------------------------------------ 1570.0981818065773\n",
      "58   {'changepoint_prior_scale': 25, 'n_changepoints': 25, 'seasonality_prior_scale': 1}\n"
     ]
    },
    {
     "name": "stderr",
     "output_type": "stream",
     "text": [
      "17:41:45 - cmdstanpy - INFO - Chain [1] start processing\n",
      "17:41:54 - cmdstanpy - INFO - Chain [1] done processing\n"
     ]
    },
    {
     "name": "stdout",
     "output_type": "stream",
     "text": [
      "Errors :-\n",
      "MSE :  2453548.027703613\n",
      "RMSE :  1566.3805500910732 \n",
      "\n",
      "Root Mean Squre Error(RMSE)------------------------------------ 1566.3805500910732\n",
      "59   {'changepoint_prior_scale': 25, 'n_changepoints': 25, 'seasonality_prior_scale': 10}\n"
     ]
    },
    {
     "name": "stderr",
     "output_type": "stream",
     "text": [
      "17:41:58 - cmdstanpy - INFO - Chain [1] start processing\n",
      "17:42:03 - cmdstanpy - INFO - Chain [1] done processing\n"
     ]
    },
    {
     "name": "stdout",
     "output_type": "stream",
     "text": [
      "Errors :-\n",
      "MSE :  2467684.025171195\n",
      "RMSE :  1570.8863820057754 \n",
      "\n",
      "Root Mean Squre Error(RMSE)------------------------------------ 1570.8863820057754\n",
      "60   {'changepoint_prior_scale': 25, 'n_changepoints': 25, 'seasonality_prior_scale': 25}\n"
     ]
    },
    {
     "name": "stderr",
     "output_type": "stream",
     "text": [
      "17:42:06 - cmdstanpy - INFO - Chain [1] start processing\n",
      "17:42:08 - cmdstanpy - INFO - Chain [1] done processing\n"
     ]
    },
    {
     "name": "stdout",
     "output_type": "stream",
     "text": [
      "Errors :-\n",
      "MSE :  2445182.055813292\n",
      "RMSE :  1563.7077910572973 \n",
      "\n",
      "Root Mean Squre Error(RMSE)------------------------------------ 1563.7077910572973\n",
      "61   {'changepoint_prior_scale': 25, 'n_changepoints': 100, 'seasonality_prior_scale': 0.05}\n"
     ]
    },
    {
     "name": "stderr",
     "output_type": "stream",
     "text": [
      "17:42:11 - cmdstanpy - INFO - Chain [1] start processing\n",
      "17:42:58 - cmdstanpy - INFO - Chain [1] done processing\n"
     ]
    },
    {
     "name": "stdout",
     "output_type": "stream",
     "text": [
      "Errors :-\n",
      "MSE :  2731729.092942254\n",
      "RMSE :  1652.794328687709 \n",
      "\n",
      "Root Mean Squre Error(RMSE)------------------------------------ 1652.794328687709\n",
      "62   {'changepoint_prior_scale': 25, 'n_changepoints': 100, 'seasonality_prior_scale': 1}\n"
     ]
    },
    {
     "name": "stderr",
     "output_type": "stream",
     "text": [
      "17:43:03 - cmdstanpy - INFO - Chain [1] start processing\n",
      "17:43:33 - cmdstanpy - INFO - Chain [1] done processing\n"
     ]
    },
    {
     "name": "stdout",
     "output_type": "stream",
     "text": [
      "Errors :-\n",
      "MSE :  2726391.7178658443\n",
      "RMSE :  1651.1788873001751 \n",
      "\n",
      "Root Mean Squre Error(RMSE)------------------------------------ 1651.1788873001751\n",
      "63   {'changepoint_prior_scale': 25, 'n_changepoints': 100, 'seasonality_prior_scale': 10}\n"
     ]
    },
    {
     "name": "stderr",
     "output_type": "stream",
     "text": [
      "17:43:37 - cmdstanpy - INFO - Chain [1] start processing\n",
      "17:43:58 - cmdstanpy - INFO - Chain [1] done processing\n"
     ]
    },
    {
     "name": "stdout",
     "output_type": "stream",
     "text": [
      "Errors :-\n",
      "MSE :  2719379.302613393\n",
      "RMSE :  1649.0540629747081 \n",
      "\n",
      "Root Mean Squre Error(RMSE)------------------------------------ 1649.0540629747081\n",
      "64   {'changepoint_prior_scale': 25, 'n_changepoints': 100, 'seasonality_prior_scale': 25}\n"
     ]
    },
    {
     "name": "stderr",
     "output_type": "stream",
     "text": [
      "17:44:02 - cmdstanpy - INFO - Chain [1] start processing\n",
      "17:44:23 - cmdstanpy - INFO - Chain [1] done processing\n"
     ]
    },
    {
     "name": "stdout",
     "output_type": "stream",
     "text": [
      "Errors :-\n",
      "MSE :  2737888.2375832293\n",
      "RMSE :  1654.6565316050426 \n",
      "\n",
      "Root Mean Squre Error(RMSE)------------------------------------ 1654.6565316050426\n"
     ]
    }
   ],
   "source": [
    "model_parameters = pd.DataFrame(columns = ['Parameters','MSE','RMSE'])\n",
    "i = 1\n",
    "for p in grid:\n",
    "    test = pd.DataFrame()\n",
    "    print(i,' ',p)\n",
    "    i = i+1\n",
    "    random.seed(0)\n",
    "    train_model =Prophet(freq='B', \n",
    "                         changepoint_prior_scale = p['changepoint_prior_scale'],\n",
    "                         n_changepoints = p['n_changepoints'],\n",
    "                         seasonality_mode = 'multiplicative',\n",
    "                         seasonality_prior_scale=p['seasonality_prior_scale'],\n",
    "                         weekly_seasonality=False,\n",
    "                         daily_seasonality = False,\n",
    "                         yearly_seasonality = True,\n",
    "                         add_country_holidays={'country_name': 'India'}, holidays=holiday)\n",
    "    train_model.fit(train_data)\n",
    "    fh = list(range(1,653))\n",
    "    test_predictions = train_model.predict(fh=fh)\n",
    "    mse, rmse = error(test_data['Close'],test_predictions)\n",
    "    print('Root Mean Squre Error(RMSE)------------------------------------',rmse)\n",
    "    model_parameters = model_parameters.append({'Parameters':p, 'MSE':mse, 'RMSE':rmse},ignore_index=True)"
   ]
  },
  {
   "cell_type": "code",
   "execution_count": 35,
   "id": "01a5e485",
   "metadata": {},
   "outputs": [
    {
     "data": {
      "text/html": [
       "<div>\n",
       "<style scoped>\n",
       "    .dataframe tbody tr th:only-of-type {\n",
       "        vertical-align: middle;\n",
       "    }\n",
       "\n",
       "    .dataframe tbody tr th {\n",
       "        vertical-align: top;\n",
       "    }\n",
       "\n",
       "    .dataframe thead th {\n",
       "        text-align: right;\n",
       "    }\n",
       "</style>\n",
       "<table border=\"1\" class=\"dataframe\">\n",
       "  <thead>\n",
       "    <tr style=\"text-align: right;\">\n",
       "      <th></th>\n",
       "      <th>Parameters</th>\n",
       "      <th>MSE</th>\n",
       "      <th>RMSE</th>\n",
       "    </tr>\n",
       "  </thead>\n",
       "  <tbody>\n",
       "    <tr>\n",
       "      <th>0</th>\n",
       "      <td>{'changepoint_prior_scale': 10, 'n_changepoint...</td>\n",
       "      <td>2.219195e+06</td>\n",
       "      <td>1489.696322</td>\n",
       "    </tr>\n",
       "    <tr>\n",
       "      <th>1</th>\n",
       "      <td>{'changepoint_prior_scale': 10, 'n_changepoint...</td>\n",
       "      <td>2.219246e+06</td>\n",
       "      <td>1489.713313</td>\n",
       "    </tr>\n",
       "    <tr>\n",
       "      <th>2</th>\n",
       "      <td>{'changepoint_prior_scale': 25, 'n_changepoint...</td>\n",
       "      <td>2.219324e+06</td>\n",
       "      <td>1489.739460</td>\n",
       "    </tr>\n",
       "    <tr>\n",
       "      <th>3</th>\n",
       "      <td>{'changepoint_prior_scale': 25, 'n_changepoint...</td>\n",
       "      <td>2.219700e+06</td>\n",
       "      <td>1489.865600</td>\n",
       "    </tr>\n",
       "    <tr>\n",
       "      <th>4</th>\n",
       "      <td>{'changepoint_prior_scale': 1, 'n_changepoints...</td>\n",
       "      <td>2.219715e+06</td>\n",
       "      <td>1489.870907</td>\n",
       "    </tr>\n",
       "  </tbody>\n",
       "</table>\n",
       "</div>"
      ],
      "text/plain": [
       "                                          Parameters           MSE  \\\n",
       "0  {'changepoint_prior_scale': 10, 'n_changepoint...  2.219195e+06   \n",
       "1  {'changepoint_prior_scale': 10, 'n_changepoint...  2.219246e+06   \n",
       "2  {'changepoint_prior_scale': 25, 'n_changepoint...  2.219324e+06   \n",
       "3  {'changepoint_prior_scale': 25, 'n_changepoint...  2.219700e+06   \n",
       "4  {'changepoint_prior_scale': 1, 'n_changepoints...  2.219715e+06   \n",
       "\n",
       "          RMSE  \n",
       "0  1489.696322  \n",
       "1  1489.713313  \n",
       "2  1489.739460  \n",
       "3  1489.865600  \n",
       "4  1489.870907  "
      ]
     },
     "execution_count": 35,
     "metadata": {},
     "output_type": "execute_result"
    }
   ],
   "source": [
    "parameters = model_parameters.sort_values(by=['RMSE'])\n",
    "parameters = parameters.reset_index(drop=True)\n",
    "parameters.head()"
   ]
  },
  {
   "cell_type": "code",
   "execution_count": 36,
   "id": "57a2ccff",
   "metadata": {},
   "outputs": [
    {
     "data": {
      "text/plain": [
       "10"
      ]
     },
     "execution_count": 36,
     "metadata": {},
     "output_type": "execute_result"
    }
   ],
   "source": [
    "parameters['Parameters'][0]['changepoint_prior_scale']"
   ]
  },
  {
   "cell_type": "code",
   "execution_count": 37,
   "id": "3a7a8ec6",
   "metadata": {},
   "outputs": [
    {
     "name": "stderr",
     "output_type": "stream",
     "text": [
      "17:44:27 - cmdstanpy - INFO - Chain [1] start processing\n",
      "17:44:27 - cmdstanpy - INFO - Chain [1] done processing\n"
     ]
    },
    {
     "data": {
      "text/html": [
       "<style>#sk-container-id-3 {color: black;background-color: white;}#sk-container-id-3 pre{padding: 0;}#sk-container-id-3 div.sk-toggleable {background-color: white;}#sk-container-id-3 label.sk-toggleable__label {cursor: pointer;display: block;width: 100%;margin-bottom: 0;padding: 0.3em;box-sizing: border-box;text-align: center;}#sk-container-id-3 label.sk-toggleable__label-arrow:before {content: \"▸\";float: left;margin-right: 0.25em;color: #696969;}#sk-container-id-3 label.sk-toggleable__label-arrow:hover:before {color: black;}#sk-container-id-3 div.sk-estimator:hover label.sk-toggleable__label-arrow:before {color: black;}#sk-container-id-3 div.sk-toggleable__content {max-height: 0;max-width: 0;overflow: hidden;text-align: left;background-color: #f0f8ff;}#sk-container-id-3 div.sk-toggleable__content pre {margin: 0.2em;color: black;border-radius: 0.25em;background-color: #f0f8ff;}#sk-container-id-3 input.sk-toggleable__control:checked~div.sk-toggleable__content {max-height: 200px;max-width: 100%;overflow: auto;}#sk-container-id-3 input.sk-toggleable__control:checked~label.sk-toggleable__label-arrow:before {content: \"▾\";}#sk-container-id-3 div.sk-estimator input.sk-toggleable__control:checked~label.sk-toggleable__label {background-color: #d4ebff;}#sk-container-id-3 div.sk-label input.sk-toggleable__control:checked~label.sk-toggleable__label {background-color: #d4ebff;}#sk-container-id-3 input.sk-hidden--visually {border: 0;clip: rect(1px 1px 1px 1px);clip: rect(1px, 1px, 1px, 1px);height: 1px;margin: -1px;overflow: hidden;padding: 0;position: absolute;width: 1px;}#sk-container-id-3 div.sk-estimator {font-family: monospace;background-color: #f0f8ff;border: 1px dotted black;border-radius: 0.25em;box-sizing: border-box;margin-bottom: 0.5em;}#sk-container-id-3 div.sk-estimator:hover {background-color: #d4ebff;}#sk-container-id-3 div.sk-parallel-item::after {content: \"\";width: 100%;border-bottom: 1px solid gray;flex-grow: 1;}#sk-container-id-3 div.sk-label:hover label.sk-toggleable__label {background-color: #d4ebff;}#sk-container-id-3 div.sk-serial::before {content: \"\";position: absolute;border-left: 1px solid gray;box-sizing: border-box;top: 0;bottom: 0;left: 50%;z-index: 0;}#sk-container-id-3 div.sk-serial {display: flex;flex-direction: column;align-items: center;background-color: white;padding-right: 0.2em;padding-left: 0.2em;position: relative;}#sk-container-id-3 div.sk-item {position: relative;z-index: 1;}#sk-container-id-3 div.sk-parallel {display: flex;align-items: stretch;justify-content: center;background-color: white;position: relative;}#sk-container-id-3 div.sk-item::before, #sk-container-id-3 div.sk-parallel-item::before {content: \"\";position: absolute;border-left: 1px solid gray;box-sizing: border-box;top: 0;bottom: 0;left: 50%;z-index: -1;}#sk-container-id-3 div.sk-parallel-item {display: flex;flex-direction: column;z-index: 1;position: relative;background-color: white;}#sk-container-id-3 div.sk-parallel-item:first-child::after {align-self: flex-end;width: 50%;}#sk-container-id-3 div.sk-parallel-item:last-child::after {align-self: flex-start;width: 50%;}#sk-container-id-3 div.sk-parallel-item:only-child::after {width: 0;}#sk-container-id-3 div.sk-dashed-wrapped {border: 1px dashed gray;margin: 0 0.4em 0.5em 0.4em;box-sizing: border-box;padding-bottom: 0.4em;background-color: white;}#sk-container-id-3 div.sk-label label {font-family: monospace;font-weight: bold;display: inline-block;line-height: 1.2em;}#sk-container-id-3 div.sk-label-container {text-align: center;}#sk-container-id-3 div.sk-container {/* jupyter's `normalize.less` sets `[hidden] { display: none; }` but bootstrap.min.css set `[hidden] { display: none !important; }` so we also need the `!important` here to be able to override the default hidden behavior on the sphinx rendered scikit-learn.org. See: https://github.com/scikit-learn/scikit-learn/issues/21755 */display: inline-block !important;position: relative;}#sk-container-id-3 div.sk-text-repr-fallback {display: none;}</style><div id=\"sk-container-id-3\" class=\"sk-top-container\"><div class=\"sk-text-repr-fallback\"><pre>Prophet(add_country_holidays={&#x27;country_name&#x27;: &#x27;India&#x27;},\n",
       "        changepoint_prior_scale=10, daily_seasonality=False, freq=&#x27;B&#x27;,\n",
       "        holidays=           ds         holiday\n",
       "0  2011-01-14  India_Holidays\n",
       "1  2011-01-26  India_Holidays\n",
       "2  2011-03-19  India_Holidays\n",
       "3  2011-05-01  India_Holidays\n",
       "4  2011-08-15  India_Holidays\n",
       "..        ...             ...\n",
       "87 2021-12-25  India_Holidays\n",
       "88 2022-01-14  India_Holidays\n",
       "89 2022-01-26  India_Holidays\n",
       "90 2022-03-18  India_Holidays\n",
       "91 2022-05-01  India_Holidays\n",
       "\n",
       "[92 rows x 2 columns],\n",
       "        n_changepoints=10, seasonality_mode=&#x27;multiplicative&#x27;,\n",
       "        seasonality_prior_scale=1, verbose=10, weekly_seasonality=False,\n",
       "        yearly_seasonality=True)</pre><b>In a Jupyter environment, please rerun this cell to show the HTML representation or trust the notebook. <br />On GitHub, the HTML representation is unable to render, please try loading this page with nbviewer.org.</b></div><div class=\"sk-container\" hidden><div class=\"sk-item\"><div class=\"sk-estimator sk-toggleable\"><input class=\"sk-toggleable__control sk-hidden--visually\" id=\"sk-estimator-id-3\" type=\"checkbox\" checked><label for=\"sk-estimator-id-3\" class=\"sk-toggleable__label sk-toggleable__label-arrow\">Prophet</label><div class=\"sk-toggleable__content\"><pre>Prophet(add_country_holidays={&#x27;country_name&#x27;: &#x27;India&#x27;},\n",
       "        changepoint_prior_scale=10, daily_seasonality=False, freq=&#x27;B&#x27;,\n",
       "        holidays=           ds         holiday\n",
       "0  2011-01-14  India_Holidays\n",
       "1  2011-01-26  India_Holidays\n",
       "2  2011-03-19  India_Holidays\n",
       "3  2011-05-01  India_Holidays\n",
       "4  2011-08-15  India_Holidays\n",
       "..        ...             ...\n",
       "87 2021-12-25  India_Holidays\n",
       "88 2022-01-14  India_Holidays\n",
       "89 2022-01-26  India_Holidays\n",
       "90 2022-03-18  India_Holidays\n",
       "91 2022-05-01  India_Holidays\n",
       "\n",
       "[92 rows x 2 columns],\n",
       "        n_changepoints=10, seasonality_mode=&#x27;multiplicative&#x27;,\n",
       "        seasonality_prior_scale=1, verbose=10, weekly_seasonality=False,\n",
       "        yearly_seasonality=True)</pre></div></div></div></div></div>"
      ],
      "text/plain": [
       "Prophet(add_country_holidays={'country_name': 'India'},\n",
       "        changepoint_prior_scale=10, daily_seasonality=False, freq='B',\n",
       "        holidays=           ds         holiday\n",
       "0  2011-01-14  India_Holidays\n",
       "1  2011-01-26  India_Holidays\n",
       "2  2011-03-19  India_Holidays\n",
       "3  2011-05-01  India_Holidays\n",
       "4  2011-08-15  India_Holidays\n",
       "..        ...             ...\n",
       "87 2021-12-25  India_Holidays\n",
       "88 2022-01-14  India_Holidays\n",
       "89 2022-01-26  India_Holidays\n",
       "90 2022-03-18  India_Holidays\n",
       "91 2022-05-01  India_Holidays\n",
       "\n",
       "[92 rows x 2 columns],\n",
       "        n_changepoints=10, seasonality_mode='multiplicative',\n",
       "        seasonality_prior_scale=1, verbose=10, weekly_seasonality=False,\n",
       "        yearly_seasonality=True)"
      ]
     },
     "execution_count": 37,
     "metadata": {},
     "output_type": "execute_result"
    }
   ],
   "source": [
    "Pro_model = Prophet(freq='B', seasonality_mode='multiplicative', \n",
    "                    changepoint_prior_scale=parameters['Parameters'][0]['changepoint_prior_scale'], \n",
    "                    n_changepoints=parameters['Parameters'][0]['n_changepoints'], \n",
    "                    seasonality_prior_scale=parameters['Parameters'][0]['seasonality_prior_scale'], \n",
    "                    add_country_holidays={'country_name': 'India'}, verbose=10,\n",
    "                holidays=holiday,\n",
    "                yearly_seasonality=True, weekly_seasonality=False , daily_seasonality=False)\n",
    "Pro_model.fit(train_data)"
   ]
  },
  {
   "cell_type": "code",
   "execution_count": 38,
   "id": "02478fa5",
   "metadata": {},
   "outputs": [
    {
     "data": {
      "text/html": [
       "<div>\n",
       "<style scoped>\n",
       "    .dataframe tbody tr th:only-of-type {\n",
       "        vertical-align: middle;\n",
       "    }\n",
       "\n",
       "    .dataframe tbody tr th {\n",
       "        vertical-align: top;\n",
       "    }\n",
       "\n",
       "    .dataframe thead th {\n",
       "        text-align: right;\n",
       "    }\n",
       "</style>\n",
       "<table border=\"1\" class=\"dataframe\">\n",
       "  <thead>\n",
       "    <tr style=\"text-align: right;\">\n",
       "      <th></th>\n",
       "      <th>yhat</th>\n",
       "    </tr>\n",
       "  </thead>\n",
       "  <tbody>\n",
       "    <tr>\n",
       "      <th>2020-01-01</th>\n",
       "      <td>13267.866741</td>\n",
       "    </tr>\n",
       "    <tr>\n",
       "      <th>2020-01-02</th>\n",
       "      <td>13180.077922</td>\n",
       "    </tr>\n",
       "    <tr>\n",
       "      <th>2020-01-03</th>\n",
       "      <td>13168.514052</td>\n",
       "    </tr>\n",
       "    <tr>\n",
       "      <th>2020-01-06</th>\n",
       "      <td>13142.604968</td>\n",
       "    </tr>\n",
       "    <tr>\n",
       "      <th>2020-01-07</th>\n",
       "      <td>13137.314645</td>\n",
       "    </tr>\n",
       "    <tr>\n",
       "      <th>...</th>\n",
       "      <td>...</td>\n",
       "    </tr>\n",
       "    <tr>\n",
       "      <th>2022-06-24</th>\n",
       "      <td>20104.775714</td>\n",
       "    </tr>\n",
       "    <tr>\n",
       "      <th>2022-06-27</th>\n",
       "      <td>20138.732911</td>\n",
       "    </tr>\n",
       "    <tr>\n",
       "      <th>2022-06-28</th>\n",
       "      <td>20152.672254</td>\n",
       "    </tr>\n",
       "    <tr>\n",
       "      <th>2022-06-29</th>\n",
       "      <td>20167.707001</td>\n",
       "    </tr>\n",
       "    <tr>\n",
       "      <th>2022-06-30</th>\n",
       "      <td>20183.677327</td>\n",
       "    </tr>\n",
       "  </tbody>\n",
       "</table>\n",
       "<p>652 rows × 1 columns</p>\n",
       "</div>"
      ],
      "text/plain": [
       "                    yhat\n",
       "2020-01-01  13267.866741\n",
       "2020-01-02  13180.077922\n",
       "2020-01-03  13168.514052\n",
       "2020-01-06  13142.604968\n",
       "2020-01-07  13137.314645\n",
       "...                  ...\n",
       "2022-06-24  20104.775714\n",
       "2022-06-27  20138.732911\n",
       "2022-06-28  20152.672254\n",
       "2022-06-29  20167.707001\n",
       "2022-06-30  20183.677327\n",
       "\n",
       "[652 rows x 1 columns]"
      ]
     },
     "execution_count": 38,
     "metadata": {},
     "output_type": "execute_result"
    }
   ],
   "source": [
    "fh = list(range(1,653))\n",
    "# fh1 = pd.DatetimeIndex(np.array(test_data.index))\n",
    "# fh1\n",
    "test_predictions_pro = Pro_model.predict(fh=fh)\n",
    "test_predictions_pro"
   ]
  },
  {
   "cell_type": "code",
   "execution_count": 39,
   "id": "d881cae8",
   "metadata": {},
   "outputs": [
    {
     "data": {
      "image/png": "[encoded data removed]"
     },
     "metadata": {},
     "output_type": "display_data"
    }
   ],
   "source": [
    "fig = go.Figure()\n",
    "\n",
    "fig.add_trace(go.Scatter(x=train_data.index, y=train_data['Close'], mode='lines', name='TRAIN'))\n",
    "fig.add_trace(go.Scatter(x=test_data.index, y=test_data['Close'], mode='lines', name='TEST'))\n",
    "fig.add_trace(go.Scatter(x=test_predictions.index, y=test_predictions['yhat'], mode='lines', name='PREDICTION'))\n",
    "\n",
    "fig.update_layout(title_text='Forecast vs Actuals', title_x=0.5)\n",
    "fig.show()"
   ]
  },
  {
   "cell_type": "code",
   "execution_count": 40,
   "id": "955c896b",
   "metadata": {},
   "outputs": [
    {
     "name": "stdout",
     "output_type": "stream",
     "text": [
      "Errors :-\n",
      "MSE :  2219195.1320109223\n",
      "RMSE :  1489.6963220773964 \n",
      "\n"
     ]
    },
    {
     "data": {
      "text/plain": [
       "(2219195.1320109223, 1489.6963220773964)"
      ]
     },
     "execution_count": 40,
     "metadata": {},
     "output_type": "execute_result"
    }
   ],
   "source": [
    "error(test_data['Close'],test_predictions_pro)"
   ]
  },
  {
   "cell_type": "code",
   "execution_count": null,
   "id": "175aa360",
   "metadata": {},
   "outputs": [],
   "source": []
  },
  {
   "cell_type": "markdown",
   "id": "0fabe285",
   "metadata": {},
   "source": [
    "# Auto Ensemble Forecaster"
   ]
  },
  {
   "cell_type": "code",
   "execution_count": 41,
   "id": "405dd3ae",
   "metadata": {},
   "outputs": [],
   "source": [
    "from sktime.forecasting.compose import AutoEnsembleForecaster"
   ]
  },
  {
   "cell_type": "code",
   "execution_count": 42,
   "id": "845e074c",
   "metadata": {},
   "outputs": [],
   "source": [
    "from sktime.forecasting.exp_smoothing import ExponentialSmoothing\n",
    "from sktime.forecasting.fbprophet import Prophet"
   ]
  },
  {
   "cell_type": "code",
   "execution_count": 43,
   "id": "3f343b78",
   "metadata": {},
   "outputs": [],
   "source": [
    "Expo_model = ExponentialSmoothing(trend='add',seasonal='mul',sp=253, damped_trend=False)\n",
    "# Expo_model.fit(train_data)"
   ]
  },
  {
   "cell_type": "code",
   "execution_count": 44,
   "id": "3b5de2f1",
   "metadata": {},
   "outputs": [],
   "source": [
    "Pro_model = Prophet(freq='B', seasonality_mode='multiplicative', \n",
    "                    changepoint_prior_scale=parameters['Parameters'][0]['changepoint_prior_scale'], \n",
    "                    n_changepoints=parameters['Parameters'][0]['n_changepoints'], \n",
    "                    seasonality_prior_scale=parameters['Parameters'][0]['seasonality_prior_scale'], \n",
    "                    add_country_holidays={'country_name': 'India'}, verbose=10,\n",
    "                    holidays=holiday,\n",
    "                    yearly_seasonality=True, weekly_seasonality=False , daily_seasonality=False)\n",
    "# Pro_model.fit(train_data)"
   ]
  },
  {
   "cell_type": "code",
   "execution_count": 45,
   "id": "38ebbcc9",
   "metadata": {},
   "outputs": [],
   "source": [
    "forecasters = [\n",
    "    (\"prophet\" , Pro_model),\n",
    "    (\"expo\" , Expo_model)\n",
    "]"
   ]
  },
  {
   "cell_type": "code",
   "execution_count": 46,
   "id": "eb28da08",
   "metadata": {},
   "outputs": [
    {
     "data": {
      "text/html": [
       "<style>#sk-container-id-4 {color: black;background-color: white;}#sk-container-id-4 pre{padding: 0;}#sk-container-id-4 div.sk-toggleable {background-color: white;}#sk-container-id-4 label.sk-toggleable__label {cursor: pointer;display: block;width: 100%;margin-bottom: 0;padding: 0.3em;box-sizing: border-box;text-align: center;}#sk-container-id-4 label.sk-toggleable__label-arrow:before {content: \"▸\";float: left;margin-right: 0.25em;color: #696969;}#sk-container-id-4 label.sk-toggleable__label-arrow:hover:before {color: black;}#sk-container-id-4 div.sk-estimator:hover label.sk-toggleable__label-arrow:before {color: black;}#sk-container-id-4 div.sk-toggleable__content {max-height: 0;max-width: 0;overflow: hidden;text-align: left;background-color: #f0f8ff;}#sk-container-id-4 div.sk-toggleable__content pre {margin: 0.2em;color: black;border-radius: 0.25em;background-color: #f0f8ff;}#sk-container-id-4 input.sk-toggleable__control:checked~div.sk-toggleable__content {max-height: 200px;max-width: 100%;overflow: auto;}#sk-container-id-4 input.sk-toggleable__control:checked~label.sk-toggleable__label-arrow:before {content: \"▾\";}#sk-container-id-4 div.sk-estimator input.sk-toggleable__control:checked~label.sk-toggleable__label {background-color: #d4ebff;}#sk-container-id-4 div.sk-label input.sk-toggleable__control:checked~label.sk-toggleable__label {background-color: #d4ebff;}#sk-container-id-4 input.sk-hidden--visually {border: 0;clip: rect(1px 1px 1px 1px);clip: rect(1px, 1px, 1px, 1px);height: 1px;margin: -1px;overflow: hidden;padding: 0;position: absolute;width: 1px;}#sk-container-id-4 div.sk-estimator {font-family: monospace;background-color: #f0f8ff;border: 1px dotted black;border-radius: 0.25em;box-sizing: border-box;margin-bottom: 0.5em;}#sk-container-id-4 div.sk-estimator:hover {background-color: #d4ebff;}#sk-container-id-4 div.sk-parallel-item::after {content: \"\";width: 100%;border-bottom: 1px solid gray;flex-grow: 1;}#sk-container-id-4 div.sk-label:hover label.sk-toggleable__label {background-color: #d4ebff;}#sk-container-id-4 div.sk-serial::before {content: \"\";position: absolute;border-left: 1px solid gray;box-sizing: border-box;top: 0;bottom: 0;left: 50%;z-index: 0;}#sk-container-id-4 div.sk-serial {display: flex;flex-direction: column;align-items: center;background-color: white;padding-right: 0.2em;padding-left: 0.2em;position: relative;}#sk-container-id-4 div.sk-item {position: relative;z-index: 1;}#sk-container-id-4 div.sk-parallel {display: flex;align-items: stretch;justify-content: center;background-color: white;position: relative;}#sk-container-id-4 div.sk-item::before, #sk-container-id-4 div.sk-parallel-item::before {content: \"\";position: absolute;border-left: 1px solid gray;box-sizing: border-box;top: 0;bottom: 0;left: 50%;z-index: -1;}#sk-container-id-4 div.sk-parallel-item {display: flex;flex-direction: column;z-index: 1;position: relative;background-color: white;}#sk-container-id-4 div.sk-parallel-item:first-child::after {align-self: flex-end;width: 50%;}#sk-container-id-4 div.sk-parallel-item:last-child::after {align-self: flex-start;width: 50%;}#sk-container-id-4 div.sk-parallel-item:only-child::after {width: 0;}#sk-container-id-4 div.sk-dashed-wrapped {border: 1px dashed gray;margin: 0 0.4em 0.5em 0.4em;box-sizing: border-box;padding-bottom: 0.4em;background-color: white;}#sk-container-id-4 div.sk-label label {font-family: monospace;font-weight: bold;display: inline-block;line-height: 1.2em;}#sk-container-id-4 div.sk-label-container {text-align: center;}#sk-container-id-4 div.sk-container {/* jupyter's `normalize.less` sets `[hidden] { display: none; }` but bootstrap.min.css set `[hidden] { display: none !important; }` so we also need the `!important` here to be able to override the default hidden behavior on the sphinx rendered scikit-learn.org. See: https://github.com/scikit-learn/scikit-learn/issues/21755 */display: inline-block !important;position: relative;}#sk-container-id-4 div.sk-text-repr-fallback {display: none;}</style><div id=\"sk-container-id-4\" class=\"sk-top-container\"><div class=\"sk-text-repr-fallback\"><pre>AutoEnsembleForecaster(forecasters=[(&#x27;prophet&#x27;,\n",
       "                                     Prophet(add_country_holidays={&#x27;country_name&#x27;: &#x27;India&#x27;},\n",
       "                                             changepoint_prior_scale=10,\n",
       "                                             daily_seasonality=False, freq=&#x27;B&#x27;,\n",
       "                                             holidays=           ds         holiday\n",
       "0  2011-01-14  India_Holidays\n",
       "1  2011-01-26  India_Holidays\n",
       "2  2011-03-19  India_Holidays\n",
       "3  2011-05-01  India_Holidays\n",
       "4  2011-08-15  India_Holidays\n",
       "..        ...             ...\n",
       "87 2021-12-25  India_Holidays\n",
       "88 2022-01-14  India_Holidays\n",
       "89 2022-01-26  India_Holidays\n",
       "90 2022-03-18  India_Holidays\n",
       "91 2022-05-01  India_Holidays\n",
       "\n",
       "[92 rows x 2 columns],\n",
       "                                             n_changepoints=10,\n",
       "                                             seasonality_mode=&#x27;multiplicative&#x27;,\n",
       "                                             seasonality_prior_scale=1,\n",
       "                                             verbose=10,\n",
       "                                             weekly_seasonality=False,\n",
       "                                             yearly_seasonality=True)),\n",
       "                                    (&#x27;expo&#x27;,\n",
       "                                     ExponentialSmoothing(seasonal=&#x27;mul&#x27;,\n",
       "                                                          sp=253,\n",
       "                                                          trend=&#x27;add&#x27;))],\n",
       "                       n_jobs=-1, random_state=42)</pre><b>In a Jupyter environment, please rerun this cell to show the HTML representation or trust the notebook. <br />On GitHub, the HTML representation is unable to render, please try loading this page with nbviewer.org.</b></div><div class=\"sk-container\" hidden><div class=\"sk-item\"><div class=\"sk-estimator sk-toggleable\"><input class=\"sk-toggleable__control sk-hidden--visually\" id=\"sk-estimator-id-4\" type=\"checkbox\" checked><label for=\"sk-estimator-id-4\" class=\"sk-toggleable__label sk-toggleable__label-arrow\">AutoEnsembleForecaster</label><div class=\"sk-toggleable__content\"><pre>AutoEnsembleForecaster(forecasters=[(&#x27;prophet&#x27;,\n",
       "                                     Prophet(add_country_holidays={&#x27;country_name&#x27;: &#x27;India&#x27;},\n",
       "                                             changepoint_prior_scale=10,\n",
       "                                             daily_seasonality=False, freq=&#x27;B&#x27;,\n",
       "                                             holidays=           ds         holiday\n",
       "0  2011-01-14  India_Holidays\n",
       "1  2011-01-26  India_Holidays\n",
       "2  2011-03-19  India_Holidays\n",
       "3  2011-05-01  India_Holidays\n",
       "4  2011-08-15  India_Holidays\n",
       "..        ...             ...\n",
       "87 2021-12-25  India_Holidays\n",
       "88 2022-01-14  India_Holidays\n",
       "89 2022-01-26  India_Holidays\n",
       "90 2022-03-18  India_Holidays\n",
       "91 2022-05-01  India_Holidays\n",
       "\n",
       "[92 rows x 2 columns],\n",
       "                                             n_changepoints=10,\n",
       "                                             seasonality_mode=&#x27;multiplicative&#x27;,\n",
       "                                             seasonality_prior_scale=1,\n",
       "                                             verbose=10,\n",
       "                                             weekly_seasonality=False,\n",
       "                                             yearly_seasonality=True)),\n",
       "                                    (&#x27;expo&#x27;,\n",
       "                                     ExponentialSmoothing(seasonal=&#x27;mul&#x27;,\n",
       "                                                          sp=253,\n",
       "                                                          trend=&#x27;add&#x27;))],\n",
       "                       n_jobs=-1, random_state=42)</pre></div></div></div></div></div>"
      ],
      "text/plain": [
       "AutoEnsembleForecaster(forecasters=[('prophet',\n",
       "                                     Prophet(add_country_holidays={'country_name': 'India'},\n",
       "                                             changepoint_prior_scale=10,\n",
       "                                             daily_seasonality=False, freq='B',\n",
       "                                             holidays=           ds         holiday\n",
       "0  2011-01-14  India_Holidays\n",
       "1  2011-01-26  India_Holidays\n",
       "2  2011-03-19  India_Holidays\n",
       "3  2011-05-01  India_Holidays\n",
       "4  2011-08-15  India_Holidays\n",
       "..        ...             ...\n",
       "87 2021-12-25  India_Holidays\n",
       "88 2022-01-14  India_Holidays\n",
       "89 2022-01-26  India_Holidays\n",
       "90 2022-03-18  India_Holidays\n",
       "91 2022-05-01  India_Holidays\n",
       "\n",
       "[92 rows x 2 columns],\n",
       "                                             n_changepoints=10,\n",
       "                                             seasonality_mode='multiplicative',\n",
       "                                             seasonality_prior_scale=1,\n",
       "                                             verbose=10,\n",
       "                                             weekly_seasonality=False,\n",
       "                                             yearly_seasonality=True)),\n",
       "                                    ('expo',\n",
       "                                     ExponentialSmoothing(seasonal='mul',\n",
       "                                                          sp=253,\n",
       "                                                          trend='add'))],\n",
       "                       n_jobs=-1, random_state=42)"
      ]
     },
     "execution_count": 46,
     "metadata": {},
     "output_type": "execute_result"
    }
   ],
   "source": [
    "Ensmodel = AutoEnsembleForecaster(forecasters=forecasters, n_jobs=-1, random_state=42)\n",
    "Ensmodel.fit(train_data)"
   ]
  },
  {
   "cell_type": "code",
   "execution_count": 47,
   "id": "b1ed3ea7",
   "metadata": {
    "scrolled": false
   },
   "outputs": [
    {
     "data": {
      "text/html": [
       "<div>\n",
       "<style scoped>\n",
       "    .dataframe tbody tr th:only-of-type {\n",
       "        vertical-align: middle;\n",
       "    }\n",
       "\n",
       "    .dataframe tbody tr th {\n",
       "        vertical-align: top;\n",
       "    }\n",
       "\n",
       "    .dataframe thead th {\n",
       "        text-align: right;\n",
       "    }\n",
       "</style>\n",
       "<table border=\"1\" class=\"dataframe\">\n",
       "  <thead>\n",
       "    <tr style=\"text-align: right;\">\n",
       "      <th></th>\n",
       "      <th>Close</th>\n",
       "    </tr>\n",
       "  </thead>\n",
       "  <tbody>\n",
       "    <tr>\n",
       "      <th>2020-01-01</th>\n",
       "      <td>13491.513821</td>\n",
       "    </tr>\n",
       "    <tr>\n",
       "      <th>2020-01-02</th>\n",
       "      <td>13430.689603</td>\n",
       "    </tr>\n",
       "    <tr>\n",
       "      <th>2020-01-03</th>\n",
       "      <td>13441.847802</td>\n",
       "    </tr>\n",
       "    <tr>\n",
       "      <th>2020-01-06</th>\n",
       "      <td>13414.706156</td>\n",
       "    </tr>\n",
       "    <tr>\n",
       "      <th>2020-01-07</th>\n",
       "      <td>13404.631396</td>\n",
       "    </tr>\n",
       "    <tr>\n",
       "      <th>...</th>\n",
       "      <td>...</td>\n",
       "    </tr>\n",
       "    <tr>\n",
       "      <th>2022-06-24</th>\n",
       "      <td>19096.081058</td>\n",
       "    </tr>\n",
       "    <tr>\n",
       "      <th>2022-06-27</th>\n",
       "      <td>19098.300677</td>\n",
       "    </tr>\n",
       "    <tr>\n",
       "      <th>2022-06-28</th>\n",
       "      <td>19133.634186</td>\n",
       "    </tr>\n",
       "    <tr>\n",
       "      <th>2022-06-29</th>\n",
       "      <td>19139.280756</td>\n",
       "    </tr>\n",
       "    <tr>\n",
       "      <th>2022-06-30</th>\n",
       "      <td>19142.798502</td>\n",
       "    </tr>\n",
       "  </tbody>\n",
       "</table>\n",
       "<p>652 rows × 1 columns</p>\n",
       "</div>"
      ],
      "text/plain": [
       "                   Close\n",
       "2020-01-01  13491.513821\n",
       "2020-01-02  13430.689603\n",
       "2020-01-03  13441.847802\n",
       "2020-01-06  13414.706156\n",
       "2020-01-07  13404.631396\n",
       "...                  ...\n",
       "2022-06-24  19096.081058\n",
       "2022-06-27  19098.300677\n",
       "2022-06-28  19133.634186\n",
       "2022-06-29  19139.280756\n",
       "2022-06-30  19142.798502\n",
       "\n",
       "[652 rows x 1 columns]"
      ]
     },
     "execution_count": 47,
     "metadata": {},
     "output_type": "execute_result"
    }
   ],
   "source": [
    "fh = list(range(1,653))\n",
    "# fh1 = pd.DatetimeIndex(np.array(test_data.index))\n",
    "# fh1\n",
    "test_predictionsEns = Ensmodel.predict(fh=fh)\n",
    "test_predictionsEns"
   ]
  },
  {
   "cell_type": "code",
   "execution_count": 48,
   "id": "494dd52b",
   "metadata": {},
   "outputs": [
    {
     "data": {
      "image/png": "[encoded data removed]"
     },
     "metadata": {},
     "output_type": "display_data"
    }
   ],
   "source": [
    "fig = go.Figure()\n",
    "\n",
    "fig.add_trace(go.Scatter(x=train_data.index, y=train_data['Close'], mode='lines', name='TRAIN'))\n",
    "fig.add_trace(go.Scatter(x=test_data.index, y=test_data['Close'], mode='lines', name='TEST'))\n",
    "fig.add_trace(go.Scatter(x=test_predictionsEns.index, y=test_predictionsEns['Close'], mode='lines', name='PREDICTION'))\n",
    "\n",
    "fig.update_layout(title_text='Forecast vs Actuals', title_x=0.5)\n",
    "fig.show()"
   ]
  },
  {
   "cell_type": "code",
   "execution_count": 49,
   "id": "24b79f15",
   "metadata": {},
   "outputs": [
    {
     "name": "stdout",
     "output_type": "stream",
     "text": [
      "Errors :-\n",
      "MSE :  2061669.8756665993\n",
      "RMSE :  1435.8516203516988 \n",
      "\n"
     ]
    },
    {
     "data": {
      "text/plain": [
       "(2061669.8756665993, 1435.8516203516988)"
      ]
     },
     "execution_count": 49,
     "metadata": {},
     "output_type": "execute_result"
    }
   ],
   "source": [
    "error(test_data['Close'],test_predictionsEns)"
   ]
  },
  {
   "cell_type": "code",
   "execution_count": null,
   "id": "ef5b22df",
   "metadata": {},
   "outputs": [],
   "source": []
  }
 ],
 "metadata": {
  "kernelspec": {
   "display_name": "Python 3 (ipykernel)",
   "language": "python",
   "name": "python3"
  },
  "language_info": {
   "codemirror_mode": {
    "name": "ipython",
    "version": 3
   },
   "file_extension": ".py",
   "mimetype": "text/x-python",
   "name": "python",
   "nbconvert_exporter": "python",
   "pygments_lexer": "ipython3",
   "version": "3.9.7"
  }
 },
 "nbformat": 4,
 "nbformat_minor": 5
}
